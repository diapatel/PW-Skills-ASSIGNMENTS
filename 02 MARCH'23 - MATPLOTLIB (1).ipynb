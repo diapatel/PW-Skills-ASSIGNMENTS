{
 "cells": [
  {
   "cell_type": "code",
   "execution_count": null,
   "id": "21edd82b",
   "metadata": {},
   "outputs": [],
   "source": [
    "import numpy as np\n",
    "import matplotlib.pyplot as plt"
   ]
  },
  {
   "cell_type": "markdown",
   "id": "e497b3aa",
   "metadata": {},
   "source": [
    "<b>QUESTION 1: </b>Q1: What is Matplotlib? Why is it used? Name five plots that can be plotted using the Pyplot module of Matplotlib.<br>\n",
    "<b>SOLUTION: </b>Matplotlib is a visualisation library for 2D plots in Python. It creats static, animated and interactive visualisations. It is popularly used because it is a multi-platform visualisation library built on NumPy arrays and works with broader SciPy stack. It was introduced by John Hunter in 2002.<br>\n",
    "It helps in visualing large amounts of data in easily digestible visuals.<br>\n",
    "\n",
    "Five plots that can be plotted using pyplot module are:<br>\n",
    "* scatter plot\n",
    "* bar graph\n",
    "* histogram\n",
    "* line chart\n",
    "* horizontal bar graph<br>"
   ]
  },
  {
   "cell_type": "code",
   "execution_count": null,
   "id": "814e03ec",
   "metadata": {},
   "outputs": [],
   "source": []
  },
  {
   "cell_type": "markdown",
   "id": "944ad59c",
   "metadata": {},
   "source": [
    "<b>QUESTION 2: </b>Q2: What is a scatter plot? Use the following code to generate data for x and y. Using this generated data to plot a scatter plot.<br>\n",
    "\n",
    "'''import numpy as np<br>\n",
    "np.random.seed(3)<br>\n",
    "x = 3 + np.random.normal(0, 2, 50)<br>\n",
    "y = 3 + np.random.normal(0, 2, len(x))'''<br>\n",
    "\n",
    "Note: Also add title, xlabel, and ylabel to the plot.<br>\n",
    "<b>SOLUTION: </b>A scatter plot is a graph/plot where data is represented by dots. It mainly plots 2 numerical values.\n",
    "It helps to understand the relationship between the two variables.<br>"
   ]
  },
  {
   "cell_type": "code",
   "execution_count": null,
   "id": "15ea1058",
   "metadata": {},
   "outputs": [],
   "source": [
    "import numpy as np\n",
    "np.random.seed(3)\n",
    "x = 3 + np.random.normal(0, 2, 50)\n",
    "y = 3 + np.random.normal(0, 2, len(x))\n",
    "\n",
    "ax = plt.scatter(x,y, c='#ba0486')\n",
    "plt.xlabel('x-axis')\n",
    "plt.ylabel('y-axis')\n",
    "plt.title('A Scatter Plot')\n",
    "plt.show()"
   ]
  },
  {
   "cell_type": "code",
   "execution_count": null,
   "id": "076f1fc2",
   "metadata": {},
   "outputs": [],
   "source": []
  },
  {
   "cell_type": "markdown",
   "id": "beb7feb7",
   "metadata": {},
   "source": [
    "<b>QUESTION 3: </b>Q3: Why is the subplot() function used? Draw four line plots using the subplot() function.\n",
    "Use the following data:<br>\n",
    "    \n",
    "import numpy as np<br>\n",
    "For line 1: x = np.array([0, 1, 2, 3, 4, 5]) and y = np.array([0, 100, 200, 300, 400, 500])<br>\n",
    "For line 2: x = np.array([0, 1, 2, 3, 4, 5]) and y = np.array([50, 20, 40, 20, 60, 70])<br>\n",
    "For line 3: x = np.array([0, 1, 2, 3, 4, 5]) and y = np.array([10, 20, 30, 40, 50, 60])<br>\n",
    "For line 4: x = np.array([0, 1, 2, 3, 4, 5])  and y = np.array([200, 350, 250, 550, 450, 150])<br>\n",
    "    \n",
    "<b>SOLUTION: </b>The subplot() function is used to plot multiple plots together side-by-side.<br>"
   ]
  },
  {
   "cell_type": "code",
   "execution_count": null,
   "id": "44a32d75",
   "metadata": {},
   "outputs": [],
   "source": [
    "l1_x = np.array([0, 1, 2, 3, 4, 5])\n",
    "l1_y = np.array([0, 100, 200, 300, 400, 500])\n",
    "\n",
    "l2_x = np.array([0, 1, 2, 3, 4, 5])\n",
    "l2_y = np.array([50, 20, 40, 20, 60, 70])\n",
    "\n",
    "l3_x = np.array([0, 1, 2, 3, 4, 5])\n",
    "l3_y = np.array([10, 20, 30, 40, 50, 60])\n",
    "\n",
    "l4_x = np.array([0, 1, 2, 3, 4, 5])\n",
    "l4_y = np.array([200, 350, 250, 550, 450, 150])\n",
    "\n",
    "#creating a figure object\n",
    "plt.figure()\n",
    "\n",
    "#plotting line 1\n",
    "plt.subplot(2,2,1)\n",
    "plt.plot(l1_x,l2_x, c='#c6a309')\n",
    "plt.title('Line 1')\n",
    "\n",
    "#plotting line 2\n",
    "plt.subplot(2,2,2)\n",
    "plt.plot(l2_x,l2_y, c='#16c609')\n",
    "plt.title('Line 2')\n",
    "\n",
    "\n",
    "#plotting line 3\n",
    "plt.subplot(2,2,3)\n",
    "plt.plot(l3_x,l3_y, c='#097fc6')\n",
    "plt.title('Line 3')\n",
    "\n",
    "\n",
    "#plotting line 4\n",
    "plt.subplot(2,2,4)\n",
    "plt.plot(l4_x,l4_y, c='#b209c6')\n",
    "plt.title('Line 4')\n",
    "\n",
    "plt.show()"
   ]
  },
  {
   "cell_type": "code",
   "execution_count": null,
   "id": "0c54a78f",
   "metadata": {},
   "outputs": [],
   "source": []
  },
  {
   "cell_type": "markdown",
   "id": "a5e367c5",
   "metadata": {},
   "source": [
    "<b>QUESTION 4: </b>Q4: What is a bar plot? Why is it used? Using the following data plot a bar plot and a horizontal bar plot.\n",
    "\n",
    "import numpy as np<br>\n",
    "company = np.array([\"Apple\", \"Microsoft\", \"Google\", \"AMD\"])<br>\n",
    "profit = np.array([3000, 8000, 1000, 10000])<br>\n",
    "\n",
    "<b>SOLUTION: </b>A bar graph is a kind of graph where the x-axis consists of the data labels and the y-axis has the data values or frequency. The length of the bars is equivalent to the frequency of the data value.<br>\n",
    "It is used when different categories of data have to be compared. for instance, in the example given here, the profits of different companies are being compared."
   ]
  },
  {
   "cell_type": "code",
   "execution_count": null,
   "id": "695f3478",
   "metadata": {},
   "outputs": [],
   "source": [
    "company = np.array(['Apple','Microsoft','Google','AMD'])\n",
    "profit = np.array([3000,8000,1000,10000])"
   ]
  },
  {
   "cell_type": "code",
   "execution_count": null,
   "id": "820900e2",
   "metadata": {},
   "outputs": [],
   "source": [
    "#BAR PLOT\n",
    "ax = plt.bar(company,profit, color='#b209c6')\n",
    "plt.xlabel('Company')\n",
    "plt.ylabel('Profit')\n",
    "plt.title('Company v/s Profit')\n",
    "plt.show()"
   ]
  },
  {
   "cell_type": "code",
   "execution_count": null,
   "id": "6303f829",
   "metadata": {},
   "outputs": [],
   "source": [
    "ax = plt.barh(company,profit)\n",
    "plt.title('Company v/s profit')\n",
    "plt.show()"
   ]
  },
  {
   "cell_type": "code",
   "execution_count": null,
   "id": "10c78837",
   "metadata": {},
   "outputs": [],
   "source": []
  },
  {
   "cell_type": "markdown",
   "id": "ca99c084",
   "metadata": {},
   "source": [
    "<b>QUESTION 5: </b>What is a box plot? Why is it used? Use the following data plot a box plot.\n",
    "    \n",
    "box1 = np.random.normal(100, 10, 200)<br>\n",
    "box2 = np.random.normal(90, 20, 200)<br>\n",
    "<b>SOLUTION: </b>A box plot is a graphical representation of a dataset. It consists of whiskers and a box. The smallest value of the dataset is on one  end, the maximum value is on the other end. One end of the box represents the first quartile, the other end represents the third quartile and a line in the box represents the median.<br>\n",
    "\n",
    "It is used to visualise how the data is spread and check for any potential outliers.<br>"
   ]
  },
  {
   "cell_type": "code",
   "execution_count": null,
   "id": "f8c57e54",
   "metadata": {},
   "outputs": [],
   "source": [
    "box1  = np.random.normal(100,10,200)\n",
    "box2 = np.random.normal(90,20,200)\n",
    "\n",
    "#PLOTTING BOX1\n",
    "ax = plt.boxplot(box1)\n",
    "plt.title('Box1')\n",
    "plt.show()"
   ]
  },
  {
   "cell_type": "code",
   "execution_count": null,
   "id": "8306321c",
   "metadata": {},
   "outputs": [],
   "source": [
    "#PLOTTING BOX2\n",
    "ax = plt.boxplot(box2)\n",
    "plt.title('Box2')\n",
    "plt.show()"
   ]
  }
 ],
 "metadata": {
  "kernelspec": {
   "display_name": "Python 3 (ipykernel)",
   "language": "python",
   "name": "python3"
  },
  "language_info": {
   "codemirror_mode": {
    "name": "ipython",
    "version": 3
   },
   "file_extension": ".py",
   "mimetype": "text/x-python",
   "name": "python",
   "nbconvert_exporter": "python",
   "pygments_lexer": "ipython3",
   "version": "3.9.13"
  }
 },
 "nbformat": 4,
 "nbformat_minor": 5
}
