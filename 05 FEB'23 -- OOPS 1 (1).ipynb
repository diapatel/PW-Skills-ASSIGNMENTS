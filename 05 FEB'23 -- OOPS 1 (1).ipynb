{
 "cells": [
  {
   "cell_type": "markdown",
   "id": "eaf1397f",
   "metadata": {},
   "source": [
    "<b>QUESTION 1:</b> Explain Class and Object with respect to Object-Oriented Programming. Give a suitable example.<br>\n",
    "<b>SOLUTION:</b>A Class is a blueprint or a template for creating objects. It helps in bundling data and functionality together.\n",
    "An object is an instance of class.<br>\n",
    "\n",
    "Example: For creating a car, a company first needs to create its blueprint, i.e. the basic design of the car which may include the number of wheels, the type of engine, number of airbags and other fundamental features of a car.<br>\n",
    "Then, the company can create a number of cars based on that design. These cars are the object of the class Car."
   ]
  },
  {
   "cell_type": "code",
   "execution_count": null,
   "id": "d9ae75fb",
   "metadata": {},
   "outputs": [],
   "source": [
    "#creating a class Car\n",
    "\n",
    "class Car:\n",
    "    \n",
    "    def __init__(self, color, number_of_seats, cost):\n",
    "        self.color = color\n",
    "        self.number_of_seats = number_of_seats\n",
    "        self.cost = cost\n",
    "        \n",
    "#creating two objects of the class Car        \n",
    "car1 = Car('blue',4,100000)\n",
    "car2 = Car('red',6,150000)"
   ]
  },
  {
   "cell_type": "code",
   "execution_count": null,
   "id": "ee895ec1",
   "metadata": {},
   "outputs": [],
   "source": []
  },
  {
   "cell_type": "markdown",
   "id": "f6ce025f",
   "metadata": {},
   "source": [
    "<b>QUESTION 2: </b>. Name the four pillars of OOPs.<br>\n",
    "\n",
    "<b>SOLUTION:</b><br>1.Polymorphism<br>\n",
    "2.Inheritance<br>\n",
    "3.Encapsulation<br>\n",
    "4.Abstraction<br>"
   ]
  },
  {
   "cell_type": "code",
   "execution_count": null,
   "id": "03868eb4",
   "metadata": {},
   "outputs": [],
   "source": []
  },
  {
   "cell_type": "markdown",
   "id": "7bc8d654",
   "metadata": {},
   "source": [
    "<b>QUESTION 3:</b> Explain why the __init__() function is used. Give a suitable example.<br>\n",
    "<b>SOLUTION:</b><br>\n",
    "The init method called a constructor. It is called whenever a new object is created from a class and it allows the class to initiate the attributes of a class."
   ]
  },
  {
   "cell_type": "code",
   "execution_count": null,
   "id": "a4a80c3e",
   "metadata": {},
   "outputs": [],
   "source": [
    "class Rectangle:\n",
    "    \n",
    "    def __init__(self, length, breadth):\n",
    "        self.length = length\n",
    "        self.breadth = breadth\n",
    "        \n",
    "    def get_area(self):\n",
    "        return (self.length  * self.breadth)\n",
    "    \n",
    "#creating an object of class Rectangle\n",
    "r1 = Rectangle(10,20)\n",
    "print(f\"Area of rectangle r1: {r1.get_area()} square units\")"
   ]
  },
  {
   "cell_type": "code",
   "execution_count": null,
   "id": "cb231347",
   "metadata": {},
   "outputs": [],
   "source": []
  },
  {
   "cell_type": "markdown",
   "id": "8a513719",
   "metadata": {},
   "source": [
    "<b> QUESTION3: </b>Why self is used in OOPs?<br>\n",
    "<b> SOLUTION: </b>\n",
    "self represents an instance of a class. By using self, we can access the methods and attributes of a class in Python. We can also use some other word instead of 'self'."
   ]
  },
  {
   "cell_type": "code",
   "execution_count": null,
   "id": "87b59f1d",
   "metadata": {},
   "outputs": [],
   "source": []
  },
  {
   "cell_type": "markdown",
   "id": "77e09bed",
   "metadata": {},
   "source": [
    "<b>QUESTION 5: </b>. What is inheritance? Give an example for each type of inheritance.<br>\n",
    "<b>SOLUTION: </b>\n",
    "Inheritance allows us to create a class which has all the methods and properties of another class.<br>\n",
    "* PARENT CLASS is the class which is being inherited, also called the Base class.\n",
    "* CHILD CLASS is the class which inherites from another class, also called the Derived Class.\n",
    "\n",
    "(code showing each kind of inheritance are below)\n",
    "* <b>TYPES OF INHERITANCE ARE:</b><br>\n",
    "1. SINGLE INHERITANCE: This type of inheritance enables the derived class to inherit properties from a single parent class, thus allowing code reusability and adding new features to the existing code. \n",
    "\n",
    "2. MULTIPLE INHERITANCE: When a class inherites properites and methods from multiple class, it is called Multiple Inheritance.\n",
    "\n",
    "3. MULTILEVEL INHERITANCE: In this type of inheritance, the features of the parent class and its child class are further inherited by a new derived class. It is analogous to a grandfather and grandchild relationship. Here, parent class is the grandfather and the new derived class is its grandchild.\n",
    "\n",
    "4. HIERARCHICAL INHERITANCE: When more than one class are derived from a single parent class, it is called Hierarchical Inheritance.\n",
    "\n",
    "5. HYBRID INHERITANCE: Inheritance consisting of multiple types of Inheritance is called Hybrid Inheritance.\n",
    "                                                                     "
   ]
  },
  {
   "cell_type": "code",
   "execution_count": null,
   "id": "59f0a54c",
   "metadata": {
    "scrolled": true
   },
   "outputs": [],
   "source": [
    " #SINGLE INHERITANCE \n",
    "\n",
    "class Parent:\n",
    "    def func1(self):\n",
    "        print(\"This function is in Parent class.\")\n",
    "        \n",
    "class Child(Parent):\n",
    "    def func2(self):\n",
    "        print(\"This function is in Child class\")\n",
    "        \n",
    "#creating an object of child class\n",
    "obj = Child()\n",
    "obj.func1()\n",
    "obj.func2()\n",
    "\n",
    "#we can see here that though func1 is not specifically defined in the Child class, its object is \n",
    "#able to access it because Child class has inherited func1 from Parent class."
   ]
  },
  {
   "cell_type": "code",
   "execution_count": null,
   "id": "dc5f1d37",
   "metadata": {},
   "outputs": [],
   "source": []
  },
  {
   "cell_type": "code",
   "execution_count": null,
   "id": "78918b80",
   "metadata": {},
   "outputs": [],
   "source": [
    "#MULTIPLE INHERITANCE\n",
    "\n",
    "#base class 1\n",
    "class Mother:\n",
    "    mothername = ''\n",
    "    \n",
    "    def mother(self):\n",
    "        print(self.mothername)\n",
    "        \n",
    "#base class 2\n",
    "class Father:\n",
    "    fathername = ''\n",
    "    \n",
    "    def father(self):\n",
    "        print(self.fathername)\n",
    "        \n",
    "#derived class - inherits from both Mother and Father classes        \n",
    "class Son(Mother,Father):\n",
    "    def parents(self):\n",
    "        print(f\"Father: {self.fathername}\")\n",
    "        print(f\"Mother: {self.mothername}\")\n",
    "        \n",
    "obj = Son()\n",
    "obj.mothername = 'Ramona'\n",
    "obj.fathername = 'Logan'\n",
    "obj.parents()"
   ]
  },
  {
   "cell_type": "code",
   "execution_count": null,
   "id": "4e139a98",
   "metadata": {},
   "outputs": [],
   "source": []
  },
  {
   "cell_type": "code",
   "execution_count": null,
   "id": "b189c6e5",
   "metadata": {},
   "outputs": [],
   "source": [
    "#MULTILEVEL INHERITANCE\n",
    "\n",
    "class Grandfather:\n",
    "    def __init__(self, grandfathername):\n",
    "        self.grandfathername = grandfathername\n",
    "        \n",
    "class Father(Grandfather):\n",
    "    def __init__(self, fathername, grandfathername):\n",
    "        self.fathername  = fathername\n",
    "        \n",
    "        #invoking constructor of Grandfather class\n",
    "        Grandfather.__init__(self, grandfathername)\n",
    "        \n",
    "        \n",
    "class Son(Father):\n",
    "    def __init__(self, sonname, fathername, grandfathername):\n",
    "        self.sonname = sonname\n",
    "        \n",
    "        #invoking the constructor of Father class\n",
    "        Father.__init__(self,fathername, grandfathername)\n",
    "        \n",
    "    def print_name(self):\n",
    "        print(f\"Grandfather: {self.grandfathername}\")\n",
    "        print(f\"Father: {self.fathername}\")\n",
    "        print(f\"Son: {self.sonname}\")\n",
    "\n",
    "            \n",
    "            \n",
    "#Driver code\n",
    "son = Son('Ren', 'Edward', 'Carlisle')\n",
    "son.print_name()\n"
   ]
  },
  {
   "cell_type": "code",
   "execution_count": null,
   "id": "cd233976",
   "metadata": {},
   "outputs": [],
   "source": []
  },
  {
   "cell_type": "code",
   "execution_count": null,
   "id": "11cf19de",
   "metadata": {},
   "outputs": [],
   "source": [
    "#HIERARCHICAL INHERITANCE\n",
    "\n",
    "class Parent:\n",
    "    def func_P(self):\n",
    "        print(\"This function is in Parent class.\")\n",
    "\n",
    "#class derived from parent\n",
    "class Child1(Parent):\n",
    "    def func_C1(self):\n",
    "        print(\"This function is in Child 1.\")\n",
    "\n",
    "#another class derived from Parent class\n",
    "class Child2(Parent):\n",
    "    def func_C2(self):\n",
    "        print(\"This function is in Child 2.\")\n",
    "        \n",
    "\n",
    "#Driver code\n",
    "object1 = Child1()\n",
    "object2 = Child2()\n",
    "\n",
    "object1.func_P()\n",
    "object1.func_C1()\n",
    "\n",
    "object2.func_P()\n",
    "object2.func_C2()"
   ]
  },
  {
   "cell_type": "code",
   "execution_count": null,
   "id": "abf7247b",
   "metadata": {},
   "outputs": [],
   "source": []
  },
  {
   "cell_type": "code",
   "execution_count": null,
   "id": "7b35c012",
   "metadata": {},
   "outputs": [],
   "source": [
    "#HYBRID INHERITANCE\n",
    "\n",
    "class School:\n",
    "    def func1(self):\n",
    "        print(\"This function is in School.\")\n",
    "        \n",
    "        \n",
    "class Student1(School):\n",
    "    def func2(self):\n",
    "        print(\"This function is in Student1.\")\n",
    "        \n",
    "class Student2(School):\n",
    "    def func3(self):\n",
    "        print(\"This function is in Student2.\")\n",
    "        \n",
    "        \n",
    "class Student3(Student1, School):\n",
    "    def func4(self):\n",
    "        print(\"This function is in Student3.\")\n",
    "        \n",
    "        \n",
    "obj = Student3()\n",
    "obj.func1()\n",
    "obj.func2()"
   ]
  }
 ],
 "metadata": {
  "kernelspec": {
   "display_name": "Python 3 (ipykernel)",
   "language": "python",
   "name": "python3"
  },
  "language_info": {
   "codemirror_mode": {
    "name": "ipython",
    "version": 3
   },
   "file_extension": ".py",
   "mimetype": "text/x-python",
   "name": "python",
   "nbconvert_exporter": "python",
   "pygments_lexer": "ipython3",
   "version": "3.9.13"
  }
 },
 "nbformat": 4,
 "nbformat_minor": 5
}
