{
 "cells": [
  {
   "cell_type": "markdown",
   "id": "c631b89d",
   "metadata": {},
   "source": [
    "<b>QUESTION 1: </b>What is Statistics? <br>\n",
    "<b>SOLUTION</b>Statistics is the science of collecting, analyzing and interpreting data.<br>"
   ]
  },
  {
   "cell_type": "code",
   "execution_count": null,
   "id": "d9034a80",
   "metadata": {},
   "outputs": [],
   "source": []
  },
  {
   "cell_type": "markdown",
   "id": "dd1d2eac",
   "metadata": {},
   "source": [
    "<b>QUESTION 2: </b>Define the different types of statistics and give an example of when each might be used.<br>\n",
    "<b>SOLUTION</b>There are two types of Statistics:<br>\n",
    "Descriptive statistics and Inferential statistics.<br>\n",
    "\n",
    "<b>DESCRIPTIVE STATISTICS</b><br>\n",
    "* This branch of statistics deals with collecting, organizing and summarizing data.\n",
    "* This is used when data has to be explored for understanding purposes only. \n",
    "For instance, a teacher teaching a class of 40 students might analyze the test scores of all the students to understand the progress of each student adn their understanding of the topic they were tested on. <br>\n",
    "\n",
    "<b>INFERENTIAL STATISTICS</b><br>\n",
    "* This branch of statistics deals with analyzing data, interpreting data and drawing conclusions from it. The conclusions drawn by analyzing a sample might be extrapolated to make decisions regarding the population.\n",
    "* This is used when decisions have to be made or opinions have to be formed regarding entire populations.\n",
    "For instance, in case of Exit polls, various samples of people are asked what party they have voted for and based on this data, it is predicted which political party the voters will most likely vote for."
   ]
  },
  {
   "cell_type": "code",
   "execution_count": null,
   "id": "d4c2bcf5",
   "metadata": {},
   "outputs": [],
   "source": []
  },
  {
   "cell_type": "markdown",
   "id": "a75230d5",
   "metadata": {},
   "source": [
    "<b>QUESTION 3: </b>What are the different types of data and how do they differ from each other? Provide an example of each type of data.<br>\n",
    "<b>SOLUTION</b>The two types of data are Qualitative data and Quantitative data.<br>\n",
    "\n",
    "<b>QUALITATIVE DATA</b>.<br>\n",
    "* this type of data describes the characteristics of object under study..<br>\n",
    "EXAMPLE: the eye color of a person, the blood group of a person.<br>\n",
    "\n",
    "<b>QUANTITATIVE DATA</b>.<br>\n",
    "* This kind of data consists of the measurements or numerical records of the parameters under study.\n",
    "* Mathematical operations make sense here..<br>\n",
    "EXAMPLE: the height of a person, average speed of a vehicle..<br>\n",
    "* Quantitative data is further classified into Discrete and Continuous data."
   ]
  },
  {
   "cell_type": "code",
   "execution_count": null,
   "id": "59125ae5",
   "metadata": {},
   "outputs": [],
   "source": []
  },
  {
   "cell_type": "markdown",
   "id": "ddcd02c6",
   "metadata": {},
   "source": [
    "<b>QUESTION 4: </b>Categorise the following datasets with respect to quantitative and qualitative data types:<br>\n",
    "(i) Grading in exam: A+, A, B+, B, C+, C, D, E<br>\n",
    "(ii) Colour of mangoes: yellow, green, orange, red<br>\n",
    "(iii) Height data of a class: [178.9, 179, 179.5, 176, 177.2, 178.3, 175.8,...]<br>\n",
    "(iv) Number of mangoes exported by a farm: [500, 600, 478, 672, ...]<br>\n",
    "<b>SOLUTION: </b>\n",
    "(i) Qualitative<br>\n",
    "(ii) Qualitative<br>\n",
    "(iii)Continuous Quantitative data<br>\n",
    "(iv)Discrete Quantitative data<br>"
   ]
  },
  {
   "cell_type": "code",
   "execution_count": null,
   "id": "f64694d8",
   "metadata": {},
   "outputs": [],
   "source": []
  },
  {
   "cell_type": "markdown",
   "id": "0353178c",
   "metadata": {},
   "source": [
    "<b>QUESTION 5: </b>Explain the concept of levels of measurement and give an example of a variable for each level.<br>\n",
    "<b>SOLUTION: </b>\n",
    "<b>NOMINAL LEVEL OF MEASUREMENT:</b><br>\n",
    "* The data at this level of measurement only has labels or categories.\n",
    "* the data cannot be ranked.<br>\n",
    "EXAMPLE: blood group of people, gender <br>\n",
    "<br>\n",
    "\n",
    "<b>ORDINAL LEVEL OF MEASUREMENT:</b><br>\n",
    "* the data at this level of measurement satisfies the nominal level of measurement and can be ranked.\n",
    "* mathematical operations make no sense here.<br>\n",
    "EXAMPLE: A restaurant asks their customers to review their service as Bad, Good or Excellent.<br>\n",
    "The data generated from this survey will satisfy the Nominal scale because it has 3 different categories or labels, and it also satisfies the Ordinal scale because, the categories can be ranked as Excellent being better than Good and Good being better than Bad.(Bad < Good < Excellent)<br>\n",
    "\n",
    "\n",
    "<b>INTERVAL LEVEL OF MEASUREMENT:</b><br>\n",
    "* the data at this level of measurement already satisfies the Nominal and ordinal scales of measurement.\n",
    "* data here is numerical and mathematical operations like addition and subtraction make sense.\n",
    "* there is no natural zero present.<br>\n",
    "\n",
    "EXAMPLE: Temperature. Addition and subtraction of temperature makes sense. But there is no natural zero present meaning, when we say 0 degree Celsius, we do not mean that heat or cold is not present , we merely mean that the temperature of the region is zero based on the Celsius scale.<br>\n",
    "\n",
    "<b>RATIO LEVEL OF MEASUREMENT:</b><br>\n",
    "* the data at this level of measurement already satisfies the Nominal, Ordinal and Interval scales of measurement. \n",
    "* Ratio of the data values makes sense\n",
    "* Natural zero is present.\n",
    "\n",
    "EXAMPLE: Weights of people. When we find out the ratio of weights of 2 people, we can know who is heavier and by how many times. A natural zero is present here, meaning, if we say that weight is zero, there is no one standing on the weighing scale and hence, the weight is zero.<br>"
   ]
  },
  {
   "cell_type": "code",
   "execution_count": null,
   "id": "7a77f029",
   "metadata": {},
   "outputs": [],
   "source": []
  },
  {
   "cell_type": "markdown",
   "id": "076fe0eb",
   "metadata": {},
   "source": [
    "<b>QUESTION 6: </b>Why is it important to understand the level of measurement when analyzing data? Provide an example to illustrate your answer.<br>\n",
    "<b>SOLUTION: </b>It is important to understand the level of measurement of data when analyzing it because it will tell us how to analyze it.<br>\n",
    "For instance, if the data is about the skin color of people, then it makes no sense to perform mathematical operations on it or ordering it in a particular way, because it is of Nominal type and hence cannot be ordered or mathematically analyzed.<br>\n",
    "\n",
    "* Also, it helps in determining which statistical methods to use.\n",
    "* It also affects how the results are interpreted."
   ]
  },
  {
   "cell_type": "code",
   "execution_count": null,
   "id": "5a39f903",
   "metadata": {},
   "outputs": [],
   "source": []
  },
  {
   "cell_type": "markdown",
   "id": "7e4acc47",
   "metadata": {},
   "source": [
    "<b>QUESTION 7: </b> How nominal data type is different from ordinal data type.<br>\n",
    "<b>SOLUTION</b>Though both Nominal and Ordinal data have categorical data, the categories in Nominal data cannot be ranked whereas the categories in Ordinal data can be ordered or ranked.<br>"
   ]
  },
  {
   "cell_type": "code",
   "execution_count": null,
   "id": "a1a68e83",
   "metadata": {},
   "outputs": [],
   "source": []
  },
  {
   "cell_type": "markdown",
   "id": "59726740",
   "metadata": {},
   "source": [
    "<b>QUESTION 8: </b> Which type of plot can be used to display data in terms of range?<br>\n",
    "<b>SOLUTION: </b>Boxplot.<br>"
   ]
  },
  {
   "cell_type": "code",
   "execution_count": null,
   "id": "9237fae3",
   "metadata": {},
   "outputs": [],
   "source": []
  },
  {
   "cell_type": "markdown",
   "id": "bb321110",
   "metadata": {},
   "source": [
    "<b>QUESTION 9: </b>Describe the difference between descriptive and inferential statistics. Give an example of each type of statistics and explain how they are used.<br>\n",
    "<b>SOLUTION</b>\n",
    "* Descriptive statistics deals with collecting, organizing and summarizing data whereas Inferential statistics deals with analyzing data and drawing conclusions from it.\n",
    "\n",
    "* Descriptive statistics can be performed on sample or population but Inferential statistics is majorly performed on sample since, analysis of entire population is mostly impossible.\n",
    "\n",
    "* Descriptive statistics is performed when data is being studied for exploratory purposes only. whereas Inferential statistics is performed when decisions regarding the populations have to be made after extrapolating the conclusions made from sample analysis.\n",
    "\n",
    "\n",
    "EXAMPLE: Say there weights of 40 poeple enrolled in a weight loss program have been collected for a month. If this data is studied just to understand the effects of the program on people's weight, then it is called Descriptive Studies. But when conclusions drawn from this data are used to make changes in the program and the techniques used in it and also to modify other people's routine as well, then it is Inferential Statistics <br>"
   ]
  },
  {
   "cell_type": "code",
   "execution_count": null,
   "id": "2542afa6",
   "metadata": {},
   "outputs": [],
   "source": []
  },
  {
   "cell_type": "markdown",
   "id": "9d2a74df",
   "metadata": {},
   "source": [
    "<b>QUESTION 10: </b>What are some common measures of central tendency and variability used in statistics? Explain how each measure can be used to describe a dataset.<br>\n",
    "<b>SOLUTION</b><br>\n",
    "\n",
    "<b>MEASURES OF CENTRAL TENDENCY: </b><br>\n",
    "1. MEAN: It is the arithmetic mean or average of the data values of the dataset.<br>\n",
    "      Use: It tells us what is the average value that falls in the dataset.<br>\n",
    "      \n",
    "2. MEDIAN: It is the middlemost value of a sorted dataset.<br>\n",
    "      Use: This tells us how the data values are arranged in the dataset, that is , how many values are above the median, and how many values below it.<br>\n",
    "      \n",
    "3. MODE: It is the most frequently data value in a dataset.<br>\n",
    "     Use: It tells us which value occurs the most in the dataset.<br>\n",
    "     \n",
    "   \n",
    "   \n",
    "<b>MEASURES OF VARIATION: </b><br>\n",
    "1. RANGE: It is the differece between the maximum and the minimum values of the dataset.<br>\n",
    "     Use: It tells us about the range or the diversity of the values that we can find in a dataset.<br>\n",
    "     \n",
    "2. STANDARD DEVIATION: It tells us about the spread or variation in data. <br>\n",
    "     Use: It gives us information about the shape of the distribution and if or not there are any potential outliers in the dataset.<br>\n",
    "     \n",
    "3. VARIANCE: It is the square of Standard deviation.<br>\n",
    "      Use: It gives us information about the spread of the data.<br>\n",
    "      \n",
    "4. INTERQUARTILE RANGE: It is the difference between Q3 and Q1. <br>\n",
    "     Use: It gives us information about the distribution of data values within the quartiles.<br>"
   ]
  },
  {
   "cell_type": "code",
   "execution_count": null,
   "id": "b9617133",
   "metadata": {},
   "outputs": [],
   "source": []
  },
  {
   "cell_type": "code",
   "execution_count": null,
   "id": "0fc65643",
   "metadata": {},
   "outputs": [],
   "source": []
  }
 ],
 "metadata": {
  "kernelspec": {
   "display_name": "Python 3 (ipykernel)",
   "language": "python",
   "name": "python3"
  },
  "language_info": {
   "codemirror_mode": {
    "name": "ipython",
    "version": 3
   },
   "file_extension": ".py",
   "mimetype": "text/x-python",
   "name": "python",
   "nbconvert_exporter": "python",
   "pygments_lexer": "ipython3",
   "version": "3.9.13"
  }
 },
 "nbformat": 4,
 "nbformat_minor": 5
}
