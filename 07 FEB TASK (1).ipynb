{
 "cells": [
  {
   "cell_type": "markdown",
   "id": "59e87cbb",
   "metadata": {},
   "source": [
    "Q1. You are writing code for a company. The requirement of the company is that you create a python\n",
    "function that will check whether the password entered by the user is correct or not. The function should\n",
    "take the password as input and return the string “Valid Password” if the entered password follows the\n",
    "below-given password guidelines else it should return “Invalid Password”.<br>\n",
    "Note:\n",
    "1. The Password should contain at least two uppercase letters and at least two lowercase letters.<br>\n",
    "2. The Password should contain at least a number and three special characters.<br>\n",
    "3. The length of the password should be 10 characters long.<br>\n",
    "\n"
   ]
  },
  {
   "cell_type": "code",
   "execution_count": null,
   "id": "637f1fb7",
   "metadata": {},
   "outputs": [],
   "source": [
    "user_input = input(\"Enter your password: \")\n",
    "\n",
    "\n",
    "def upperAndLower(password,limit):\n",
    "    '''takes a string and a number as inputs. returns True if there is desired number of upper and lower case letters.'''\n",
    "    upper = 0\n",
    "    lower = 0\n",
    "    for char in password:\n",
    "        if char.isalpha():\n",
    "            if char.isupper():\n",
    "                upper += 1\n",
    "\n",
    "            elif char.islower():\n",
    "                lower += 1\n",
    "                \n",
    "    if upper >= limit and lower >= limit:\n",
    "        return True\n",
    "    \n",
    "\n",
    "def numbers(password,limit):\n",
    "    '''takes a string and a number as an input. returns True if the string has desired number of numeric characters.'''\n",
    "    num = 0\n",
    "    \n",
    "    numbers = [x for x in range(0,10)]\n",
    "    string_of_numbers = list(map(lambda x: str(x),numbers))\n",
    "    \n",
    "    while num < limit:\n",
    "        for char in password:\n",
    "            if char in string_of_numbers:\n",
    "                num += 1\n",
    "            \n",
    "    if num >= limit:\n",
    "        return True\n",
    "    \n",
    "def specialCharacters(password,limit):\n",
    "    '''takes a string and a number as an input. returns True if the string has desired number of special characters'''\n",
    "    special_chars = 0\n",
    "    \n",
    "    for char in password:\n",
    "        if not char.isalnum() and char != ' ':\n",
    "            special_chars += 1\n",
    "    \n",
    "    if special_chars >= limit:\n",
    "        return True\n",
    "    \n",
    "    \n",
    "def isValid(password):\n",
    "    '''takes a string as an input. returns True if the string has desired numbers of upper and lower case letters,\n",
    "    special characters and numeric characters.'''\n",
    "    if len(password) == 10:\n",
    "        if upperAndLower(password,2) and  numbers(password,1) and specialCharacters(password,2):\n",
    "            print('Valid Password')\n",
    "    else:\n",
    "        print('Invalid Password')\n",
    "               \n",
    "        \n",
    "        \n",
    "isValid(user_input)        "
   ]
  },
  {
   "cell_type": "code",
   "execution_count": null,
   "id": "77a943b2",
   "metadata": {},
   "outputs": [],
   "source": []
  },
  {
   "cell_type": "markdown",
   "id": "f26e5012",
   "metadata": {},
   "source": [
    "Q2. Solve the below-given questions using at least one of the following:<br>\n",
    "1. Lambda function<br>\n",
    "2. Filter function<br>\n",
    "3. Map function<br>\n",
    "4. List Comprehension\n",
    "* Check if the string starts with a particular letter.<br>\n",
    "* Check if the string is numeric.<br>\n",
    "* Sort a list of tuples having fruit names and their quantity. [(\"mango\",99),(\"orange\",80), (\"grapes\", 1000)-<br>\n",
    "* Find the squares of numbers from 1 to 10.<br>\n",
    "* Find the cube root of numbers from 1 to 10.<br><br>\n",
    "* Check if a given number is even.<br>\n",
    "* Filter odd numbers from the given list.<br>\n",
    "[1,2,3,4,5,6,7,8,9,10]<br>\n",
    "* Sort a list of integers into positive and negative integers lists.<br>\n",
    "[1,2,3,4,5,6,-1,-2,-3,-4,-5,0]"
   ]
  },
  {
   "cell_type": "code",
   "execution_count": null,
   "id": "77e42c32",
   "metadata": {},
   "outputs": [],
   "source": [
    "#takes a letter and a string from the user as an input\n",
    "#checks if the string starts with that letter\n",
    "\n",
    "string = input(\"Enter the string: \").lower()\n",
    "letter = input(\"Enter the letter: \").lower()\n",
    "\n",
    " \n",
    "\n",
    "if string.startswith(letter):\n",
    "    print(f\"{string} starts with the letter {letter}.\")\n",
    "else:\n",
    "    print(f\"{string} does not start with the letter {letter}.\")"
   ]
  },
  {
   "cell_type": "code",
   "execution_count": null,
   "id": "d9b60ce1",
   "metadata": {},
   "outputs": [],
   "source": []
  },
  {
   "cell_type": "code",
   "execution_count": null,
   "id": "e3ae5311",
   "metadata": {},
   "outputs": [],
   "source": [
    "#check if the string is numeric\n",
    "\n",
    "string = input(\"Enter a string: \")\n",
    "is_numeric = 'Is numeric' if string.isdigit() else 'Is not numeric'\n",
    "print(is_numeric)"
   ]
  },
  {
   "cell_type": "code",
   "execution_count": null,
   "id": "b6bef30f",
   "metadata": {},
   "outputs": [],
   "source": []
  },
  {
   "cell_type": "code",
   "execution_count": null,
   "id": "5d92df1b",
   "metadata": {},
   "outputs": [],
   "source": [
    "fruits = [(\"mango\",99),(\"orange\",80), (\"grapes\", 1000)]\n",
    "\n",
    "fruits.sort(key = lambda x: x[1])\n",
    "print(fruits)"
   ]
  },
  {
   "cell_type": "code",
   "execution_count": null,
   "id": "78722bfe",
   "metadata": {},
   "outputs": [],
   "source": []
  },
  {
   "cell_type": "code",
   "execution_count": null,
   "id": "82307dfb",
   "metadata": {},
   "outputs": [],
   "source": [
    "l1 = [1,2,3,4,5,6,7,8,9,10]\n",
    "squares = list(map(lambda x: x**2,l1))\n",
    "print(squares)"
   ]
  },
  {
   "cell_type": "code",
   "execution_count": null,
   "id": "67d14c92",
   "metadata": {},
   "outputs": [],
   "source": []
  },
  {
   "cell_type": "code",
   "execution_count": null,
   "id": "bf2d6d1d",
   "metadata": {},
   "outputs": [],
   "source": [
    "#finding the cube root of numbers from 1 to 10\n",
    "#rounding the cube roots to three decimal places for readability\n",
    "\n",
    "l2 = [1,2,3,4,5,6,7,8,9,10]\n",
    "cube_roots = list(map(lambda x: round(x **1/3,3), l2))\n",
    "print(cube_roots)"
   ]
  },
  {
   "cell_type": "code",
   "execution_count": null,
   "id": "488925dc",
   "metadata": {},
   "outputs": [],
   "source": []
  },
  {
   "cell_type": "code",
   "execution_count": null,
   "id": "08561a27",
   "metadata": {},
   "outputs": [],
   "source": [
    "#check if a given number is even\n",
    "\n",
    "number = int(input(\"Enter a number: \"))\n",
    "result = \"Is even\" if number%2 == 0 else \"is not even\"\n",
    "print(result)"
   ]
  },
  {
   "cell_type": "code",
   "execution_count": null,
   "id": "6e4134d2",
   "metadata": {},
   "outputs": [],
   "source": []
  },
  {
   "cell_type": "code",
   "execution_count": null,
   "id": "54dba3a3",
   "metadata": {},
   "outputs": [],
   "source": [
    "#Filtering odd numbers from the given list.\n",
    "l3 = [1,2,3,4,5,6,7,8,9,10]\n",
    "\n",
    "list_of_odds = list(filter(lambda x: x%2 ==0, l3))\n",
    "print(list_of_odds)"
   ]
  },
  {
   "cell_type": "code",
   "execution_count": null,
   "id": "f36aed74",
   "metadata": {},
   "outputs": [],
   "source": []
  },
  {
   "cell_type": "code",
   "execution_count": null,
   "id": "ec5a4cee",
   "metadata": {},
   "outputs": [],
   "source": [
    "#filtering the list l4 into lists of positive and negative integers\n",
    "\n",
    "l4 = [1,2,3,4,5,6,-1,-2,-3,-4,-5,0]\n",
    "list_of_positives = list(filter(lambda x: x>0,l4))\n",
    "list_of_negatives = list(filter(lambda x: x<0,l4))\n",
    "\n",
    "print(f\"list of positive integers: {list_of_positives}\")\n",
    "print(f\"list of negative integers: {list_of_negatives}\")"
   ]
  },
  {
   "cell_type": "code",
   "execution_count": null,
   "id": "2430b0c2",
   "metadata": {},
   "outputs": [],
   "source": []
  },
  {
   "cell_type": "code",
   "execution_count": null,
   "id": "e466d0a2",
   "metadata": {},
   "outputs": [],
   "source": []
  }
 ],
 "metadata": {
  "kernelspec": {
   "display_name": "Python 3 (ipykernel)",
   "language": "python",
   "name": "python3"
  },
  "language_info": {
   "codemirror_mode": {
    "name": "ipython",
    "version": 3
   },
   "file_extension": ".py",
   "mimetype": "text/x-python",
   "name": "python",
   "nbconvert_exporter": "python",
   "pygments_lexer": "ipython3",
   "version": "3.9.13"
  }
 },
 "nbformat": 4,
 "nbformat_minor": 5
}
