{
 "cells": [
  {
   "cell_type": "code",
   "execution_count": null,
   "id": "3b8538d7",
   "metadata": {},
   "outputs": [],
   "source": [
    "import pandas as pd"
   ]
  },
  {
   "cell_type": "markdown",
   "id": "2ef61158",
   "metadata": {},
   "source": [
    "<b>QUESTION 1: </b>What are the three measures of central tendency?<br>\n",
    "<b>SOLUTION: </b>Mean, median and mode are the three measures of central tendency.<br>"
   ]
  },
  {
   "cell_type": "code",
   "execution_count": null,
   "id": "b6d425ba",
   "metadata": {},
   "outputs": [],
   "source": []
  },
  {
   "cell_type": "markdown",
   "id": "eff84314",
   "metadata": {},
   "source": [
    "<b>QUESTION 2: </b>What is the difference between the mean, median, and mode? How are they used to measure the central tendency of a dataset?<br>\n",
    "<b>SOLUTION: </b>\n",
    "* Mean gives the arithmetic mean or average of the dataset.\n",
    "* Median is the middlemost value of a sorted datset.\n",
    "* Mode is the most frequently occurring data value of the dataset.\n",
    "\n",
    "They tell us about the center of the data.<br>"
   ]
  },
  {
   "cell_type": "code",
   "execution_count": null,
   "id": "e85e5da6",
   "metadata": {},
   "outputs": [],
   "source": []
  },
  {
   "cell_type": "markdown",
   "id": "d88d3fad",
   "metadata": {},
   "source": [
    "<b>QUESTION 3: </b>Measure the three measures of central tendency for the given height data:\n",
    "[178,177,176,177,178.2,178,175,179,180,175,178.9,176.2,177,172.5,178,176.5]<br>\n",
    "<b>SOLUTION: </b><br>\n",
    "MEAN: 177.01875<br>\n",
    "MEDIAN: 177<br>\n",
    "MODE: 177,178<br>"
   ]
  },
  {
   "cell_type": "code",
   "execution_count": null,
   "id": "bd219bb1",
   "metadata": {},
   "outputs": [],
   "source": [
    "df1 = pd.DataFrame([178,177,176,177,178.2,178,175,179,180,175,178.9,176.2,177,172.5,178,176.5])\n",
    "print(f'Mean: {df1.mean()}')\n",
    "print(f'Median: {df1.median()}')\n",
    "print(f'Mode: {df1.mode()}')"
   ]
  },
  {
   "cell_type": "code",
   "execution_count": null,
   "id": "07510aab",
   "metadata": {},
   "outputs": [],
   "source": []
  },
  {
   "cell_type": "markdown",
   "id": "d08414ff",
   "metadata": {},
   "source": [
    "<b>QUESTION 4: </b>Find the standard deviation for the given data:\n",
    "[178,177,176,177,178.2,178,175,179,180,175,178.9,176.2,177,172.5,178,176.5]<br>\n",
    "<b>SOLUTION: </b>The standard deviation is 1.847239<br>"
   ]
  },
  {
   "cell_type": "code",
   "execution_count": null,
   "id": "6cbfb27a",
   "metadata": {},
   "outputs": [],
   "source": [
    "df2 = pd.DataFrame([178,177,176,177,178.2,178,175,179,180,175,178.9,176.2,177,172.5,178,176.5])\n",
    "df2.std()"
   ]
  },
  {
   "cell_type": "code",
   "execution_count": null,
   "id": "f1d4ddfb",
   "metadata": {},
   "outputs": [],
   "source": []
  },
  {
   "cell_type": "markdown",
   "id": "0c3d26eb",
   "metadata": {},
   "source": [
    "<b>QUESTION 5: </b>Q5. How are measures of dispersion such as range, variance, and standard deviation used to describe the spread of a dataset? Provide an example.<br>\n",
    "<b>SOLUTION: </b>The measures of dispersion tell us about the spread of a dataset.<br>\n",
    "* Range tells us how widespread the data values are.\n",
    "* Variance tells us how different data values are distributed with respect to mean.\n",
    "* Standard deviation gives the average distance of a data value from the mean.<br>\n",
    "\n",
    "Considering the dataset in Question 4, the values of measures of dispersion are as follows:<br>\n",
    "Range = 180-172.5 = 7.5<br>\n",
    "Standard deviation = 1.8472<br>\n",
    "Variance = 3.4123<br>"
   ]
  },
  {
   "cell_type": "code",
   "execution_count": null,
   "id": "6928256e",
   "metadata": {},
   "outputs": [],
   "source": [
    "#the variance of height dataset in Question 4\n",
    "df2.var()"
   ]
  },
  {
   "cell_type": "code",
   "execution_count": null,
   "id": "982a157e",
   "metadata": {},
   "outputs": [],
   "source": []
  },
  {
   "cell_type": "markdown",
   "id": "6356abbd",
   "metadata": {},
   "source": [
    "<b>QUESTION 6: </b>What is a Venn diagram?<br>\n",
    "<b>SOLUTION: </b>A Venn diagram is a visual representation of sets of data. In this, the universal set is represented by a rectangle inside which different sets are represented as circles. It helps us in understanding the relationships between different sets.<br>"
   ]
  },
  {
   "cell_type": "code",
   "execution_count": null,
   "id": "32e0e9bc",
   "metadata": {},
   "outputs": [],
   "source": []
  },
  {
   "cell_type": "markdown",
   "id": "3c4b3242",
   "metadata": {},
   "source": [
    "<b>QUESTION 7: </b>For the two given sets A = (2,3,4,5,6,7) & B = (0,2,6,8,10). Find:\n",
    "(i) A ⋂ B\n",
    "(ii) A ⋃ B<br>\n",
    "<b>SOLUTION: </b><br>\n",
    "(i) {2,6}<br>\n",
    "(ii) {2,3,4,5,6,7,0,8,10}"
   ]
  },
  {
   "cell_type": "code",
   "execution_count": null,
   "id": "2f04b80b",
   "metadata": {},
   "outputs": [],
   "source": []
  },
  {
   "cell_type": "markdown",
   "id": "5e164489",
   "metadata": {},
   "source": [
    "<b>QUESTION 8: </b>What do you understand about skewness in data?<br>\n",
    "<b>SOLUTION: </b>When the data is not normally or symmetrically distributed, but is lopsided on either left or right side, it is said to be skewed. \n",
    "* When majority of the data lies on the left but some values are on the right, it is said to be right-skewed data or positive skewness.\n",
    "* When majority of the data lies on the left side but some of the values are on the right side, it is said to be left skewed data or negative skewness.<br>"
   ]
  },
  {
   "cell_type": "code",
   "execution_count": null,
   "id": "33437cf3",
   "metadata": {},
   "outputs": [],
   "source": []
  },
  {
   "cell_type": "markdown",
   "id": "5b880b05",
   "metadata": {},
   "source": [
    "<b>QUESTION 9: </b>If a data is right skewed then what will be the position of median with respect to mean?<br>\n",
    "<b>SOLUTION: </b>In case of right skewed data, median will lie on the left side of the mean. <br>"
   ]
  },
  {
   "cell_type": "code",
   "execution_count": null,
   "id": "a4b302ff",
   "metadata": {},
   "outputs": [],
   "source": []
  },
  {
   "cell_type": "markdown",
   "id": "535c024b",
   "metadata": {},
   "source": [
    "<b>QUESTION 10: </b>Explain the difference between covariance and correlation. How are these measures used in statistical analysis?<br>\n",
    "<b>SOLUTION: </b>There is no defined scale or restrictive values for covariance whereas correlation always lies between -1 and +1. This makes correlation a more reliable parameter for comparison.<br>\n",
    "Covariance and correlation are used to quantify the relationship between different variables and are hence used to determine which variables are strongly related and which ones are weakly or not at all related. It helps in prediction of values."
   ]
  },
  {
   "cell_type": "code",
   "execution_count": null,
   "id": "3ee0be2b",
   "metadata": {},
   "outputs": [],
   "source": []
  },
  {
   "cell_type": "markdown",
   "id": "bc3ea806",
   "metadata": {},
   "source": [
    "<b>QUESTION 11: </b>What is the formula for calculating the sample mean? Provide an example calculation for a dataset.<br>\n",
    "<b>SOLUTION: </b> X̄ = (Σ xi) ÷ n<br>\n",
    "\n",
    "Sample data = 1,2,3,4,5,6,7<br>\n",
    "mean = (1+2+3+4+5+6+7)/7 = 4"
   ]
  },
  {
   "cell_type": "code",
   "execution_count": null,
   "id": "155015a3",
   "metadata": {},
   "outputs": [],
   "source": [
    "df3 = pd.DataFrame([1,2,3,4,5,6,7])\n",
    "df3.mean()"
   ]
  },
  {
   "cell_type": "code",
   "execution_count": null,
   "id": "f4a26fe1",
   "metadata": {},
   "outputs": [],
   "source": []
  },
  {
   "cell_type": "markdown",
   "id": "4267dc3e",
   "metadata": {},
   "source": [
    "<b>QUESTION 12: </b>For a normal distribution data what is the relationship between its measure of central tendency?<br>\n",
    "<b>SOLUTION: </b>For a normal distribution, mean, median and mode all lie in the center and all have equal values.<br>"
   ]
  },
  {
   "cell_type": "code",
   "execution_count": null,
   "id": "9ab331ec",
   "metadata": {},
   "outputs": [],
   "source": []
  },
  {
   "cell_type": "markdown",
   "id": "d0745d28",
   "metadata": {},
   "source": [
    "<b>QUESTION 13:</b>How is covariance different from correlation?<br>\n",
    "<b>SOLUTION: </b>Covariance has no defined scale and its value can be any number. Whereas, the value of correlation always lies between -1 and 1. so, correlation is more dependable for comparison.<br>"
   ]
  },
  {
   "cell_type": "code",
   "execution_count": null,
   "id": "6e490914",
   "metadata": {},
   "outputs": [],
   "source": []
  },
  {
   "cell_type": "markdown",
   "id": "082080c3",
   "metadata": {},
   "source": [
    "<b>QUESTION 14:</b>How do outliers affect measures of central tendency and dispersion? Provide an example.<br>\n",
    "<b>SOLUTION: </b>\n",
    "MEASURES OF CENTRAL TENDENCY:\n",
    "1. MEAN : Mean is drastically affected by outliers.\n",
    "2. MEDIAN: It is the least affected by outliers, because median is the middlemost value and outliers are in the end of a sorted dataset.\n",
    "3. MODE: It is usually unaffected by outliers.<br>\n",
    "\n",
    "MEASURES OF DISPERSION:\n",
    "1. RANGE: It is drastically affected by outliers.\n",
    "2. STANDARD DEVIATION: It is affected by outliers.\n",
    "3. VARIANCE: It is drastically affected by outliers."
   ]
  },
  {
   "cell_type": "code",
   "execution_count": null,
   "id": "3b8dd889",
   "metadata": {},
   "outputs": [],
   "source": [
    "#DATA WITHOUT OUTLIERS\n",
    "data1 = [1,2,3,4,5,6,7,6,6]\n",
    "df4 = pd.DataFrame(data1)\n",
    "\n",
    "print(f'MEAN: {df4.mean()}')\n",
    "print(f'MEAN: {df4.median()}')\n",
    "print(f'MEAN: {df4.mode()}')\n",
    "\n",
    "print('-------------------------')\n",
    "\n",
    "print(f'RANGE = {7-1}')\n",
    "print(f'STANDARD DEVIATION: {df4.std()}')\n",
    "print(f'VARIANCE: {df4.var()}')"
   ]
  },
  {
   "cell_type": "code",
   "execution_count": null,
   "id": "49ae5a08",
   "metadata": {},
   "outputs": [],
   "source": [
    "#data with outliers\n",
    "data2 = [1,2,3,4,5,6,100,6,6] \n",
    "df5 = pd.DataFrame(data2)\n",
    "\n",
    "print(f'MEAN: {df5.mean()}')\n",
    "print(f'MEAN: {df5.median()}')\n",
    "print(f'MEAN: {df5.mode()}')\n",
    "\n",
    "print('-------------------------')\n",
    "\n",
    "print(f'RANGE = {100-1}')\n",
    "print(f'STANDARD DEVIATION: {df5.std()}')\n",
    "print(f'VARIANCE: {df5.var()}')"
   ]
  }
 ],
 "metadata": {
  "kernelspec": {
   "display_name": "Python 3 (ipykernel)",
   "language": "python",
   "name": "python3"
  },
  "language_info": {
   "codemirror_mode": {
    "name": "ipython",
    "version": 3
   },
   "file_extension": ".py",
   "mimetype": "text/x-python",
   "name": "python",
   "nbconvert_exporter": "python",
   "pygments_lexer": "ipython3",
   "version": "3.9.13"
  }
 },
 "nbformat": 4,
 "nbformat_minor": 5
}
