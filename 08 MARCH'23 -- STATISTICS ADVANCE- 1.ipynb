{
 "cells": [
  {
   "cell_type": "markdown",
   "id": "bd779fcc",
   "metadata": {},
   "source": [
    "<b>QUESTION 1:</b>What is the Probability density function?<br>\n",
    "<b>SOLUTION: </b>A Probability density function defines the probability function that represents the density of a continuous random variable lying between a specific range of values.<br>"
   ]
  },
  {
   "cell_type": "code",
   "execution_count": null,
   "id": "d1317fc6",
   "metadata": {},
   "outputs": [],
   "source": []
  },
  {
   "cell_type": "markdown",
   "id": "630ab465",
   "metadata": {},
   "source": [
    "<b>QUESTION 2:</b>What are the types of Probability distribution?<br>\n",
    "<b>SOLUTION: </b>\n",
    "* Normal/Gaussian distribution\n",
    "* Bernoulli distribution\n",
    "* Poisson distribution\n",
    "* Uniform distribution\n",
    "* Log Normal Distribution\n",
    "* Binomial distribution<br>"
   ]
  },
  {
   "cell_type": "code",
   "execution_count": null,
   "id": "d971f2ab",
   "metadata": {},
   "outputs": [],
   "source": []
  },
  {
   "cell_type": "markdown",
   "id": "3dd551c0",
   "metadata": {},
   "source": [
    "<b>QUESTION 3:</b> Write a Python function to calculate the probability density function of a normal distribution with given mean and standard deviation at a given point.<br>\n",
    "<b>SOLUTION: </b><br>"
   ]
  },
  {
   "cell_type": "code",
   "execution_count": null,
   "id": "2d72c2d9",
   "metadata": {},
   "outputs": [],
   "source": [
    "import math\n",
    "def normal_pdf(x, mean, std_dev):\n",
    "    \"\"\"\n",
    "    This function calculates the probability density function (PDF) of a normal distribution \n",
    "    with a given mean and standard deviation at a given point.\n",
    "    \n",
    "    Parameters:\n",
    "    x (float): The point at which the PDF is to be calculated\n",
    "    mean (float): The mean of the normal distribution\n",
    "    std_dev (float): The standard deviation of the normal distribution\n",
    "    \n",
    "    Returns:\n",
    "    The PDF of the normal distribution at the given point x\n",
    "    \"\"\"\n",
    "    coefficient = 1.0 / (std_dev * math.sqrt(2*math.pi))\n",
    "    exponent = -(math.pow(x - mean, 2) / (2*math.pow(std_dev, 2)))\n",
    "    pdf = coefficient * math.exp(exponent)\n",
    "    return pdf\n",
    "\n",
    "\n",
    "normal_pdf(1.5,0,1)"
   ]
  },
  {
   "cell_type": "code",
   "execution_count": null,
   "id": "47e76f46",
   "metadata": {},
   "outputs": [],
   "source": []
  },
  {
   "cell_type": "markdown",
   "id": "f49efaac",
   "metadata": {},
   "source": [
    "<b>QUESTION 4:</b> What are the properties of Binomial distribution? Give two examples of events where binomial distribution can be applied.<br>\n",
    "<b>SOLUTION: </b>\n",
    "The properties of a Binomial distribution are as follows:<br>\n",
    "* There should be a fixed number of trials.\n",
    "* Only two outcomes are possible: Success and failure\n",
    "* The probability of success and failure for each trial should be the same.<br>\n",
    "\n",
    "EXAMPLE 1: If a pharmaceutical company launches a vaccine, then there are only 2 possible outcomes, either it will prevent the target disease or won't.<br>\n",
    "\n",
    "EXAMPLE 2: If a student takes a test, there are only 2 possible outcomes, either they can pass the test or fail."
   ]
  },
  {
   "cell_type": "code",
   "execution_count": null,
   "id": "d78fdbc0",
   "metadata": {},
   "outputs": [],
   "source": []
  },
  {
   "cell_type": "markdown",
   "id": "f9eea396",
   "metadata": {},
   "source": [
    "<b>QUESTION 5:</b>Generate a random sample of size 1000 from a binomial distribution with probability of success 0.4 and plot a histogram of the results using matplotlib.<br>\n",
    "<b>SOLUTION: </b><br>"
   ]
  },
  {
   "cell_type": "code",
   "execution_count": null,
   "id": "9a28fbe4",
   "metadata": {},
   "outputs": [],
   "source": [
    "import numpy as np\n",
    "import matplotlib.pyplot as plt\n",
    "\n",
    "#Generating a random sample\n",
    "n = 1000\n",
    "p = 0.4\n",
    "sample = np.random.binomial(n,p, size=n)\n",
    "\n",
    "#Plotting the histogram\n",
    "plt.hist(sample, bins=20, edgecolor='black')\n",
    "plt.title('Histogram of random sample')\n",
    "plt.xlabel('Number of successes')\n",
    "plt.ylabel('Frequency')\n",
    "plt.show()"
   ]
  },
  {
   "cell_type": "code",
   "execution_count": null,
   "id": "43d39406",
   "metadata": {},
   "outputs": [],
   "source": []
  },
  {
   "cell_type": "markdown",
   "id": "d3f2d33f",
   "metadata": {},
   "source": [
    "<b>QUESTION 6:</b>Write a Python function to calculate the cumulative distribution function of a Poisson distribution with given mean at a given point.<br>\n",
    "<b>SOLUTION: </b><br>"
   ]
  },
  {
   "cell_type": "code",
   "execution_count": null,
   "id": "04277de3",
   "metadata": {},
   "outputs": [],
   "source": [
    "import math\n",
    "\n",
    "def poisson_cdf(x, mean):\n",
    "    \"\"\"\n",
    "    This function calculates the cumulative distribution function (CDF) of a Poisson distribution \n",
    "    with a given mean at a given point.\n",
    "    \n",
    "    Parameters:\n",
    "    x (int): The point at which the CDF is to be calculated\n",
    "    mean (float): The mean of the Poisson distribution\n",
    "    \n",
    "    Returns:\n",
    "    The CDF of the Poisson distribution at the given point x\n",
    "    \"\"\"\n",
    "    cdf = 0.0\n",
    "    for i in range(x+1):\n",
    "        cdf += math.pow(mean, i) * math.exp(-mean) / math.factorial(i)\n",
    "    return cdf\n",
    "\n",
    "poisson_cdf(3,5)"
   ]
  },
  {
   "cell_type": "code",
   "execution_count": null,
   "id": "559a58a7",
   "metadata": {},
   "outputs": [],
   "source": []
  },
  {
   "cell_type": "markdown",
   "id": "0e081bce",
   "metadata": {},
   "source": [
    "<b>QUESTION 7:</b>How Binomial distribution different from Poisson distribution?<br>\n",
    "<b>SOLUTION: </b>\n",
    "1. PROBABILITY OF SUCCESS: The binomial distribution measures the number of successes in a fixed number of independent trials where the probability of success in each trial is fixed. Whereas, Poisson distribution models the number of occurrences of an event in a fixed interval of time and space , where the probability of occurrence is assumed to be constant thorughtout the interval.\n",
    "\n",
    "2. NUMBER OF TRIALS: In binomial distribution, the number of independent trials is fixed whereas in case of Poisson distribution, there can be any number of occurences of an event within a fixed interval.\n",
    "\n",
    "3. Assumptions: The binomial distribution assumes that the trials are independent and identically distributed with a fixed probability of success. The Poisson distribution assumes that the occurrences are independent and identically distributed with a fixed rate of occurrence, and that the occurrences are rare and the interval is short.<br>\n",
    "\n",
    "The Poisson distribution is often used as an approximation of the binomial distribution when the number of trials is large and the probability of success is small, and the interval is short."
   ]
  },
  {
   "cell_type": "markdown",
   "id": "6a883869",
   "metadata": {},
   "source": []
  },
  {
   "cell_type": "markdown",
   "id": "1f7ede9c",
   "metadata": {},
   "source": [
    "<b>QUESTION 8:</b> Generate a random sample of size 1000 from a Poisson distribution with mean 5 and calculate the sample mean and variance.<br>\n",
    "<b>SOLUTION: </b><br>"
   ]
  },
  {
   "cell_type": "code",
   "execution_count": null,
   "id": "af68c1ea",
   "metadata": {},
   "outputs": [],
   "source": [
    "import numpy as np\n",
    "\n",
    "#Generating a sample\n",
    "n = 1000\n",
    "mean = 5\n",
    "sample = np.random.poisson(mean, size=n)\n",
    "\n",
    "sample_mean = np.mean(sample)\n",
    "sample_var = np.var(sample)\n",
    "\n",
    "print(f'Sample mean: {sample_mean}')\n",
    "print(f'Sample variance: {sample_var}')"
   ]
  },
  {
   "cell_type": "code",
   "execution_count": null,
   "id": "9e2e81d6",
   "metadata": {},
   "outputs": [],
   "source": []
  },
  {
   "cell_type": "markdown",
   "id": "5fc6348c",
   "metadata": {},
   "source": [
    "<b>QUESTION 9:</b>How mean and variance are related in Binomial distribution and Poisson distribution?<br>\n",
    "<b>SOLUTION: </b>\n",
    "* In binomial distribution, there are only 2 possible outcomes. Mean is greater than variance.\n",
    "* In Poisson distribution, there is an unlimited number of outcomes, Mean is equal to variance.<br>"
   ]
  },
  {
   "cell_type": "code",
   "execution_count": null,
   "id": "a34eb437",
   "metadata": {},
   "outputs": [],
   "source": []
  },
  {
   "cell_type": "markdown",
   "id": "a61f38df",
   "metadata": {},
   "source": [
    "<b>QUESTION 10:</b>In normal distribution with respect to mean position, where does the least frequent data appear?<br>\n",
    "<b>SOLUTION: </b>In a normal distribution, the least frequent data will lie away from the mean, towards the ends of the curve.<br>"
   ]
  },
  {
   "cell_type": "code",
   "execution_count": null,
   "id": "032d5028",
   "metadata": {},
   "outputs": [],
   "source": []
  },
  {
   "cell_type": "code",
   "execution_count": null,
   "id": "e223f7e9",
   "metadata": {},
   "outputs": [],
   "source": []
  }
 ],
 "metadata": {
  "kernelspec": {
   "display_name": "Python 3 (ipykernel)",
   "language": "python",
   "name": "python3"
  },
  "language_info": {
   "codemirror_mode": {
    "name": "ipython",
    "version": 3
   },
   "file_extension": ".py",
   "mimetype": "text/x-python",
   "name": "python",
   "nbconvert_exporter": "python",
   "pygments_lexer": "ipython3",
   "version": "3.9.13"
  }
 },
 "nbformat": 4,
 "nbformat_minor": 5
}
