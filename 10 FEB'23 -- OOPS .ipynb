{
 "cells": [
  {
   "cell_type": "markdown",
   "id": "27484f9f",
   "metadata": {},
   "source": [
    "<b>QUESTION 1: </b>Which function is used to open a file? What are the different modes of opening a file? Explain each mode\n",
    "of file opening.<br>\n",
    "<b>SOLUTION: </b>open() function is used to open a file.<br>\n",
    "Some modes of opening files are as follows:\n",
    "* Read only('r'): Opens text file for reading. It is the default mode.\n",
    "* Read and Write('r+'): opens the file for reading and writing. * Write only('w'): opens the file for writing. For the exisitng files, the data is truncated and over-written. It creates a new file if it doesn't exists.\n",
    "* Write and read('w+'): opens the files for writing and reading. for existing files, the data is truncated and over-written.\n",
    "* Append only('a'): opens the file for writing. The file is created if it doesn't already exist.<br>"
   ]
  },
  {
   "cell_type": "code",
   "execution_count": null,
   "id": "1fb5e490",
   "metadata": {},
   "outputs": [],
   "source": []
  },
  {
   "cell_type": "markdown",
   "id": "d2903ea1",
   "metadata": {},
   "source": [
    "<b>QUESTION 2: </b>Why close() function is used? Why is it important to close a file?<br>\n",
    "<b>SOLUTION: </b>close() function is used to close a file.<br>\n",
    "It is important to close a file because: \n",
    "* Not closing the files would slow down the program. With too many things open, the performance of the system might be affected.\n",
    "* If we do not close the file, it hands it over to the garbage collector, which might not be very efficient.<br>"
   ]
  },
  {
   "cell_type": "code",
   "execution_count": null,
   "id": "878ea12b",
   "metadata": {},
   "outputs": [],
   "source": []
  },
  {
   "cell_type": "markdown",
   "id": "4dffed3f",
   "metadata": {},
   "source": [
    "<b>QUESTION 3: </b> Write a python program to create a text file. Write ‘I want to become a Data Scientist’ in that file. Then\n",
    "close the file. Open this file and read the content of the file.<br>\n",
    "<b>SOLUTION: </b><br>"
   ]
  },
  {
   "cell_type": "code",
   "execution_count": null,
   "id": "cab08fe0",
   "metadata": {},
   "outputs": [],
   "source": [
    "file = open('question3.txt','w')\n",
    "file.write('I want to become a Data Scientist.')\n",
    "file.close()"
   ]
  },
  {
   "cell_type": "code",
   "execution_count": null,
   "id": "e60edc29",
   "metadata": {},
   "outputs": [],
   "source": [
    "#reading the contents  of the file\n",
    "data = open('question3.txt','r')\n",
    "data.read()"
   ]
  },
  {
   "cell_type": "code",
   "execution_count": null,
   "id": "ccd5ffec",
   "metadata": {},
   "outputs": [],
   "source": []
  },
  {
   "cell_type": "markdown",
   "id": "afdd8862",
   "metadata": {},
   "source": [
    "<b>QUESTION 4: </b>Explain the following with python code: read(), readline() and readlines().<br>\n",
    "<b>SOLUTION: </b>\n",
    "* read() is used to read the entire file. An example of a case where read() can be used is to check if a certain phrase is present in the file text.\n",
    "\n",
    "* readlines() reads all the lines of a file and returns a list of strings. It is useful if we want to process the file line by line or want to extract certain lines out of the file.\n",
    "\n",
    "* readline() reads one line at a time. so , when you run it the first time and the cursor is  pointing at the first line, the first line will be printed, when you run it the next time, the second line will be printed and so on. It works like a generator function.<br>"
   ]
  },
  {
   "cell_type": "code",
   "execution_count": null,
   "id": "6c92c942",
   "metadata": {},
   "outputs": [],
   "source": [
    "with open('example.txt','w') as f:\n",
    "    f.write('this file has too few words. but it is a really good start.')\n",
    "    \n",
    "    \n",
    "#to check if the word 'file' is present in the example.txt file\n",
    "in_file = False\n",
    "\n",
    "with open('example.txt','r') as f:\n",
    "    if 'file' in f.read():\n",
    "        in_file = True\n",
    "        \n",
    "print(in_file)"
   ]
  },
  {
   "cell_type": "code",
   "execution_count": null,
   "id": "66f01616",
   "metadata": {},
   "outputs": [],
   "source": [
    "with open('examples2.txt','w') as f:\n",
    "    f.write(\"North America should be called Russia since people are always moving so fast.\\\n",
    "    I'm still upset that Tie Domi didn't name his child Tyson.Tim Horton was a hockey player\\\n",
    "    but is the name of a coffee chain, which means my dream of a goat sanctuary being\\\n",
    "    my legacy is not unrealistic.\")\n",
    "\n",
    "#reading the entire file\n",
    "with open('examples2.txt','r') as f:\n",
    "    content = f.readlines()\n",
    "    print(content)"
   ]
  },
  {
   "cell_type": "code",
   "execution_count": null,
   "id": "f20c0bb3",
   "metadata": {},
   "outputs": [],
   "source": [
    "with open('example3.txt','w') as f:\n",
    "    f.write('This place is known for shipwrecks.')\n",
    "    \n",
    "with open('example3.txt','a') as f:\n",
    "    f.write('\\n')\n",
    "    f.write('Becoming is written by Michelle Obama.')\n",
    "    f.write('\\n')\n",
    "    f.write(\"Gender dynamics is a legit phenomenon.\")\n",
    "    \n",
    "with open('example3.txt','r') as f:\n",
    "    line_1 = f.readline()\n",
    "    print(f\"line 1 : {line_1}\")\n",
    "    line_2 = f.readline()\n",
    "    print(f'line 2: {line_2}')"
   ]
  },
  {
   "cell_type": "code",
   "execution_count": null,
   "id": "bba0ee96",
   "metadata": {},
   "outputs": [],
   "source": []
  },
  {
   "cell_type": "markdown",
   "id": "75ac029a",
   "metadata": {},
   "source": [
    "<b>QUESTION 5: </b>Explain why with statement is used with open(). What is the advantage of using with statement and\n",
    "open() together?<br>\n",
    "<b>SOLUTION: </b>The with statement is used with open() because it closes the file as soon as we leave the block. This is beneficial because we don't need to worry about closing file every time we open it and also helps in averting resource wastage in case the file remains open.<br>"
   ]
  },
  {
   "cell_type": "code",
   "execution_count": null,
   "id": "052fc564",
   "metadata": {},
   "outputs": [],
   "source": []
  },
  {
   "cell_type": "markdown",
   "id": "0ba856a7",
   "metadata": {},
   "source": [
    "<b>QUESTION 6: </b>Explain the write() and writelines() functions. Give a suitable example.<br>\n",
    "<b>SOLUTION: </b>\n",
    "<b>write()</b>\n",
    "* This function will write the content in the file without adding any extra characters.\n",
    "* It writes whatever text is passed to it in the open file. The text may include numbers, special characers and symbols.\n",
    "* It doesn't add a newline character at the end of every line.\n",
    "* It returns None<br>\n",
    "\n",
    "<b>writelines()</b>\n",
    "* writelines() writes the contents of a list to a file."
   ]
  },
  {
   "cell_type": "code",
   "execution_count": null,
   "id": "e16ad629",
   "metadata": {},
   "outputs": [],
   "source": [
    "#creating a file called Employees.txt\n",
    "file = open('Employees.txt','w')\n",
    "\n",
    "for i in range(3):\n",
    "    name = input('Enter the name of employee: ')\n",
    "    file.write(name)\n",
    "    file.write('\\n')\n",
    "    \n",
    "file.close()\n",
    "\n",
    "print('Data is written into the file.')\n",
    "\n",
    "#the content of the file is shown in the next cell."
   ]
  },
  {
   "cell_type": "code",
   "execution_count": null,
   "id": "b2acd969",
   "metadata": {},
   "outputs": [],
   "source": [
    "#reading the file Employees.txt\n",
    "with open('Employees.txt','r') as f:\n",
    "    content = f.read()\n",
    "    print(content)"
   ]
  },
  {
   "cell_type": "code",
   "execution_count": null,
   "id": "d49b1b50",
   "metadata": {},
   "outputs": [],
   "source": [
    "#a newline character is added after each item of the list so that when it is written inside the \n",
    "#file, each item begins with a new line\n",
    "\n",
    "\n",
    "lst = ['apple\\n', 'orchard\\n', 'banana\\n']\n",
    "\n",
    "with open('random.txt','w') as f:\n",
    "    f.writelines(lst)\n",
    "    \n",
    "print('Done')"
   ]
  },
  {
   "cell_type": "code",
   "execution_count": null,
   "id": "6075407b",
   "metadata": {},
   "outputs": [],
   "source": [
    "#reading the content of random.txt\n",
    "with open('random.txt','r') as f:\n",
    "    content = f.read()\n",
    "    print(content)"
   ]
  },
  {
   "cell_type": "code",
   "execution_count": null,
   "id": "162694bb",
   "metadata": {},
   "outputs": [],
   "source": []
  }
 ],
 "metadata": {
  "kernelspec": {
   "display_name": "Python 3 (ipykernel)",
   "language": "python",
   "name": "python3"
  },
  "language_info": {
   "codemirror_mode": {
    "name": "ipython",
    "version": 3
   },
   "file_extension": ".py",
   "mimetype": "text/x-python",
   "name": "python",
   "nbconvert_exporter": "python",
   "pygments_lexer": "ipython3",
   "version": "3.9.13"
  }
 },
 "nbformat": 4,
 "nbformat_minor": 5
}
