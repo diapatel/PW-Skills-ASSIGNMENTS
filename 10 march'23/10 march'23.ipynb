{
 "cells": [
  {
   "cell_type": "markdown",
   "id": "8e03ccad-d235-4bbb-b35d-3718353ef92f",
   "metadata": {},
   "source": [
    "Q1: What is Estimation Statistics? Explain point estimate and interval estimate.\n",
    "\n",
    "Q2. Write a Python function to estimate the population mean using a sample mean and standard \n",
    "deviation.\n",
    "\n",
    "Q3: What is Hypothesis testing? Why is it used? State the importance of Hypothesis testing.\n",
    "\n",
    "Q4. Create a hypothesis that states whether the average weight of male college students is greater than \n",
    "the average weight of female college students.\n",
    "\n",
    "Q5. Write a Python script to conduct a hypothesis test on the difference between two population means, \n",
    "given a sample from each population.\n",
    "\n",
    "Q6: What is a null and alternative hypothesis? Give some examples.\n",
    "\n",
    "Q7: Write down the steps involved in hypothesis testing.\n",
    "\n",
    "Q8. Define p-value and explain its significance in hypothesis testing.\n",
    "\n",
    "Q9. Generate a Student's t-distribution plot using Python's matplotlib library, with the degrees of freedom \n",
    "parameter set to 10.\n",
    "\n",
    "Q10. Write a Python program to calculate the two-sample t-test for independent samples, given two \n",
    "random samples of equal size and a null hypothesis that the population means are equal.\n",
    "\n",
    "Q11: What is Student’s t distribution? When to use the t-Distribution.\n",
    "\n",
    "Q12: What is t-statistic? State the formula for t-statistic.\n",
    "\n",
    "Q13. A coffee shop owner wants to estimate the average daily revenue for their shop. They take a random \n",
    "sample of 50 days and find the sample mean revenue to be $\\$500$ with a standard deviation of $50. \n",
    "Estimate the population mean revenue with a 95% confidence interval.\n",
    "\n",
    "Q14. A researcher hypothesizes that a new drug will decrease blood pressure by 10 mmHg. They conduct a \n",
    "clinical trial with 100 patients and find that the sample mean decrease in blood pressure is 8 mmHg with a \n",
    "standard deviation of 3 mmHg. Test the hypothesis with a significance level of 0.05.\n",
    "\n",
    "Q15. An electronics company produces a certain type of product with a mean weight of 5 pounds and a \n",
    "standard deviation of 0.5 pounds. A random sample of 25 products is taken, and the sample mean weight \n",
    "is found to be 4.8 pounds. Test the hypothesis that the true mean weight of the products is less than 5 \n",
    "pounds with a significance level of 0.01.\n",
    "\n",
    "Q16. Two groups of students are given different study materials to prepare for a test. The first group (n1 = \n",
    "30) has a mean score of 80 with a standard deviation of 10, and the second group (n2 = 40) has a mean \n",
    "score of 75 with a standard deviation of 8. Test the hypothesis that the population means for the two \n",
    "groups are equal with a significance level of 0.01.\n",
    "\n",
    "Q17. A marketing company wants to estimate the average number of ads watched by viewers during a TV \n",
    "program. They take a random sample of 50 viewers and find that the sample mean is 4 with a standard \n",
    "deviation of 1.5. Estimate the population mean with a 99% confidence interval.\n"
   ]
  },
  {
   "cell_type": "code",
   "execution_count": null,
   "id": "81e5f19d-07e9-4122-8435-1027b7e311cd",
   "metadata": {},
   "outputs": [],
   "source": []
  },
  {
   "cell_type": "markdown",
   "id": "1fced0f8-c531-453f-9134-b63c08c8d138",
   "metadata": {},
   "source": [
    "## SOLUTION 1"
   ]
  },
  {
   "cell_type": "markdown",
   "id": "d5f8669f-94d3-4eb2-a370-005d79e3c160",
   "metadata": {},
   "source": [
    "* Estimation statistics consists of techniques used to estimate population parameters based on observations made on samples drawn from a population.\n",
    "* Point Estimate is a single numerical value that is calculated from a sample which is our best guess or approximation for an unknown population parameter.\n",
    "* Interval Estimation refers to the evaluation of a population paramter like mean by computing an interval or a range of values within which the actual value might lie. "
   ]
  },
  {
   "cell_type": "code",
   "execution_count": null,
   "id": "7bd4dbbc-0d68-4545-ac1a-7e7489c18b54",
   "metadata": {},
   "outputs": [],
   "source": []
  },
  {
   "cell_type": "markdown",
   "id": "5f1108af-e479-4c4d-a4dd-b6ebefc03446",
   "metadata": {},
   "source": [
    "### SOLUTION 2"
   ]
  },
  {
   "cell_type": "code",
   "execution_count": null,
   "id": "12fb51e0-01c9-4902-a5cc-c481b92580af",
   "metadata": {},
   "outputs": [],
   "source": [
    "def predict_u(sample_size,sample_mean, sample_std):\n",
    "    n= sample_size\n",
    "    sample_mean = sample_mean\n",
    "    sample_std = sample_std\n",
    "    standard_error = sample_std / np.sqrt(n)\n",
    "    t = 2\n",
    "    lower_limit = sample_mean - (t*standard_error)\n",
    "    upper_limit = sample_mean + (t*standard_error)\n",
    "    \n",
    "    print(f\"The population mean will lie within the range of {round(lower_limit,2)} and {round(upper_limit,2)} with a confidence of 95%\")"
   ]
  },
  {
   "cell_type": "code",
   "execution_count": null,
   "id": "8b514f4a-1118-422c-83f3-34aebc9bd261",
   "metadata": {},
   "outputs": [],
   "source": [
    "predict_u(50,500,50)"
   ]
  },
  {
   "cell_type": "code",
   "execution_count": null,
   "id": "05d28b98-227f-4496-9030-e081f06a6b14",
   "metadata": {},
   "outputs": [],
   "source": []
  },
  {
   "cell_type": "markdown",
   "id": "eb96149a-fb35-42f2-b226-db18c72040a1",
   "metadata": {},
   "source": [
    "### SOLUTION 3"
   ]
  },
  {
   "cell_type": "markdown",
   "id": "f002a064-0f7b-47db-978f-55d6316298fa",
   "metadata": {},
   "source": [
    "* Hypothesis testing is a statistical method used to evaluate a hypothesis or  a claim about a population based on sample data.\n",
    "* It involves making a hypothesis about a population and then evaluating whether the sample data supports the hypothesis or contradicts it.\n",
    "* It helps researchers in testing the validity of a hypothesis.\n",
    "* It helps in drawing conclusions from sample data and make informed decisions like whether to invest in a new product, whether to implement a treatment or whether to change a policy."
   ]
  },
  {
   "cell_type": "code",
   "execution_count": null,
   "id": "e6d4f64c-5e50-4224-b825-25aab1f33dc8",
   "metadata": {},
   "outputs": [],
   "source": []
  },
  {
   "cell_type": "markdown",
   "id": "0fb65c4c-3369-463b-8d5d-341510d9fb0d",
   "metadata": {},
   "source": [
    "### SOLUTION 4"
   ]
  },
  {
   "cell_type": "markdown",
   "id": "70408a20-d5b3-43b8-952a-b42b8fa4d226",
   "metadata": {},
   "source": [
    "The null hypothesis (H0) would be that there is no difference between the average weight of male and female college students.\n",
    "\n",
    "The alternative hypothesis (H1) would be that the average weight of male college students is greater than the average weight of female college students.\n",
    "\n",
    "Symbolically, we can express these hypotheses as:\n",
    "\n",
    "H0: μ_male = μ_female\n",
    "\n",
    "H1: μ_male > μ_female\n",
    "\n",
    "where μ_male is the average weight of all male college students\n",
    "and μ_female is the average weight of all female college students\n",
    "\n",
    "To test this hypothesis, we need to collect weights of male and female college students, calculate the sample means and perform a hypothesis test to determine whether the difference is statistically significant."
   ]
  },
  {
   "cell_type": "code",
   "execution_count": null,
   "id": "93f70363-3eca-42b2-a160-b9b05ee4ab62",
   "metadata": {},
   "outputs": [],
   "source": []
  },
  {
   "cell_type": "markdown",
   "id": "7a323270-6ed5-47a3-a2ef-c0feeab8a808",
   "metadata": {},
   "source": [
    "### SOLUTION 5"
   ]
  },
  {
   "cell_type": "markdown",
   "id": "09cf38c0-97c0-407c-bc52-bfc56672cfa2",
   "metadata": {},
   "source": [
    "We are asked to conduct an Independent two-sample t-test.<Br>\n",
    "Using the titanic dataset, let's assume that the average age of all male passengers is higher than that of all female passengers<Br>\n",
    "H0: u(male) = u(female)<Br>\n",
    "H1: u(male) > u(female)"
   ]
  },
  {
   "cell_type": "code",
   "execution_count": null,
   "id": "65ad5b66-4f22-4703-8788-a757c8d4c19c",
   "metadata": {},
   "outputs": [],
   "source": [
    "import pandas as pd\n",
    "import numpy as np"
   ]
  },
  {
   "cell_type": "code",
   "execution_count": null,
   "id": "52e45b7e-e9a0-448e-ac4e-1cbfc781862d",
   "metadata": {},
   "outputs": [],
   "source": [
    "#preparing the data\n",
    "train = pd.read_csv('./titanic_train.csv')\n",
    "test = pd.read_csv('./titanic_test.csv')\n",
    "\n",
    "train = train.drop(columns='Survived')\n",
    "data = pd.concat([train,test])\n",
    "data = data.dropna(subset='Age', axis=0)"
   ]
  },
  {
   "cell_type": "code",
   "execution_count": null,
   "id": "3d812729-c0e1-419f-bd06-9b77485a802d",
   "metadata": {},
   "outputs": [],
   "source": [
    "male_pop = data[data['Sex'] == 'male']\n",
    "female_pop = data[data['Sex'] == 'female']"
   ]
  },
  {
   "cell_type": "code",
   "execution_count": null,
   "id": "325ed6cf-753d-4611-b6bd-42ae6a7c49a2",
   "metadata": {},
   "outputs": [],
   "source": [
    "sample_male = male_pop['Age'].sample(32).values.tolist()\n",
    "sample_female = female_pop['Age'].sample(32).values.tolist()"
   ]
  },
  {
   "cell_type": "code",
   "execution_count": null,
   "id": "76655676-9771-4f75-9320-8e18a9bba05a",
   "metadata": {},
   "outputs": [],
   "source": [
    "#checking for normality\n",
    "from scipy.stats import shapiro\n",
    "male = shapiro(sample_male)\n",
    "female = shapiro(sample_female)\n",
    "print(male)\n",
    "print(female)\n",
    "\n",
    "#since for both teh samples, p-value is greater than 0.05, they are normally distributed"
   ]
  },
  {
   "cell_type": "code",
   "execution_count": null,
   "id": "b3d81bcf-c125-4ff7-9d70-4c384f4cad87",
   "metadata": {},
   "outputs": [],
   "source": [
    "#checking for equal variances\n",
    "from scipy.stats import levene\n",
    "levene(sample_male, sample_female)\n",
    "\n",
    "#since p-value is greater than 0.05, they have equal variances"
   ]
  },
  {
   "cell_type": "code",
   "execution_count": null,
   "id": "c4e86078-77e1-498a-a568-412bf3e47aa3",
   "metadata": {},
   "outputs": [],
   "source": [
    "#conducting the independent 2sample t test\n",
    "\n",
    "import scipy.stats as stats\n",
    "stats.ttest_ind(sample_male, sample_female)"
   ]
  },
  {
   "cell_type": "markdown",
   "id": "a6b49bbb-644a-44d9-b0e7-1ac217110b7a",
   "metadata": {},
   "source": [
    "* p-value is greater than 0.05 so we reject the null hypothesis that average age of all male passengers and all female passengers is same\n",
    "* average age of male passengers is higher than that of female passengers"
   ]
  },
  {
   "cell_type": "code",
   "execution_count": null,
   "id": "93455a33-4d3e-4be8-bad6-d4c10c14dc1b",
   "metadata": {},
   "outputs": [],
   "source": [
    "#let's check if this is true\n",
    "#assuming that the entire data is the population\n",
    "print(f\"Average age of all male passengers : {male_pop['Age'].mean()}\")\n",
    "print(f\"Average age of all female passengers : {female_pop['Age'].mean()}\")"
   ]
  },
  {
   "cell_type": "markdown",
   "id": "e8d7c278-8e26-4979-ad3e-a9784cfa6b33",
   "metadata": {},
   "source": [
    "This proves that average age of all male passengers is indeed higher than that of all male passengers. so, our hypothesis test was correctly performed."
   ]
  },
  {
   "cell_type": "code",
   "execution_count": null,
   "id": "f32d6e41-2a5e-4e53-a352-515640f8c54e",
   "metadata": {},
   "outputs": [],
   "source": []
  },
  {
   "cell_type": "markdown",
   "id": "ccf70b8f-0fd2-4fe7-87cb-5b1c0a253476",
   "metadata": {},
   "source": [
    "### SOLUTION 6"
   ]
  },
  {
   "cell_type": "markdown",
   "id": "d4f69979-a1de-46b7-b008-142e8ad178e2",
   "metadata": {},
   "source": [
    "#null and alternative hypothesis\n",
    "* Null hypothesis : is a statement which states that there is no difference or no change between two groups or no relationship between two variables.\n",
    "* Alternative Hypothesis : it is a statement that is contradictory to the null hypothesis and suggests that there is a change, a difference or a relationship. it is what we conclude when we reject the null hypothesis.\n",
    "\n",
    "EXAMPLE : We want to test whether the mean GPA of students in American colleges is different from 2.0 (out of 4.0). The null and alternative hypotheses are the following:<Br>\n",
    "H0: μ = 2.0 <br>\n",
    "Ha: μ ≠ 2.0"
   ]
  },
  {
   "cell_type": "code",
   "execution_count": null,
   "id": "684c1734-ff3f-4a85-b142-4b88557188a1",
   "metadata": {},
   "outputs": [],
   "source": []
  },
  {
   "cell_type": "markdown",
   "id": "66ac45cc-4907-4718-8417-e7cfba2b1c42",
   "metadata": {},
   "source": [
    "### SOLUTION 7"
   ]
  },
  {
   "cell_type": "markdown",
   "id": "d5b3daac-0daf-4992-a584-d85064903c05",
   "metadata": {},
   "source": [
    "1. Formulate the Null and Alternative Hypothesis.\n",
    "2. Select a significance level.\n",
    "3. Check for assumptions\n",
    "4. Select a relevant test\n",
    "5. Select a relevant test statistic\n",
    "6. Conduct the test\n",
    "7. Decide whether the null hypothesis should be rejected or not\n",
    "8. Interprete the results"
   ]
  },
  {
   "cell_type": "code",
   "execution_count": null,
   "id": "78610765-fc2f-4337-bc39-5f291b2dcac5",
   "metadata": {},
   "outputs": [],
   "source": []
  },
  {
   "cell_type": "markdown",
   "id": "eb2635e4-a9f0-497b-a2ab-776ebe753e6f",
   "metadata": {},
   "source": [
    "### SOLUTION 8"
   ]
  },
  {
   "cell_type": "markdown",
   "id": "f9d2c53d-85c8-46a7-be0e-13f5450dd14a",
   "metadata": {},
   "source": [
    "* The rejection region approach used for hypothesis testing is very sensitive and more importantly, it doesn't indicate the strength of the evidence we have against the null hypothesis.\n",
    "* This problem is solved by p-value.\n",
    "* p-value is the probability of getting an evidence that is as strong or more extreme than the evidence at hand.\n",
    "* It also tells the strength of the evidence."
   ]
  },
  {
   "cell_type": "code",
   "execution_count": null,
   "id": "9e9ea97c-07bb-4c84-a8ef-e1255bd9f03f",
   "metadata": {},
   "outputs": [],
   "source": []
  },
  {
   "cell_type": "markdown",
   "id": "31fa1246-b7b4-4c24-acfc-c0632489be13",
   "metadata": {},
   "source": [
    "### SOLUTION 9"
   ]
  },
  {
   "cell_type": "code",
   "execution_count": null,
   "id": "048686a1-2730-4751-80b9-5370e1b9cd8f",
   "metadata": {},
   "outputs": [],
   "source": [
    "def generate_t(x_lower,x_upper,df):\n",
    "    \"\"\" This function takes 3 parameters, one a lower limit of x values , an upper limit of x values and degrees of freedom and generates a student's\n",
    "    t distribution graph for it\"\"\"\n",
    "    \n",
    "    import numpy as np\n",
    "    import matplotlib.pyplot as plt\n",
    "    from scipy.stats import t\n",
    "    \n",
    "    df = df\n",
    "    x = np.linspace(x_lower,x_upper,1000)\n",
    "    y= t.pdf(x,df)\n",
    "    \n",
    "    print(plt.plot(x,y))\n",
    "    \n",
    "generate_t(-5,5,10)"
   ]
  },
  {
   "cell_type": "code",
   "execution_count": null,
   "id": "9da8d558-6bc2-4404-8c06-ab5e29fdfc63",
   "metadata": {},
   "outputs": [],
   "source": [
    "#student t distribution using matplotlib for df=10\n",
    "import numpy as np\n",
    "import matplotlib.pyplot as plt\n",
    "from scipy.stats import t\n",
    "\n",
    "df = 10\n",
    "x = np.linspace(-5,5,1000)\n",
    "\n",
    "#calculating corresponding values of y using pdf of t distribution\n",
    "y = t.pdf(x,df)\n",
    "\n",
    "plt.plot(x,y)\n",
    "plt.title(\"Student's t-distribution for degree of freedom=10\");"
   ]
  },
  {
   "cell_type": "code",
   "execution_count": null,
   "id": "786eea12-d9e7-42de-838c-998ce871c4e2",
   "metadata": {},
   "outputs": [],
   "source": []
  },
  {
   "cell_type": "markdown",
   "id": "b6b356ca-f81a-4f41-bab8-e59c71c979bf",
   "metadata": {},
   "source": [
    "### SOLUTION 10\n",
    "This question has the same solution as Question 5"
   ]
  },
  {
   "cell_type": "code",
   "execution_count": null,
   "id": "c408f9d5-4c9c-46c9-a19e-6b0cb2f503d1",
   "metadata": {},
   "outputs": [],
   "source": []
  },
  {
   "cell_type": "code",
   "execution_count": null,
   "id": "6ab3b958-f464-47be-959a-d24efa1c240a",
   "metadata": {},
   "outputs": [],
   "source": []
  },
  {
   "cell_type": "markdown",
   "id": "eb64ac4d-b1e2-4574-820c-8b90fb5c447d",
   "metadata": {},
   "source": [
    "### SOLUTION 11"
   ]
  },
  {
   "cell_type": "markdown",
   "id": "4da0f452-07fd-4e02-9374-ab0a57e2fb60",
   "metadata": {},
   "source": [
    "* Student's t distribution is a distribution used to plot data with small sample sizes where the population variance is unknown.\n",
    "* It has only one parameter, degrees of freedom . degrees of freedom are used to estimate the population parameter.\n",
    "\n",
    "* used to find the critical values of data where the population variance is unkown and data is nearly normal.\n",
    "* finding a corresponding p-value of a statistical test that uses t distribution"
   ]
  },
  {
   "cell_type": "code",
   "execution_count": null,
   "id": "46dfc7b8-7071-42a5-bd14-646851e65c58",
   "metadata": {},
   "outputs": [],
   "source": []
  },
  {
   "cell_type": "markdown",
   "id": "bdbc1af2-d9a9-4ac5-92fb-abedbbf84936",
   "metadata": {},
   "source": [
    "### SOLUTION 12"
   ]
  },
  {
   "cell_type": "markdown",
   "id": "39552c7b-4030-4f65-8e51-cb579c712fe1",
   "metadata": {},
   "source": [
    "* t-statistic is calculated when we do not have the population standard deviation.\n",
    "* t = (x-u)/s*sqrt(n)"
   ]
  },
  {
   "cell_type": "code",
   "execution_count": null,
   "id": "875d079b-c9fb-49e8-b8dc-8327149b9dc4",
   "metadata": {},
   "outputs": [],
   "source": []
  },
  {
   "cell_type": "markdown",
   "id": "af965f53-1394-4182-8550-d89d2d8a7fdc",
   "metadata": {},
   "source": [
    "### SOLUTION 13"
   ]
  },
  {
   "cell_type": "markdown",
   "id": "73db6c0e-0944-4d7a-9100-96c670ebac68",
   "metadata": {},
   "source": [
    "n = 50<br>\n",
    "xbar = 500<br>\n",
    "s = 50<br>\n",
    "u = ?<br>\n",
    "\n",
    "t = 2<br>\n",
    "Confidence interval = sample mean +- standard error<br>\n",
    "standard error = sample standard deviation / sqrt(sample size)"
   ]
  },
  {
   "cell_type": "code",
   "execution_count": null,
   "id": "776ef534-f130-4d8b-bf9f-0875d959b46a",
   "metadata": {},
   "outputs": [],
   "source": [
    "import numpy as np\n",
    "\n",
    "n = 50\n",
    "xbar = 500 \n",
    "std = 50\n",
    "degree_of_freedom = n-1\n",
    "t = 2\n",
    "\n",
    "standard_error = std / np.sqrt(n)\n",
    "lower_limit = xbar - (t*standard_error)\n",
    "upper_limit = xbar + (t*standard_error)\n",
    "print(f\"The population mean revenue lies in the range ${round(lower_limit,2)} and ${round(upper_limit,2)}\")"
   ]
  },
  {
   "cell_type": "code",
   "execution_count": null,
   "id": "b20f1759-dbc2-4fba-8e7b-23a29a80f14f",
   "metadata": {},
   "outputs": [],
   "source": []
  },
  {
   "cell_type": "markdown",
   "id": "360cde19-82da-4b07-82f4-88500e3ba443",
   "metadata": {},
   "source": [
    "### SOLUTION 14\n",
    "See the pdf attached for the solution"
   ]
  },
  {
   "cell_type": "code",
   "execution_count": null,
   "id": "dfd50169-6972-42fb-93a1-b154d62f638d",
   "metadata": {},
   "outputs": [],
   "source": [
    "from scipy.stats import t\n",
    "test_statistic = -6.67\n",
    "df = 99\n",
    "\n",
    "t.cdf(test_statistic, df)"
   ]
  },
  {
   "cell_type": "code",
   "execution_count": null,
   "id": "62b6669c-e77b-46dc-8b4d-e77bd98a3d07",
   "metadata": {},
   "outputs": [],
   "source": []
  },
  {
   "cell_type": "markdown",
   "id": "0108ebc2-2c0c-4e3f-98c9-a1ba09b8e2f3",
   "metadata": {},
   "source": [
    "### SOLUTION 15\n",
    "See the pdf attached for the solution"
   ]
  },
  {
   "cell_type": "code",
   "execution_count": null,
   "id": "1f3213c4-8a62-4868-8d07-15b36bb78abd",
   "metadata": {},
   "outputs": [],
   "source": []
  },
  {
   "cell_type": "markdown",
   "id": "ea5d2476-02c7-4dbc-8f92-7fce4befc57f",
   "metadata": {},
   "source": [
    "### SOLUTION 16\n",
    "see the attached pdf for solution"
   ]
  },
  {
   "cell_type": "code",
   "execution_count": null,
   "id": "e4c4fa4d-cbc5-47b0-a4a8-fe7e6adcb4be",
   "metadata": {},
   "outputs": [],
   "source": [
    "from scipy.stats import t\n",
    "test_statistic = 2.25\n",
    "df = 68\n",
    "\n",
    "t.cdf(test_statistic, df)"
   ]
  },
  {
   "cell_type": "code",
   "execution_count": null,
   "id": "233ffb4c-d63d-46ea-bf4e-c61f30cbd3e3",
   "metadata": {},
   "outputs": [],
   "source": []
  },
  {
   "cell_type": "markdown",
   "id": "64147505-7234-4e04-a04a-4f80ecdfa2a2",
   "metadata": {},
   "source": [
    "### SOLUTION 17\n",
    "see the attached pdf for the solution"
   ]
  },
  {
   "cell_type": "code",
   "execution_count": null,
   "id": "638c02f9-5b20-453a-bbc9-9fab2029a74e",
   "metadata": {},
   "outputs": [],
   "source": []
  },
  {
   "cell_type": "code",
   "execution_count": null,
   "id": "c5c041ca-935c-49a3-a00c-dbba3eeb42ab",
   "metadata": {},
   "outputs": [],
   "source": []
  }
 ],
 "metadata": {
  "kernelspec": {
   "display_name": "Python 3 (ipykernel)",
   "language": "python",
   "name": "python3"
  },
  "language_info": {
   "codemirror_mode": {
    "name": "ipython",
    "version": 3
   },
   "file_extension": ".py",
   "mimetype": "text/x-python",
   "name": "python",
   "nbconvert_exporter": "python",
   "pygments_lexer": "ipython3",
   "version": "3.9.13"
  }
 },
 "nbformat": 4,
 "nbformat_minor": 5
}
