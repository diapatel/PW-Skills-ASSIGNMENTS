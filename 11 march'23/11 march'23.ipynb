{
 "cells": [
  {
   "cell_type": "markdown",
   "id": "2653f77a-9943-4bbd-8ab1-d388d5a0dcc5",
   "metadata": {},
   "source": [
    "NOTE: The calculations for all the numerical problems have been attached in a pdf within this directory and only the direct answers have been entered in this jupyter notebook."
   ]
  },
  {
   "cell_type": "code",
   "execution_count": null,
   "id": "0ea125df-6b68-4370-bd51-60d3aa558f53",
   "metadata": {},
   "outputs": [],
   "source": []
  },
  {
   "cell_type": "markdown",
   "id": "1301c3ae-2c83-4ac9-a659-3fddfd7dc9f4",
   "metadata": {},
   "source": [
    "Q1: What is the difference between a t-test and a z-test? Provide an example scenario where you would\n",
    "use each type of test.<br>\n",
    "\n",
    "Q2: Differentiate between one-tailed and two-tailed tests.<br>\n",
    "\n",
    "Q3: Explain the concept of Type 1 and Type 2 errors in hypothesis testing. Provide an example scenario for\n",
    "each type of error.<br>\n",
    "\n",
    "Q4: Explain Bayes's theorem with an example.<br>\n",
    "\n",
    "Q5: What is a confidence interval? How to calculate the confidence interval, explain with an example.<br>\n",
    "\n",
    "Q6. Use Bayes' Theorem to calculate the probability of an event occurring given prior knowledge of the\n",
    "event's probability and new evidence. Provide a sample problem and solution.<br>\n",
    "\n",
    "Q7. Calculate the 95% confidence interval for a sample of data with a mean of 50 and a standard deviation\n",
    "of 5. Interpret the results.<br>\n",
    "\n",
    "Q8. What is the margin of error in a confidence interval? How does sample size affect the margin of error?\n",
    "Provide an example of a scenario where a larger sample size would result in a smaller margin of error.<br>\n",
    "\n",
    "Q9. Calculate the z-score for a data point with a value of 75, a population mean of 70, and a population\n",
    "standard deviation of 5. Interpret the results.<br>\n",
    "\n",
    "Q10. In a study of the effectiveness of a new weight loss drug, a sample of 50 participants lost an average\n",
    "of 6 pounds with a standard deviation of 2.5 pounds. Conduct a hypothesis test to determine if the drug is\n",
    "significantly effective at a 95% confidence level using a t-test.<br>\n",
    "\n",
    "\n",
    "Q11. In a survey of 500 people, 65% reported being satisfied with their current job. Calculate the 95%\n",
    "confidence interval for the true proportion of people who are satisfied with their job.<br>\n",
    "\n",
    "Q12. A researcher is testing the effectiveness of two different teaching methods on student performance.\n",
    "Sample A has a mean score of 85 with a standard deviation of 6, while sample B has a mean score of 82\n",
    "with a standard deviation of 5. Conduct a hypothesis test to determine if the two teaching methods have a\n",
    "significant difference in student performance using a t-test with a significance level of 0.01.<br>\n",
    "\n",
    "Q13. A population has a mean of 60 and a standard deviation of 8. A sample of 50 observations has a mean\n",
    "of 65. Calculate the 90% confidence interval for the true population mean.<br>\n",
    "\n",
    "Q14. In a study of the effects of caffeine on reaction time, a sample of 30 participants had an average\n",
    "reaction time of 0.25 seconds with a standard deviation of 0.05 seconds. Conduct a hypothesis test to\n",
    "determine if the caffeine has a significant effect on reaction time at a 90% confidence level using a t-test."
   ]
  },
  {
   "cell_type": "code",
   "execution_count": null,
   "id": "cab8553a-2650-4f51-81fe-4b2a9f4d2550",
   "metadata": {},
   "outputs": [],
   "source": []
  },
  {
   "cell_type": "markdown",
   "id": "c3e30954-6de4-4efe-9330-d84eb238d9b8",
   "metadata": {},
   "source": [
    "### SOLUTION 1"
   ]
  },
  {
   "cell_type": "markdown",
   "id": "97ad01d0-972f-4cbe-bef1-3cc2d7f3959f",
   "metadata": {},
   "source": [
    "* both z-test and t-test can be used for hypothesis testing.\n",
    "* z-test is used when population standard deviation is known and in this we calculate the z-statistic\n",
    "* t-test is used when population standard deviation is not known and sample size is small. in this, t-value is calculated."
   ]
  },
  {
   "cell_type": "code",
   "execution_count": null,
   "id": "12cabf57-71a9-42ed-88a1-3a6292ca0208",
   "metadata": {},
   "outputs": [],
   "source": []
  },
  {
   "cell_type": "markdown",
   "id": "617eb320-6518-46c8-bdf2-6650dff96878",
   "metadata": {},
   "source": [
    "### SOLUTION 2"
   ]
  },
  {
   "cell_type": "markdown",
   "id": "2008f11f-e333-4e95-ba33-e3381ab5bf65",
   "metadata": {},
   "source": [
    "when the rejection region lies on both the tails of the distribution, it is a two-tailed test whereas if rejection region lies only on one side , it is  a one tailed hypothesis test.<Br>\n",
    "detailed difference is attached in pdf"
   ]
  },
  {
   "cell_type": "code",
   "execution_count": null,
   "id": "aa5c8cee-445e-483b-a3cb-9b524343969f",
   "metadata": {},
   "outputs": [],
   "source": []
  },
  {
   "cell_type": "markdown",
   "id": "0e7cf646-a95f-4a4f-b55b-3c94e19bf069",
   "metadata": {},
   "source": [
    "### SOLUTION 3"
   ]
  },
  {
   "cell_type": "markdown",
   "id": "69f12fc8-f6e7-4d39-9c25-f3eecd0289f6",
   "metadata": {},
   "source": [
    "when we reject a null hypothesis even though it was true, it is a Type 1 error, whereas if we accept a null hypothesis even though it wasn't true , it is a type 2 error..<br>\n",
    "\n",
    "\n",
    "EXAMPLE: Imagine a scenario where a pharmaceutical company is testing a new drug meant to lower blood pressure..<br>\n",
    "Null hypothesis: the drug has no effect on blood pressure..<br>\n",
    "Alternative hypothesis: the drug effectively lowers blood pressure..<br>\n",
    "\n",
    "TYPE 1 Error (False positive) : in this scenario, type 1 error occurs when the company rejects the null hypothesis that the drug has no effect on blood pressure even though it is true. this means that they have accepted the alternative hypothesis that the drug effectively lowers the blood pressure. this would lead to marketing and distribution of an ineffective drug and can put patients' lives at risk.<br>\n",
    "\n",
    "TYPE 2 Error(False negative) : In this scenario, type 2 error can occur when the company accepts the null hypothesis that the drug is not effective even though it is not true, meaning it lowers blood pressure effectively. this would lead to an effective drug being discarded."
   ]
  },
  {
   "cell_type": "code",
   "execution_count": null,
   "id": "be3e77da-f1a0-4c49-8747-0c182794afa0",
   "metadata": {},
   "outputs": [],
   "source": []
  },
  {
   "cell_type": "markdown",
   "id": "d01e1eb2-a72f-46b3-b8ab-44f68e25d5e3",
   "metadata": {},
   "source": [
    "### SOLUTION 4"
   ]
  },
  {
   "cell_type": "markdown",
   "id": "a242afa3-494f-4e43-967c-9edc0b205c86",
   "metadata": {},
   "source": [
    "Bayes' theorem is a fundamental concept in probability theory and statistics that allows us to update our beliefs or probabilities based on new evidence or information. It involves conditional probabilities and is expressed mathematically as:<br>\n",
    "\n",
    "P(A|B) = (P(B|A) * P(A)) / P(B)<br>\n",
    "\n",
    "Where:\n",
    "P(A|B) is the probability of event A occurring given that event B has occurred.<br>\n",
    "P(B|A) is the probability of event B occurring given that event A has occurred.<br>\n",
    "P(A) is the prior probability of event A.<br>\n",
    "P(B) is the prior probability of event B.<br>\n",
    "\n",
    "Consider a scenario: Let's consider a medical scenario where a person undergoes a screening test for a specific disease. The test has a known accuracy rate of 95% when someone actually has the disease (true positive rate), and a false positive rate of 2% when someone does not have the disease. It is also known that 1% of the population has the disease.<Br>\n",
    "\n",
    "We want to determine the probability that a person actually has the disease given that the test result is positive.<br>\n",
    "\n",
    "    \n",
    "see the attached pdf for the solution.\n"
   ]
  },
  {
   "cell_type": "code",
   "execution_count": null,
   "id": "c617c676-4f94-4c89-ac38-761671eed675",
   "metadata": {},
   "outputs": [],
   "source": []
  },
  {
   "cell_type": "markdown",
   "id": "f397c70a-7832-4c24-98f5-f4b766e68310",
   "metadata": {},
   "source": [
    "### SOLUTION 5"
   ]
  },
  {
   "cell_type": "markdown",
   "id": "351e69f1-2556-44e7-a38b-2f0539f17944",
   "metadata": {},
   "source": [
    "* While estimating a population parameter from sample  statistic or point estimate, we use the concept of confidence intervals.\n",
    "* It refers to a range of values within which the true value of a population parameter may lie.\n",
    "\n",
    "For instance if we say that a 95% confidence interval for average age of people in India is (25,35), then it is interpreted as follows:<Br>\n",
    "We are 95% confident that the average age of the population in India lies between 25 and 35 years."
   ]
  },
  {
   "cell_type": "code",
   "execution_count": null,
   "id": "7d935619-cb2e-4aad-a692-fceba3cc34cf",
   "metadata": {},
   "outputs": [],
   "source": []
  },
  {
   "cell_type": "markdown",
   "id": "91e0d6f6-0538-40b0-bda9-ff41f1e0131a",
   "metadata": {},
   "source": [
    "### SOLUTION 6"
   ]
  },
  {
   "cell_type": "markdown",
   "id": "878cdc29-1d4a-4bec-b3f3-92199439549a",
   "metadata": {},
   "source": [
    "Suppose you have a bag with 10 balls. There are 6 red balls and 4 blue balls. You close your eyes, pick a ball from the bag, and put it in your pocket. Now, you want to figure out the probability that the ball in your pocket is red.<Br>\n",
    "\n",
    "Using Bayes' Theorem, we can calculate this probability based on the information we have..<Br>\n",
    "\n",
    "where,.<Br>\n",
    "\n",
    "P(Red Ball|In Pocket) = (P(In Pocket|Red Ball) * P(Red Ball)) / P(In Pocket.<Br>\n",
    "\n",
    "P(Red Ball|In Pocket) is the probability that the ball in your pocket is red given what you observed..<Br>\n",
    "P(In Pocket|Red Ball) is the probability that you would put a ball in your pocket, given that it's red. In this case, it's 1 out of 6 because there are 6 red balls in total..<Br>\n",
    "P(Red Ball) is the probability of randomly picking a red ball from the bag, which is 6 out of 10..<Br>\n",
    "P(In Pocket) is the probability that you put any ball in your pocket, regardless of its color.<Br>\n",
    "\n",
    "By using this formula, we can calculate the probability that the ball in your pocket is red. In this case, it would be:.<Br>\n",
    "\n",
    "P(Red Ball|In Pocket) = (1/6 * 6/10) / (10/10) = 6/60 = 1/10.<Br>\n",
    "\n",
    "So, there's a 1 in 10 chance that the ball in your pocket is red based on what you know about the balls in the bag..<Br>\n",
    "\n",
    "Bayes' Theorem helps us update our probabilities and make more informed decisions by incorporating new information into our existing knowledge.\n",
    "\n",
    "\n",
    "\n",
    "\n"
   ]
  },
  {
   "cell_type": "code",
   "execution_count": null,
   "id": "67689d10-a84b-436d-9ce7-e5f184a87a6f",
   "metadata": {},
   "outputs": [],
   "source": []
  },
  {
   "cell_type": "markdown",
   "id": "214179ae-ae51-43a9-b44b-ecec55652a49",
   "metadata": {},
   "source": [
    "### SOLUTION 7"
   ]
  },
  {
   "cell_type": "markdown",
   "id": "826b5bcc-7def-497f-8427-8034e84834ec",
   "metadata": {},
   "source": [
    "Confidence interval : (49.2, 50.98)"
   ]
  },
  {
   "cell_type": "code",
   "execution_count": null,
   "id": "92357983-4e4b-4b21-aa05-aa7b5d51d733",
   "metadata": {},
   "outputs": [],
   "source": []
  },
  {
   "cell_type": "markdown",
   "id": "c0f1fbab-bcfc-43f4-9e25-3ed61a62645f",
   "metadata": {},
   "source": [
    "### SOLUTION 8"
   ]
  },
  {
   "cell_type": "markdown",
   "id": "6ca1b470-7c7c-4273-a8f5-1cfcbc8df24c",
   "metadata": {},
   "source": [
    "* margin of error is a term which helps formulate confidence intervals for a population parameter.\n",
    "* margin of error = (Z* σ)/ √n (where n is the sample size)\n",
    "* as is evident from the relation, margin of error is inversely proportional to sample size\n",
    "* say an organization wants to survey a large population on a national policy like a healthcare reform. by drawing samples considering the entire country as population, we can have a significanlty large sample size. this would minimize margin of error and make the estimates more precise. This will help policymakers and stakeholders understand the public sentiment on the proposed policy and help them formulate better policies."
   ]
  },
  {
   "cell_type": "code",
   "execution_count": null,
   "id": "0d7d2576-cf0a-4289-89e7-c0fbd48385fb",
   "metadata": {},
   "outputs": [],
   "source": []
  },
  {
   "cell_type": "markdown",
   "id": "62476a7f-24a7-45ac-b657-f75d73cb5d8b",
   "metadata": {},
   "source": [
    "### SOLUTION 9"
   ]
  },
  {
   "cell_type": "markdown",
   "id": "664129b0-a7b4-437c-8a38-5b7f48d248c1",
   "metadata": {},
   "source": [
    "Z = 1.<br>\n",
    "calculation is shown in pdf"
   ]
  },
  {
   "cell_type": "code",
   "execution_count": null,
   "id": "a39dd0b9-1aed-486d-aed5-a11e5a544130",
   "metadata": {},
   "outputs": [],
   "source": []
  },
  {
   "cell_type": "markdown",
   "id": "4ffb01bb-0207-4620-8e48-c065ad20177b",
   "metadata": {},
   "source": [
    "### SOLUTION 10\n",
    "the question is incomplete because we do not have the population mean."
   ]
  },
  {
   "cell_type": "code",
   "execution_count": null,
   "id": "15c70139-cfc0-446d-b276-2f6e33b9fc75",
   "metadata": {},
   "outputs": [],
   "source": []
  },
  {
   "cell_type": "markdown",
   "id": "db7a58cf-c9a5-4207-8960-d76bb7a82119",
   "metadata": {},
   "source": [
    "### SOLUTION 11\n",
    "the solution is in the pdf attached."
   ]
  },
  {
   "cell_type": "code",
   "execution_count": null,
   "id": "447fde6a-1a09-4748-b19d-d77d496b7c40",
   "metadata": {},
   "outputs": [],
   "source": []
  },
  {
   "cell_type": "code",
   "execution_count": null,
   "id": "d012762f-8bb4-4934-acdd-d309d4996a15",
   "metadata": {},
   "outputs": [],
   "source": []
  },
  {
   "cell_type": "markdown",
   "id": "94c4d963-0f7b-44be-a574-89dbedcbc81e",
   "metadata": {},
   "source": [
    "### SOLUTION 12"
   ]
  },
  {
   "cell_type": "markdown",
   "id": "39a3f5df-37b6-42dc-8b35-abaaedf06c8c",
   "metadata": {},
   "source": [
    "we fail to reject the null hypothesis. calculations shown in the pdf attached."
   ]
  },
  {
   "cell_type": "code",
   "execution_count": null,
   "id": "14c74326-f82d-4b68-9c55-71583c535fda",
   "metadata": {},
   "outputs": [],
   "source": []
  },
  {
   "cell_type": "markdown",
   "id": "c2c9c5ba-e239-4082-8584-22aa8773b924",
   "metadata": {},
   "source": [
    "### SOLUTION 13"
   ]
  },
  {
   "cell_type": "markdown",
   "id": "d7c0cc6e-e956-4eca-af2f-10df53eadf04",
   "metadata": {},
   "source": [
    "confidence interval : (63.139, 66.861)<Br>\n",
    "calculation is shown in the pdf"
   ]
  },
  {
   "cell_type": "code",
   "execution_count": null,
   "id": "d1330480-445d-4fb6-9f66-7d608764734d",
   "metadata": {},
   "outputs": [],
   "source": []
  },
  {
   "cell_type": "markdown",
   "id": "87be0cc7-9528-497f-ae4f-6c8ac7e733eb",
   "metadata": {},
   "source": [
    "### SOLUTION 14 \n",
    "the question is incomplete because we do not have the population mean"
   ]
  },
  {
   "cell_type": "markdown",
   "id": "16e3f61b-fa44-447a-88a5-3d2d068916f8",
   "metadata": {},
   "source": []
  },
  {
   "cell_type": "code",
   "execution_count": null,
   "id": "458afa9d-ae8e-4883-a335-8e8444eb6917",
   "metadata": {},
   "outputs": [],
   "source": []
  }
 ],
 "metadata": {
  "kernelspec": {
   "display_name": "Python 3 (ipykernel)",
   "language": "python",
   "name": "python3"
  },
  "language_info": {
   "codemirror_mode": {
    "name": "ipython",
    "version": 3
   },
   "file_extension": ".py",
   "mimetype": "text/x-python",
   "name": "python",
   "nbconvert_exporter": "python",
   "pygments_lexer": "ipython3",
   "version": "3.9.13"
  }
 },
 "nbformat": 4,
 "nbformat_minor": 5
}
