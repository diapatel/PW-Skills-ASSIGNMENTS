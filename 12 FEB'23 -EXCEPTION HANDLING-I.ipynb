{
 "cells": [
  {
   "cell_type": "markdown",
   "id": "bfff0f76",
   "metadata": {},
   "source": [
    "<b>QUESTION 1:</b>What is Exception in Python? Write the differences between exceptions and syntax errors.<br>\n",
    "<b>SOLUTION:</b>\n",
    "When a syntactically correct Python code does not run as expected, it is said to raise an Exception.<br>\n",
    "When a block of code is syntactically invalid according to Python, it raises a Syntax error. However, when a syntactically valid Python code doesn't run correctly, it is said to be an exception."
   ]
  },
  {
   "cell_type": "code",
   "execution_count": null,
   "id": "057fe7d4",
   "metadata": {},
   "outputs": [],
   "source": []
  },
  {
   "cell_type": "code",
   "execution_count": null,
   "id": "b16d9c8e",
   "metadata": {},
   "outputs": [],
   "source": []
  },
  {
   "cell_type": "markdown",
   "id": "a7835944",
   "metadata": {},
   "source": [
    "<b>QUESTION 2:</b>What happens when an exception is not handled? Explain with an example.<br>\n",
    "<b>SOLUTION:</b>  \n",
    "When an exception is not handled, the implementation of the code is immediately stopped and the interpreter indicates where the error is in the code and also, describes the kind of error."
   ]
  },
  {
   "cell_type": "code",
   "execution_count": null,
   "id": "878126d4",
   "metadata": {},
   "outputs": [],
   "source": [
    "#the following code tries to convert the given string to an integer but throws an error because\n",
    "#it is not possible\n",
    "\n",
    "s = 'wakanda'\n",
    "print(int(s))"
   ]
  },
  {
   "cell_type": "code",
   "execution_count": null,
   "id": "c1174c65",
   "metadata": {},
   "outputs": [],
   "source": []
  },
  {
   "cell_type": "markdown",
   "id": "2a827e48",
   "metadata": {},
   "source": [
    "<b>QUESTION 3:</b>Which Python statements are used to catch and handle exceptions? Explain using\n",
    "    an example.<br>\n",
    "<b>SOLUTION:</b> \n",
    "In Python, try and except statements are used to catch and handle exceptions.<br>\n",
    "EXAMPLE: The following code takes two numbers from the user and returns the quotient when the first number is divided by the second. If the second number is zero, it is handled using the ZeroDivisionError exception."
   ]
  },
  {
   "cell_type": "code",
   "execution_count": null,
   "id": "7d2b1221",
   "metadata": {},
   "outputs": [],
   "source": [
    "try:\n",
    "    num1 = int(input(\"Enter first number: \"))\n",
    "    num2 = int(input(\"Enter second number: \"))\n",
    "    print(num1/num2)\n",
    "    \n",
    "except ZeroDivisionError as e:\n",
    "    print(\"There is some error with the inputs\",e)"
   ]
  },
  {
   "cell_type": "code",
   "execution_count": null,
   "id": "1408f9f8",
   "metadata": {},
   "outputs": [],
   "source": []
  },
  {
   "cell_type": "markdown",
   "id": "c869508a",
   "metadata": {},
   "source": [
    "<b>QUESTION 4:</b>Explain with example.<br>\n",
    "    a. try and except <br>\n",
    "    b. finally <br>\n",
    "    c. raise <br>\n",
    "<b>SOLUTION:</b>\n",
    "a. try and except statements in Python are used to catch and handle exceptions. The block of code that can raise an exception is written as the try statement and the code lines to handle that exception is written under the except statement."
   ]
  },
  {
   "cell_type": "code",
   "execution_count": null,
   "id": "48289cfc",
   "metadata": {},
   "outputs": [],
   "source": [
    "try:\n",
    "    a = 'alyssa'\n",
    "    b = 10\n",
    "    print(a+b)\n",
    "except TypeError as e:\n",
    "    print(\"There is some error in the code\", e)"
   ]
  },
  {
   "cell_type": "markdown",
   "id": "b793f25e",
   "metadata": {},
   "source": [
    "b. The code lines that are written under finally are executed regardless of whether exceptions were\n",
    "raised in the entire code or not."
   ]
  },
  {
   "cell_type": "code",
   "execution_count": null,
   "id": "e611168b",
   "metadata": {},
   "outputs": [],
   "source": [
    "try:\n",
    "    a = z\n",
    "    print(z)\n",
    "except NameError as e:\n",
    "    print(\"There is some error in the code\",e)\n",
    "finally:\n",
    "    print(\"The finally code block is always executed\")"
   ]
  },
  {
   "cell_type": "markdown",
   "id": "7bc6c1f2",
   "metadata": {},
   "source": [
    "c. When a condition does not meet our criteria but is valid according to the Python interpreter, \n",
    "we can raise a custom exception using raise keyword."
   ]
  },
  {
   "cell_type": "code",
   "execution_count": null,
   "id": "462ed825",
   "metadata": {},
   "outputs": [],
   "source": [
    "#writing code such that only lists of length is greater than 3, an exception is raised\n",
    "\n",
    "l = [1,2,3,4]\n",
    "if len(l) >3:\n",
    "    raise Exception(f\"the length of the list should be less than or equal to 3\")"
   ]
  },
  {
   "cell_type": "code",
   "execution_count": null,
   "id": "b2074420",
   "metadata": {},
   "outputs": [],
   "source": []
  },
  {
   "cell_type": "markdown",
   "id": "a9ed1038",
   "metadata": {},
   "source": [
    "<b>QUESTION 5<br>:</b>What are Custom Exceptions in Python? Why do we need Custom exceptions?\n",
    "    Explain with an example.<br>\n",
    "<b>SOLUTION:</b>Custom Exceptions in Python are exceptions that are user-defined and are not built-in.\n",
    "* Python has various in-built functions that coerce the interpreter to throw an error whenever something in the program goes wrong.But , in some cases users have to defined their own Exception classes that are tailored to their needs."
   ]
  },
  {
   "cell_type": "code",
   "execution_count": null,
   "id": "c159b520",
   "metadata": {},
   "outputs": [],
   "source": [
    "class NegativeError(Exception):\n",
    "    def __init__(self, data):\n",
    "        self.data = data\n",
    "\n",
    "try:\n",
    "    number = int(input(\"Enter a positive number: \"))\n",
    "    if number < 0:\n",
    "        raise NegativeError(number)\n",
    "except NegativeError as ex:\n",
    "    print(f\"You entered {number}. Please enter a positive number.\")"
   ]
  },
  {
   "cell_type": "code",
   "execution_count": null,
   "id": "999c0aba",
   "metadata": {},
   "outputs": [],
   "source": []
  },
  {
   "cell_type": "markdown",
   "id": "ef6019f6",
   "metadata": {},
   "source": [
    "<b>QUESTION 6: </b> Create a custom exception class. Use this class to handle an exception.<br>\n",
    "<b> SOLUTION: </b>\n",
    "Below is a custom exception class named SalaryNotInRangeError. It throws an error if the salary entered by the user does not lie betweeen 5000 and 15000."
   ]
  },
  {
   "cell_type": "code",
   "execution_count": null,
   "id": "f6a2aaef",
   "metadata": {},
   "outputs": [],
   "source": [
    "class SalaryNotInRangeError(Exception):\n",
    "    '''\n",
    "    raises errors for salary values that are not in the range between 5000 and 15000\n",
    "    \n",
    "    ATTRIBUTES:\n",
    "    salary - the value that is entered by the user and can raise error.\n",
    "    message - the message to be displayed when the error is raised.'''\n",
    "    \n",
    "    def __init__(self, salary, message ='Salary is not in (5000, 15000) range'):\n",
    "        self.salary = salary\n",
    "        self.message = message\n",
    "        super().__init__(self.message)\n",
    "        \n",
    "        \n",
    "salary = int(input(\"Enter salary:\"))\n",
    "if not 5000 < salary < 15000:\n",
    "    raise SalaryNotInRangeError(salary)"
   ]
  },
  {
   "cell_type": "code",
   "execution_count": null,
   "id": "817413a8",
   "metadata": {},
   "outputs": [],
   "source": []
  }
 ],
 "metadata": {
  "kernelspec": {
   "display_name": "Python 3 (ipykernel)",
   "language": "python",
   "name": "python3"
  },
  "language_info": {
   "codemirror_mode": {
    "name": "ipython",
    "version": 3
   },
   "file_extension": ".py",
   "mimetype": "text/x-python",
   "name": "python",
   "nbconvert_exporter": "python",
   "pygments_lexer": "ipython3",
   "version": "3.9.13"
  }
 },
 "nbformat": 4,
 "nbformat_minor": 5
}
