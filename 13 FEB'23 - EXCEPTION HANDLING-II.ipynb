{
 "cells": [
  {
   "cell_type": "markdown",
   "id": "e367ccd3",
   "metadata": {},
   "source": [
    "<b>QUESTION 1: </b>Explain why we have to use the Exception class while creating a Custom Exception.\n",
    "Note: Here Exception class refers to the base class for all the exceptions.<br>\n",
    "<b>SOLUTION: </b>Since Exception class is the parent class of all exception in python, every Custom Exception class inherits from this base Exception class.<br>"
   ]
  },
  {
   "cell_type": "code",
   "execution_count": null,
   "id": "3f80ce12",
   "metadata": {},
   "outputs": [],
   "source": []
  },
  {
   "cell_type": "markdown",
   "id": "40d0c6f2",
   "metadata": {},
   "source": [
    "<b>QUESTION 2: </b>Write a python program to print Python Exception Hierarchy.<br>\n",
    "<b>SOLUTION: </b><br>"
   ]
  },
  {
   "cell_type": "code",
   "execution_count": null,
   "id": "bff631b0",
   "metadata": {},
   "outputs": [],
   "source": [
    "# import inspect module\n",
    "import inspect\n",
    "  \n",
    "# our treeClass function\n",
    "def treeClass(cls, ind = 0):\n",
    "    \n",
    "      # print name of the class\n",
    "    print ('-' * ind, cls.__name__)\n",
    "      \n",
    "    # iterating through subclasses\n",
    "    for i in cls.__subclasses__():\n",
    "        treeClass(i, ind + 3)\n",
    "  \n",
    "print(\"Hierarchy for Built-in exceptions is : \")\n",
    "  \n",
    "# inspect.getmro() Return a tuple \n",
    "# of class  cls’s base classes.\n",
    "  \n",
    "# building a tree hierarchy \n",
    "inspect.getclasstree(inspect.getmro(BaseException))\n",
    "  \n",
    "# function call\n",
    "treeClass(BaseException)"
   ]
  },
  {
   "cell_type": "code",
   "execution_count": null,
   "id": "95599ef4",
   "metadata": {},
   "outputs": [],
   "source": []
  },
  {
   "cell_type": "markdown",
   "id": "869732ec",
   "metadata": {},
   "source": [
    "<b>QUESTION 3: </b>What errors are defined in the ArithmeticError class? Explain any two with an example.<br>\n",
    "<b>SOLUTION: </b>ArithmeticError class has the following errors:\n",
    "* ZeroDivisionError\n",
    "* OverflowError\n",
    "* FloatingPointError<br>"
   ]
  },
  {
   "cell_type": "code",
   "execution_count": null,
   "id": "a1573f8e",
   "metadata": {},
   "outputs": [],
   "source": [
    "#ZERO DIVISION ERROR\n",
    "try:\n",
    "    a = int(input(\"Enter first number: \"))\n",
    "    b = int(input(\"Enter second number: \"))\n",
    "    print(f'a/b = {a/b}')\n",
    "    \n",
    "except ZeroDivisionError:\n",
    "    print(\"The second number(b) cannot be zero\")"
   ]
  },
  {
   "cell_type": "code",
   "execution_count": null,
   "id": "bd80fe61",
   "metadata": {},
   "outputs": [],
   "source": [
    "#OVERFLOW ERROR\n",
    "j = 5\n",
    "\n",
    "try:\n",
    "    for i in range(1,1000):\n",
    "        j = j**i\n",
    "except OverflowError as ex:\n",
    "    print(ex)"
   ]
  },
  {
   "cell_type": "code",
   "execution_count": null,
   "id": "d324de68",
   "metadata": {},
   "outputs": [],
   "source": []
  },
  {
   "cell_type": "code",
   "execution_count": null,
   "id": "260a753f",
   "metadata": {},
   "outputs": [],
   "source": []
  },
  {
   "cell_type": "markdown",
   "id": "78b4b4a9",
   "metadata": {},
   "source": [
    "<b>QUESTION 4: </b>Why LookupError class is used? Explain with an example KeyError and IndexError.<br>\n",
    "<b>SOLUTION: </b>LookupError exception class forms the base class for all the exceptions that are raised when an index or a key is not found for a sequence or a dictionary respectively.<br>\n",
    "This class is used to handle both IndexError and KeyError."
   ]
  },
  {
   "cell_type": "code",
   "execution_count": null,
   "id": "869ca454",
   "metadata": {},
   "outputs": [],
   "source": [
    "#INDEX ERROR\n",
    "lst = [1,2,3,4] \n",
    "\n",
    "try:\n",
    "    print(lst[10]) #this raises an index error because lst has only 4 elements\n",
    "except IndexError as ex:\n",
    "    print(f'{ex}, {ex.__class__}')"
   ]
  },
  {
   "cell_type": "code",
   "execution_count": null,
   "id": "d88f6132",
   "metadata": {},
   "outputs": [],
   "source": [
    "#KEY ERROR\n",
    "dictionary = {\n",
    "    'first': 'Tris',\n",
    "    'last' : 'Prior',\n",
    "    'faction': 'Abnegation',\n",
    "}\n",
    "\n",
    "try:\n",
    "    user_input = input(\"What do you want to know about Tris? \")\n",
    "    print(f'Tris\\'s age is {dictionary[user_input]}.')\n",
    "except KeyError as e:\n",
    "    print(f'{e}, {e.__class__}')"
   ]
  },
  {
   "cell_type": "code",
   "execution_count": null,
   "id": "438dbfd3",
   "metadata": {},
   "outputs": [],
   "source": []
  },
  {
   "cell_type": "markdown",
   "id": "76fc29f7",
   "metadata": {},
   "source": [
    "<b>QUESTION 5 : </b>Explain ImportError. What is ModuleNotFoundError?<br>\n",
    "<b>SOLUTION: </b>\n",
    "<b>ImportError:<br>\n",
    "ImportError is raised when a module or a member of a module cannot be imported.<br>\n",
    "ImportError is raised in two conditions:<br>\n",
    "* the module does not exist.<br>\n",
    "* in case of 'from X import Y', component Y does not exist inside module X.</b><br>\n",
    "\n",
    "<b>ModuleNotFoundError</b> is raised when a module we are trying to access is not found or does not exist."
   ]
  },
  {
   "cell_type": "code",
   "execution_count": null,
   "id": "e692f9e5",
   "metadata": {},
   "outputs": [],
   "source": []
  },
  {
   "cell_type": "markdown",
   "id": "32e885a8",
   "metadata": {},
   "source": [
    "<b>QUESTION 6 : </b>List down some best practices for exception handling in python.<br>\n",
    "<b>SOLUTION: </b>\n",
    "* do not use exceptions as a part of flow control.\n",
    "* It is better that we handle exceptions at a level where we know how to handle them.\n",
    "* We should document the exceptions that are thrown by our code. This helps us writing more efficient and accurate code.<br>"
   ]
  },
  {
   "cell_type": "code",
   "execution_count": null,
   "id": "663dff10",
   "metadata": {},
   "outputs": [],
   "source": []
  },
  {
   "cell_type": "code",
   "execution_count": null,
   "id": "7564d055",
   "metadata": {},
   "outputs": [],
   "source": []
  }
 ],
 "metadata": {
  "kernelspec": {
   "display_name": "Python 3 (ipykernel)",
   "language": "python",
   "name": "python3"
  },
  "language_info": {
   "codemirror_mode": {
    "name": "ipython",
    "version": 3
   },
   "file_extension": ".py",
   "mimetype": "text/x-python",
   "name": "python",
   "nbconvert_exporter": "python",
   "pygments_lexer": "ipython3",
   "version": "3.9.13"
  }
 },
 "nbformat": 4,
 "nbformat_minor": 5
}
