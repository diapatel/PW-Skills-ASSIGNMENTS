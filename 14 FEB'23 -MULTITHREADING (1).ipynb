{
 "cells": [
  {
   "cell_type": "markdown",
   "id": "7e4ded23",
   "metadata": {},
   "source": [
    "<b> QUESTION 1: </b> What is multithreading in python? Why is it used? Name the module used to handle threads in pytho<br>\n",
    "<b> SOLUTION: <b><br>"
   ]
  },
  {
   "cell_type": "markdown",
   "id": "cd3b47c4",
   "metadata": {},
   "source": [
    "Multithreading is a threading technique in Python to run multiple threads concurrently by rapidly switching between threads with the help from CPU.<br>\n",
    "\n",
    "It is used because it has many advantages like:<br>\n",
    "* increases performance of program<br>\n",
    "* increases speed<br>\n",
    "* improves the rendering of application<br>\n",
    "\n",
    "The threading module is used to handle threads in Python."
   ]
  },
  {
   "cell_type": "code",
   "execution_count": null,
   "id": "f7c28c46",
   "metadata": {},
   "outputs": [],
   "source": []
  },
  {
   "cell_type": "markdown",
   "id": "50ef1eb6",
   "metadata": {},
   "source": [
    "<b> QUESTION 2: </b> Why threading module used? Write the use of the following functions<br>\n",
    "a) activeCount()<br>\n",
    "b) currentThread()<br>\n",
    "c) enumerate()<br>\n",
    "<b> SOLUTION: <b><br>"
   ]
  },
  {
   "cell_type": "markdown",
   "id": "77d02afa",
   "metadata": {},
   "source": [
    "The threading module is used to achieve Multithreading.<br>\n",
    "\n",
    "a) activeCount() -- used to return the number of active threads at any instant.<br>\n",
    "b) currentThread() -- used to return the current thread object.<br>\n",
    "c) enumerate() -- takes a collection as an argument and returns an enumerate object. adds a counter as the key of the enumerate object. (See the following code block to see its functionality.) <br>"
   ]
  },
  {
   "cell_type": "code",
   "execution_count": 31,
   "id": "a91fea55",
   "metadata": {},
   "outputs": [
    {
     "name": "stdout",
     "output_type": "stream",
     "text": [
      "Looping with enumerate: \n",
      "\n",
      "0 ginny\n",
      "1 luca\n",
      "2 jake\n",
      "3 ed\n",
      "4 pam\n",
      "----------------------------------------\n",
      "Looping without enumerate:\n",
      "\n",
      "ginny\n",
      "luca\n",
      "jake\n",
      "ed\n",
      "pam\n"
     ]
    }
   ],
   "source": [
    "#example of enumerate\n",
    "\n",
    "l1 = ['ginny','luca','jake','ed','pam']\n",
    "\n",
    "#looping through a list with enumerate\n",
    "print(\"Looping with enumerate: \\n\")\n",
    "for count,value in enumerate(l1):\n",
    "    print(count,value)\n",
    "    \n",
    "print('-' * 40)    \n",
    "#looping through the list l1 without enumerate\n",
    "print(\"Looping without enumerate:\\n\")\n",
    "for i in l1:\n",
    "    print(i)"
   ]
  },
  {
   "cell_type": "code",
   "execution_count": null,
   "id": "a6ff1028",
   "metadata": {},
   "outputs": [],
   "source": []
  },
  {
   "cell_type": "markdown",
   "id": "ca8950a4",
   "metadata": {},
   "source": [
    "<b> QUESTION 3: </b> Explain the following functions:<br>\n",
    "a) run()<br>\n",
    "b) start()<br>\n",
    "c) join()<br>\n",
    "d) isAlive()<br>\n",
    "<b> SOLUTION: <b><br>"
   ]
  },
  {
   "cell_type": "markdown",
   "id": "374a7767",
   "metadata": {},
   "source": [
    "a) run() -- executes any target function that belongs to a thread object that is active at the moment.It normally executes in the background after the .start() method is invoked. <br>\n",
    "\n",
    "b) start() -- used to initiate the activity of a thread.It is called only once for each thread so that the execution of each thread can begin.<br>\n",
    "\n",
    "c) join() -- used to block the execution of another code until the thread is completely executed.<br>\n",
    "\n",
    "d) isAlive() -- returns True if the thread is still running and False otherwise.\n",
    "returns True from when the .run() method starts until just after it finishes.<br>"
   ]
  },
  {
   "cell_type": "code",
   "execution_count": null,
   "id": "75b766fd",
   "metadata": {},
   "outputs": [],
   "source": []
  },
  {
   "cell_type": "markdown",
   "id": "f5b27a31",
   "metadata": {},
   "source": [
    "<b> QUESTION 4: </b> Write a python program to create two threads. Thread one must print the list of squares and thread\n",
    "two must print the list of cubes<br>\n",
    "<b> SOLUTION: <b><br>"
   ]
  },
  {
   "cell_type": "code",
   "execution_count": 27,
   "id": "26f68402",
   "metadata": {},
   "outputs": [
    {
     "name": "stdout",
     "output_type": "stream",
     "text": [
      "List of squares:\n",
      "\n",
      "0\n",
      "1\n",
      "4\n",
      "9\n",
      "16\n",
      "25\n",
      "36\n",
      "49\n",
      "64\n",
      "81\n",
      "100\n",
      "----------------------------------------\n",
      "List of cubes:\n",
      "\n",
      "0\n",
      "1\n",
      "8\n",
      "27\n",
      "64\n",
      "125\n",
      "216\n",
      "343\n",
      "512\n",
      "729\n",
      "1000\n",
      "6\n"
     ]
    }
   ],
   "source": [
    "import threading\n",
    "\n",
    "def squares(n):\n",
    "    print(n**2)\n",
    "        \n",
    "def cubes(n):\n",
    "        print(n**3)\n",
    "\n",
    "t1 = [threading.Thread(target=squares,args = (i,)) for i in range(11)]\n",
    "list_of_squares = []\n",
    "print(\"List of squares:\\n\")\n",
    "for t in t1:\n",
    "    t.start()\n",
    "    \n",
    "print('-'*40)\n",
    "\n",
    "print(\"List of cubes:\\n\")\n",
    "t2 = [threading.Thread(target = cubes, args = (i,)) for i in range(11)]\n",
    "\n",
    "for t in t2:\n",
    "    t.start()\n",
    "   \n"
   ]
  },
  {
   "cell_type": "code",
   "execution_count": null,
   "id": "dba79cdc",
   "metadata": {},
   "outputs": [],
   "source": []
  },
  {
   "cell_type": "markdown",
   "id": "bef774d2",
   "metadata": {},
   "source": [
    "<b> QUESTION 5: </b>State advantages and disadvantages of multithreading<br>\n",
    "<b> SOLUTION: <b><br>"
   ]
  },
  {
   "cell_type": "markdown",
   "id": "0938e67c",
   "metadata": {},
   "source": [
    "<b> ADVANTAGES OF MULTITHREADING:<b><br>\n",
    "* effective utilization of resources.<br>\n",
    "* runs multiple threads simultaneously and saves time.<br>\n",
    "* it shares its resources and state with sub-threads which makes the process more economical.<br>\n",
    "    \n",
    " \n",
    "<b> DISADVANTAGES OF MULTITHREADING:<b><br>\n",
    "* Python GIL(Global Interpreter Lock) restricts the execution of multiple threads at once. so, even if we have multiple processors, they can't be utilised and are wasted.\n",
    "* makes the code more complex\n",
    "* difficult to debug unpredictable results."
   ]
  },
  {
   "cell_type": "code",
   "execution_count": null,
   "id": "6d49bdd2",
   "metadata": {},
   "outputs": [],
   "source": []
  },
  {
   "cell_type": "markdown",
   "id": "899a1b0f",
   "metadata": {},
   "source": [
    "<b> QUESTION 6: </b> Explain deadlocks and race conditions.<br>\n",
    "<b> SOLUTION: <b><br>"
   ]
  },
  {
   "cell_type": "markdown",
   "id": "d15c8ace",
   "metadata": {},
   "source": [
    "*<b>RACE CONDITIONS:</b>* This is one of the major issues in concurrent programming. Concurrent access to shared resources can lead to race condition. A race condition may be defined as the occurring of a condition when two or more threads can access shared data and then try to change its value at the same time. Due to this, the values of variables may be unpredictable and vary depending on the timings of context switches of the processes.\n",
    "\n",
    "*<b>DEADLOCKS:</b>*   In a concurrent system, a deadlock occurs when different threads or processes (philosophers) try to acquire the shared system resources (forks) at the same time. As a result, none of the processes get a chance to execute as they are waiting for another resource held by some other process."
   ]
  },
  {
   "cell_type": "code",
   "execution_count": null,
   "id": "ac85f559",
   "metadata": {},
   "outputs": [],
   "source": []
  }
 ],
 "metadata": {
  "kernelspec": {
   "display_name": "Python 3 (ipykernel)",
   "language": "python",
   "name": "python3"
  },
  "language_info": {
   "codemirror_mode": {
    "name": "ipython",
    "version": 3
   },
   "file_extension": ".py",
   "mimetype": "text/x-python",
   "name": "python",
   "nbconvert_exporter": "python",
   "pygments_lexer": "ipython3",
   "version": "3.9.13"
  }
 },
 "nbformat": 4,
 "nbformat_minor": 5
}
