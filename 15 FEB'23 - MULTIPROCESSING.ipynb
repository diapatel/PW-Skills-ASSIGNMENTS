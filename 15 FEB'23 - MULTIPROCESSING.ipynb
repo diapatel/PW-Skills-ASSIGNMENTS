{
 "cells": [
  {
   "cell_type": "markdown",
   "id": "517244ef",
   "metadata": {},
   "source": [
    "<b>QUESTION 1: </b>What is multiprocessing in python? Why is it useful?<br>\n",
    "<b>SOLUTION: </b>Multiprocessing refers to the ability to execute multiple processes or tasks simultaneously on multiple processors or cores of a computer, as opposed to executing them in a sequential manner.\n",
    "* In simpler terms, multiprocessing allows you to take advantage of the multi-core processors in modern computers to perform CPU-intensive tasks more efficiently, by splitting them into smaller sub-tasks that can be executed simultaneously on different processors. This can significantly reduce the time taken to complete the tasks and improve the overall performance of the program.\n",
    "* In Python, the multiprocessing module provides a way to create and manage multiple processes. It offers several classes and functions to create and control processes, to communicate and share data between them, and to handle exceptions and errors that may occur during their execution.\n",
    "\n",
    "Some use cases of Multiprocessing are:\n",
    "* CPU-intensive tasks: Multiprocessing can speed up the execution of tasks that require a lot of CPU time, such as image processing, machine learning, and scientific computing.\n",
    "\n",
    "* Parallel programming: Multiprocessing can be used to implement parallel algorithms, where multiple processes work together to solve a problem.\n",
    "\n",
    "* Scalability: Multiprocessing can help to scale up the performance of a program as the size of the data or the complexity of the problem increases.\n"
   ]
  },
  {
   "cell_type": "code",
   "execution_count": null,
   "id": "6242339d",
   "metadata": {},
   "outputs": [],
   "source": []
  },
  {
   "cell_type": "markdown",
   "id": "ca149bdc",
   "metadata": {},
   "source": [
    "<b>QUESTION 2: </b>What are the differences between multiprocessing and multithreading?<br>\n",
    "<b>SOLUTION: </b><Br>\n",
    "* In multithreading, multiple threads of a single process are created to increase computing power. Whereas in Multiprocessing, CPUs are added for increasing computing power.\n",
    "* In mulithreading, many threads of a process are executed simultaneously whereas in multiprocessing, multiple process are executed simultaneously,\n",
    "* In multithreading, all threads share the same address while in multiprocessing, different processes have different addresses.\n",
    "                   "
   ]
  },
  {
   "cell_type": "code",
   "execution_count": null,
   "id": "f331951a",
   "metadata": {},
   "outputs": [],
   "source": []
  },
  {
   "cell_type": "markdown",
   "id": "68986bca",
   "metadata": {},
   "source": [
    "<b>QUESTION 3: </b>Write a python code to create a process using the multiprocessing module.<br>\n",
    "<b>SOLUTION: </b>"
   ]
  },
  {
   "cell_type": "code",
   "execution_count": null,
   "id": "176d9319",
   "metadata": {},
   "outputs": [],
   "source": [
    "# importing the multiprocessing module\n",
    "import multiprocessing\n",
    "  \n",
    "def print_cube(num):\n",
    "    \"\"\"\n",
    "    function to print cube of given num\n",
    "    \"\"\"\n",
    "    print(\"Cube: {}\".format(num * num * num))\n",
    "  \n",
    "def print_square(num):\n",
    "    \"\"\"\n",
    "    function to print square of given num\n",
    "    \"\"\"\n",
    "    print(\"Square: {}\".format(num * num))\n",
    "  \n",
    "if __name__ == \"__main__\":\n",
    "    # creating processes\n",
    "    p1 = multiprocessing.Process(target=print_square, args=(10, ))\n",
    "    p2 = multiprocessing.Process(target=print_cube, args=(10, ))\n",
    "  \n",
    "    # starting process 1\n",
    "    p1.start()\n",
    "    # starting process 2\n",
    "    p2.start()\n",
    "    \n",
    "    \n",
    "     # wait until process 1 is finished\n",
    "    p1.join()\n",
    "    # wait until process 2 is finished\n",
    "    p2.join()\n",
    "  \n",
    "    # both processes finished\n",
    "    print(\"Done!\")"
   ]
  },
  {
   "cell_type": "code",
   "execution_count": null,
   "id": "a2b7789c",
   "metadata": {},
   "outputs": [],
   "source": []
  },
  {
   "cell_type": "markdown",
   "id": "d53423b7",
   "metadata": {},
   "source": [
    "<b>QUESTION 4: </b>What is a multiprocessing pool in python? Why is it used?<br>\n",
    "<b>SOLUTION: </b>In Python, a multiprocessing pool is a class in the multiprocessing module that provides a way to distribute tasks across multiple CPU cores. The idea is to create a pool of worker processes that can execute tasks in parallel, thereby reducing the time it takes to complete a large number of tasks.\n",
    "\n",
    "\n",
    "\n",
    "The advantage of using a multiprocessing pool is that it allows you to take advantage of multiple CPU cores to perform computations in parallel. This can lead to significant speedups for CPU-bound tasks, such as numerical computations, image processing, or machine learning.\n",
    "\n",
    "The Pool class in Python also provides various methods for controlling the number of worker processes, waiting for tasks to complete, and handling errors. Overall, it's a powerful tool for scaling up your Python programs to take advantage of modern hardware.\n",
    "\n"
   ]
  },
  {
   "cell_type": "code",
   "execution_count": null,
   "id": "65da1cbb",
   "metadata": {},
   "outputs": [],
   "source": []
  },
  {
   "cell_type": "markdown",
   "id": "bdb55785",
   "metadata": {},
   "source": [
    "<b>QUESTION 5: </b> How can we create a pool of worker processes in python using the multiprocessing module?<br>\n",
    "<b>SOLUTION: </b>The multiprocessing module’s Pool class can be used to create a pool of processes in Python.<Br>\n",
    "\n",
    "Here's how it is implemented:\n",
    "\n",
    "* We first create a Pool object with a specified number of worker processes.\n",
    "* Then, we can assign tasks to the pool using the apply(), apply_async(), map(), or map_async() methods.\n",
    "* The pool distributes the tasks among the worker processes and runs them in parallel.\n",
    "* The results of each task are collected and returned to the main process.<br>\n"
   ]
  },
  {
   "cell_type": "code",
   "execution_count": null,
   "id": "ccde2be4",
   "metadata": {},
   "outputs": [],
   "source": []
  },
  {
   "cell_type": "markdown",
   "id": "878cf14d",
   "metadata": {},
   "source": [
    "<b>QUESTION 6: </b>Write a python program to create 4 processes, each process should print a different number using the\n",
    "multiprocessing module in python.<br>\n",
    "<b>SOLUTION: </b>"
   ]
  },
  {
   "cell_type": "code",
   "execution_count": null,
   "id": "93d74175",
   "metadata": {},
   "outputs": [],
   "source": [
    "import multiprocessing\n",
    "import random\n",
    "\n",
    "def generate_random_number(num):\n",
    "    \"\"\"\n",
    "    This function generates random numbers between 1 to 500\n",
    "    \"\"\"\n",
    "    random_number = random.randint(1, 500)\n",
    "    print(f\"Process number {num}, random number generated : {random_number}\")\n",
    "\n",
    "if __name__ == '__main__':\n",
    "    # Creating a processess list\n",
    "    processes = []\n",
    "    for i in range(4):\n",
    "        p = multiprocessing.Process(target=generate_random_number, args=(i,))\n",
    "        processes.append(p)\n",
    "        p.start()\n",
    "    \n",
    "    # Waiting for processess to complete\n",
    "    for p in processes:\n",
    "        p.join()"
   ]
  }
 ],
 "metadata": {
  "kernelspec": {
   "display_name": "Python 3 (ipykernel)",
   "language": "python",
   "name": "python3"
  },
  "language_info": {
   "codemirror_mode": {
    "name": "ipython",
    "version": 3
   },
   "file_extension": ".py",
   "mimetype": "text/x-python",
   "name": "python",
   "nbconvert_exporter": "python",
   "pygments_lexer": "ipython3",
   "version": "3.9.13"
  }
 },
 "nbformat": 4,
 "nbformat_minor": 5
}
