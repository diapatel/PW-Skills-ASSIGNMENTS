{
 "cells": [
  {
   "cell_type": "markdown",
   "id": "70878e79",
   "metadata": {},
   "source": [
    "<b>QUESTION 1:</b>Explain the following with an example:\n",
    "1. Artificial Intelligence\n",
    "2. Machine Learning\n",
    "3. Deep Learning<br>\n",
    "\n",
    "<b>SOLUTION: </b>\n",
    "1. <b>ARTIFICIAL INTELLIGENCE: </b>\n",
    "* Artificial Intelligence or AI consists of 2 words: 'Artificial', meaning something which is non-natural and man-made and Intelligence meaning the ability to think and comprehend things intelligently.\n",
    "* AI is basically the study of training your system(computer) to mimic a human brain and its thinking and comprehending capabilities.\n",
    "* AI is the mechanism to incoporate the capabilities of a human brain into a machine using a set of rules called algorithms.\n",
    "* AI focuses on 3 major aspects or skills: learning, reasoning and self-correction to achieve the maximum efficiency possible.<br>\n",
    "\n",
    "Examples: Personalized recommendation systems, speech recognition, fraud detection\n",
    "\n",
    "2. <b>MACHINE LEARNING:</b>\n",
    "* Machine learning or ML is as subset of AI. \n",
    "* ML is the process which enables a machine to learn automatically through its experiences and improve accordingly without any human interference or assistance and being explicitly programmed to do so<br>\n",
    "\n",
    "Examples: Image recognition, sentiment analysis\n",
    "\n",
    "3. <b>DEEP LEARNING: </b>\n",
    "* Deep Learning or Dl is a subset of ML which focuses on Neural Networks(similar to those in human brain) to mimic human brain-like behavior.\n",
    "* DL focuses on information processing patterns mechanism to identify patterns in information and classify it just like human brain does.\n",
    "\n",
    "EXAMPLES: Image classification, generative models, image and speech recognition."
   ]
  },
  {
   "cell_type": "code",
   "execution_count": null,
   "id": "8453a0e6",
   "metadata": {},
   "outputs": [],
   "source": []
  },
  {
   "cell_type": "markdown",
   "id": "ec4d96c9",
   "metadata": {},
   "source": [
    "<b>QUESTION 2:</b>What is supervised learning? List some examples of supervised learning.<br>\n",
    "<b>SOLUTION: </b>Supervised learning is a type of Machine learning where labelled datasets are used to train the machine. A labelled dataset is the one which has both input and output parameters.<br>\n",
    "Supervised learning is further classified into 2 main categories: Classification and Regression\n",
    "\n",
    "Examples: Image classification, spam detection (Classification)<br>\n",
    "predicting stock prices, weather forecasting(Regression)\n"
   ]
  },
  {
   "cell_type": "code",
   "execution_count": null,
   "id": "738991d5",
   "metadata": {},
   "outputs": [],
   "source": []
  },
  {
   "cell_type": "markdown",
   "id": "0077ed3d",
   "metadata": {},
   "source": [
    "<b>QUESTION 3:</b>What is unsupervised learning? List some examples of unsupervised learning.<br>\n",
    "<b>SOLUTION: </b>Unsupervised learning is the type of machine learning where the machine is trained on dataset that is neither classified nor labelled and the algorithm is allowed to act on the data without guidance.\n",
    "EXAMPLE: finding structure in an unstructured data like finding face in an image or finding a dog in an image consisting of multiple animals."
   ]
  },
  {
   "cell_type": "code",
   "execution_count": null,
   "id": "28064d91",
   "metadata": {},
   "outputs": [],
   "source": []
  },
  {
   "cell_type": "markdown",
   "id": "2f13b94f",
   "metadata": {},
   "source": [
    "<b>QUESTION 4:</b>What is the difference between AI, ML, DL, and DS?<br>\n",
    "<b>SOLUTION: </b>\n",
    "* AI is a mechanism of training a machine to mimic a human brain.\n",
    "* ML is the process of enabling a machine to learn on its own through experiences and improve itself accordingly without any human intervention or assistance.\n",
    "* DL is a subset of ML which utilizes neural networks to learn from very large datasets without human intervention. \n",
    "* Data Science is an interdisciplinary field that involves extracting information from huge datasets."
   ]
  },
  {
   "cell_type": "code",
   "execution_count": null,
   "id": "9d2ef206",
   "metadata": {},
   "outputs": [],
   "source": []
  },
  {
   "cell_type": "markdown",
   "id": "21bc831c",
   "metadata": {},
   "source": [
    "<b>QUESTION 5:</b>What are the main differneces between supervised, unsupervised and semi-supervised learning? <br>\n",
    "<b>SOLUTION: </b>\n",
    "* In supervised learning, we have a basic idea of what the output will be. In this, the machine is fed with input-output value pairs and it has to map the output with the input labels.\n",
    "\n",
    "* In unsupervised learning, the dataset is not labeled and the main task of the machine is to identify the natural patterns present within the dataset.\n",
    "\n",
    "* Semi-supervised learning falls in between supervised and unsupervised learning where, the training dataset consists of a small amount of labelled data and a huge amount of unlabelled data."
   ]
  },
  {
   "cell_type": "code",
   "execution_count": null,
   "id": "c55e055a",
   "metadata": {},
   "outputs": [],
   "source": []
  },
  {
   "cell_type": "markdown",
   "id": "88af3692",
   "metadata": {},
   "source": [
    "<b>QUESTION 6:</b>What is train, test and validation split? Explain the importance of each term.<br>\n",
    "<b>SOLUTION: </b> In case of ML, the training dataset is split to assess how effective the trained model will be in generalizing new data.\n",
    "\n",
    "1. TRAINING DATASET: It is the dataset from which the model learns to predict outcomes or make right decisions.\n",
    "2. TESTING DATASET: It is independent of the training dataset and is only used after the training is complete. It consists of data from a variety of scenarios that the model can face in real world.\n",
    "3. VALIDATION SET: This dataset is used to fine-tune the hyperparameters of the model and is considered a part of training the model.\n"
   ]
  },
  {
   "cell_type": "code",
   "execution_count": null,
   "id": "3f3f82b7",
   "metadata": {},
   "outputs": [],
   "source": []
  },
  {
   "cell_type": "markdown",
   "id": "cfc61c56",
   "metadata": {},
   "source": [
    "<b>QUESTION 7:</b>How can unsupervised learning be used in anomaly detection?<br>\n",
    "<b>SOLUTION: </b>Anomaly refers to an unexpected value or event. Since most of the real world data is not labelled, the machine has to be able to analyse the data on its own, classify it and identify a parameter that can be used to predict the output and thus the anomaly. This is why unsupervised learning is used in anomaly detection."
   ]
  },
  {
   "cell_type": "code",
   "execution_count": null,
   "id": "ce0ad6d5",
   "metadata": {},
   "outputs": [],
   "source": []
  },
  {
   "cell_type": "markdown",
   "id": "edf96589",
   "metadata": {},
   "source": [
    "<b>QUESTION 8:</b>List down some commonly used supervised and unsupervised learning algorithms.<br>\n",
    "<b>SOLUTION: </b>\n",
    "SUPERVISED LEARNING:\n",
    "* Linear and logistics regression\n",
    "* Random forest\n",
    "* Neural network\n",
    "\n",
    "UNSUPERVISED LEARNING:\n",
    "* K-means clustering\n",
    "* Hierarchical clustering\n",
    "* Apriori algorithm"
   ]
  }
 ],
 "metadata": {
  "kernelspec": {
   "display_name": "Python 3 (ipykernel)",
   "language": "python",
   "name": "python3"
  },
  "language_info": {
   "codemirror_mode": {
    "name": "ipython",
    "version": 3
   },
   "file_extension": ".py",
   "mimetype": "text/x-python",
   "name": "python",
   "nbconvert_exporter": "python",
   "pygments_lexer": "ipython3",
   "version": "3.9.13"
  }
 },
 "nbformat": 4,
 "nbformat_minor": 5
}
