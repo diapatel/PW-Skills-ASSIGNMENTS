{
 "cells": [
  {
   "cell_type": "markdown",
   "id": "7d293503",
   "metadata": {},
   "source": [
    "<b> QUESTION 1: </b>What is a database? Differentiate between SQL and NoSQL databases.<br>\n",
    "<b> SOLUTION: </b><br>"
   ]
  },
  {
   "cell_type": "markdown",
   "id": "724f44ea",
   "metadata": {},
   "source": [
    "A database is an organized collection of inter-related data in one place.<br>\n",
    "\n",
    "* SQL databases are Relational databases while NoSQL databases are primarily non-relational or distributed databases.\n",
    "* The data in SQL databases is table-based whereas in case of NoSQL, data can be in form of key-value pairs, graphs, documents or wide-column stores.\n",
    "* SQL databases have fixed or static or predefined schema whereas NoSQL databases have a dynamic schema.\n",
    "* SQL databses are not well-suited for hierarchical databases but NoSQL databases are well-suited for storing hierarchical databases.\n",
    "* SQL databases are vertically scalable whereas NoSQL databases are horizontally scalable."
   ]
  },
  {
   "cell_type": "code",
   "execution_count": null,
   "id": "24e1db18",
   "metadata": {},
   "outputs": [],
   "source": []
  },
  {
   "cell_type": "markdown",
   "id": "6c40e651",
   "metadata": {},
   "source": [
    "<b> QUESTION 2: </b>What is DDL? Explain why CREATE, DROP, ALTER, and TRUNCATE are used with an example.<br>\n",
    "<b> SOLUTION: </b><br>"
   ]
  },
  {
   "cell_type": "markdown",
   "id": "f579a64c",
   "metadata": {},
   "source": [
    "DDL stands for Data Definition Language. DDL commands deal with database schemas and descriptions and data should reside in a database. <br>\n",
    "\n",
    "* CREATE - used to create database and its objects like tables,views,functions,etc. <br>\n",
    "* DROP - deletes objects from database. <br>\n",
    "* ALTER - alters the structure of existing database <br>\n",
    "* TRUNCATE - removes all records from the tables. <br>"
   ]
  },
  {
   "cell_type": "code",
   "execution_count": null,
   "id": "10698394",
   "metadata": {},
   "outputs": [],
   "source": []
  },
  {
   "cell_type": "markdown",
   "id": "c1cf66db",
   "metadata": {},
   "source": [
    "<b> QUESTION 3: </b>What is DML? Explain INSERT, UPDATE, and DELETE with an example.<br>\n",
    "<b> SOLUTION: </b><br>"
   ]
  },
  {
   "cell_type": "markdown",
   "id": "7a845186",
   "metadata": {},
   "source": [
    "DML stands for Data Manipulation Language. DML commands are used to select, store ,retrieve, update and delete data from tables. <br>\n",
    "\n",
    "* INSERT -used to insert data into tables <br>\n",
    "* UPDATE- used to update or insert additional data into an existing table. <br>\n",
    "* DELETE - delete the records of the table <br>"
   ]
  },
  {
   "cell_type": "code",
   "execution_count": null,
   "id": "2174e6de",
   "metadata": {},
   "outputs": [],
   "source": []
  },
  {
   "cell_type": "markdown",
   "id": "7562e1b4",
   "metadata": {},
   "source": [
    "<b> QUESTION 4: </b>What is DQL? Explain SELECT with an example.<br>\n",
    "<b> SOLUTION: </b><br>"
   ]
  },
  {
   "cell_type": "markdown",
   "id": "77cce974",
   "metadata": {},
   "source": [
    "DQL stands for Data Query Language. It is used to select required data from a table. <br>\n",
    "\n",
    "* SELECT - used to select either all of the data or selected rows and columns of the table."
   ]
  },
  {
   "cell_type": "code",
   "execution_count": null,
   "id": "6345cca2",
   "metadata": {},
   "outputs": [],
   "source": []
  },
  {
   "cell_type": "markdown",
   "id": "1312458b",
   "metadata": {},
   "source": [
    "<b> QUESTION 5: </b>Explain Primary Key and Foreign Key.<br>\n",
    "<b> SOLUTION: </b><br>"
   ]
  },
  {
   "cell_type": "markdown",
   "id": "cd75b4f0",
   "metadata": {},
   "source": [
    "Primary key is a column in a table which uniquely identifies each row in a table. It is used to connect with other tables in the database. <br>\n",
    "Foreign key in a relational database table is the column which connects data in two tables. It is a column or a group of columns that references a column (usually Primary Key) of another table."
   ]
  },
  {
   "cell_type": "code",
   "execution_count": null,
   "id": "83ea83cf",
   "metadata": {},
   "outputs": [],
   "source": []
  },
  {
   "cell_type": "markdown",
   "id": "191708d5",
   "metadata": {},
   "source": [
    "<b> QUESTION 6:</b> Write a python code to connect MySQL to python. Explain the cursor() and execute() method. </b><br>\n"
   ]
  },
  {
   "cell_type": "code",
   "execution_count": null,
   "id": "f026b079",
   "metadata": {},
   "outputs": [],
   "source": [
    "import mysql.connector\n",
    "\n",
    "mydb = mysql.connector.connect(\n",
    "    host = 'localhost',\n",
    "    user = 'abc',\n",
    "    password = 'password'\n",
    "    )\n",
    "\n",
    "mycursor = mydb.cursor()\n",
    "mycursor.execute(\"SHOW DATABASES\")\n",
    " \n",
    "for x in mycursor:\n",
    "    print(x)"
   ]
  },
  {
   "cell_type": "code",
   "execution_count": null,
   "id": "98c76c89",
   "metadata": {},
   "outputs": [],
   "source": []
  },
  {
   "cell_type": "markdown",
   "id": "32a429fa",
   "metadata": {},
   "source": [
    "<b> QUESTION 7: </b>Give the order of execution of SQL clauses in an SQL query.<br>\n",
    "<b> SOLUTION: </b><br>"
   ]
  },
  {
   "cell_type": "markdown",
   "id": "604f226d",
   "metadata": {},
   "source": [
    "* FROM clause\n",
    "* ON clause\n",
    "* OUTER clause\n",
    "* WHERE clause\n",
    "* GROUP BY clause\n",
    "* HAVING clause\n",
    "* SELECT clause\n",
    "* DISTINCT clause\n",
    "* ORDER BY clause\n",
    "* TOP clause"
   ]
  }
 ],
 "metadata": {
  "kernelspec": {
   "display_name": "Python 3 (ipykernel)",
   "language": "python",
   "name": "python3"
  },
  "language_info": {
   "codemirror_mode": {
    "name": "ipython",
    "version": 3
   },
   "file_extension": ".py",
   "mimetype": "text/x-python",
   "name": "python",
   "nbconvert_exporter": "python",
   "pygments_lexer": "ipython3",
   "version": "3.9.13"
  }
 },
 "nbformat": 4,
 "nbformat_minor": 5
}
