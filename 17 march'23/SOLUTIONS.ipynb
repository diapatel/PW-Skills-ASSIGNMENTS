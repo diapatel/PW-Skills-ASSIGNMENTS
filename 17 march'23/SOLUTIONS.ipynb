{
 "cells": [
  {
   "cell_type": "markdown",
   "id": "06e6e2bf-3687-481c-9e8e-f4c307e92f19",
   "metadata": {},
   "source": [
    "<b>QUESTION 1:</b>What are missing values in a dataset? Why is it essential to handle missing values? Name some\n",
    "algorithms that are not affected by missing values.<Br>\n",
    "<b>SOLUTION: </b> When some record is empty because its data is not collected it is called a missing value.<Br>\n",
    "    \n",
    " It is essential to handle missing values because:\n",
    " * missing values cannot always be dropped as it reduces the size of the dataset significantly and might drop some important information.\n",
    " * missing data can cause bias in the machine learning  model and can lead to faulty analysis.\n",
    " * missing data can cause distortion in the variable distribution, i.e, it can increase or decrease the relative importance of a category in the feature/column.\n",
    " * most machine learning libraries do not have provisions to handle missing values which can then lead to errors.\n",
    "    \n",
    "    \n",
    "Some algorithms that are not affected by missing values are kNN and Naive Bayes.<Br>"
   ]
  },
  {
   "cell_type": "code",
   "execution_count": null,
   "id": "7089626e-48f2-4abe-a6cf-8a7444156dd6",
   "metadata": {},
   "outputs": [],
   "source": []
  },
  {
   "cell_type": "markdown",
   "id": "102b6ace-2453-431a-8c39-144dd032d21f",
   "metadata": {},
   "source": [
    "<b>QUESTION 2:</b>List down techniques used to handle missing data. Give an example of each with python code.<Br>\n",
    "<b>SOLUTION: </b>\n",
    "*  Mean value imputation -- to be used when data follows a normal distribution.\n",
    "*  Median value imputation -- preferable when data has outliers.\n",
    "*  Mode value imputation -- preferable for categorical data.<Br>"
   ]
  },
  {
   "cell_type": "code",
   "execution_count": 4,
   "id": "72441e5d-06ad-4368-b7e4-479fcf09f160",
   "metadata": {},
   "outputs": [],
   "source": [
    "import seaborn as sns\n",
    "\n",
    "df = sns.load_dataset('titanic')"
   ]
  },
  {
   "cell_type": "code",
   "execution_count": 6,
   "id": "9cc5a0af-5031-4c58-9837-447b1f01e8b2",
   "metadata": {},
   "outputs": [],
   "source": [
    "#imputing the age column with mean age\n",
    "df['age_mean_imputation'] = df['age'].fillna(df['age'].mean())"
   ]
  },
  {
   "cell_type": "code",
   "execution_count": 7,
   "id": "1170839b-46f9-4961-b110-68031c00f64b",
   "metadata": {},
   "outputs": [],
   "source": [
    "#imputing the age column with median\n",
    "df['age_median_imputation'] = df['age'].fillna(df['age'].median())"
   ]
  },
  {
   "cell_type": "code",
   "execution_count": 9,
   "id": "f6a4a06b-4623-4623-a6cb-7ea3727d6e06",
   "metadata": {},
   "outputs": [],
   "source": [
    "#imputing the embarked column iwth mode\n",
    "df['embarked_imputed'] = df['embarked'].fillna(df['embarked'].mode()[0])"
   ]
  },
  {
   "cell_type": "code",
   "execution_count": null,
   "id": "ca01ea1d-d59f-45c8-a10a-310e5d41a92b",
   "metadata": {},
   "outputs": [],
   "source": []
  },
  {
   "cell_type": "markdown",
   "id": "f012ee07-3fd8-49a3-9af2-1a8a66348497",
   "metadata": {},
   "source": [
    "<b>QUESTION 3:</b> Explain the imbalanced data. What will happen if imbalanced data is not handled?<Br>\n",
    "<b>SOLUTION: </b>When there is a relatively large amount of one kind of data in the dataset, then it is an imbalanced dataset. For example, if a survey is collected in a college, then most of the respondents will be college students (people in ages between 17-30) and a few respondents will be professors or teachers who fall into an older age group. This kind of data is imbalanced because the younger age group has relatively more respondents.<Br>\n",
    "    \n",
    "If data is imbalanced, then the machine will be biased and will produce biased and inaccurate results."
   ]
  },
  {
   "cell_type": "code",
   "execution_count": null,
   "id": "6cb6abd5-e47a-405a-83bc-b1233b4d025c",
   "metadata": {},
   "outputs": [],
   "source": []
  },
  {
   "cell_type": "markdown",
   "id": "1f39043a-1b28-4ed6-960d-218024301543",
   "metadata": {},
   "source": [
    "<b>QUESTION 4:</b><Br>What are Up-sampling and Down-sampling? Explain with an example when up-sampling and down-sampling are required.\n",
    "<b>SOLUTION: </b>Up-sampling and downsampling are two techinques used to balance imbalanced data.<Br>\n",
    "* Up-sampling is used when the number of data points of minority category is increased to balance the dataset.<br>\n",
    "* Downsampling is used when the number of data points of majority category is decreased to balance the dataset."
   ]
  },
  {
   "cell_type": "code",
   "execution_count": null,
   "id": "4f3718b2-a903-4525-9807-7b0b812b6d42",
   "metadata": {},
   "outputs": [],
   "source": []
  },
  {
   "cell_type": "markdown",
   "id": "c199dd5d-94ea-4e98-bb7e-e33eb8e080bf",
   "metadata": {},
   "source": [
    "<b>QUESTION 5:</b> What is data Augmentation? Explain SMOTE.<Br>\n",
    "<B>SOLUTION: </b>Data augmentation is a set of techniques used to artificially increase the amount of data by generating new data points from existing data. <Br>\n",
    "\n",
    "SMOTE stands for Synthetic Minority Oversampling Technique. It tries to balance the dataset by generating new data points for the minority class by interpolating between existing data points."
   ]
  },
  {
   "cell_type": "code",
   "execution_count": null,
   "id": "3e68ad60-6fda-444c-9c0e-a6fe2997c40b",
   "metadata": {},
   "outputs": [],
   "source": []
  },
  {
   "cell_type": "markdown",
   "id": "c0fe30de-b671-4330-8cdc-30f6286cf3c0",
   "metadata": {},
   "source": [
    "<b>QUESTION 6:</b>What are outliers in a dataset? Why is it essential to handle outliers?<Br>\n",
    "<b>SOLUTION: </b>Outliers in a dataset are the values in the dataset that do not fit the regular pattern followed by other values.<Br>"
   ]
  },
  {
   "cell_type": "code",
   "execution_count": null,
   "id": "97f1d7f8-4237-49f7-a821-bf0abfaf1a68",
   "metadata": {},
   "outputs": [],
   "source": []
  },
  {
   "cell_type": "markdown",
   "id": "05d6cd58-69b9-48eb-8cd2-f2c63a4b7579",
   "metadata": {},
   "source": [
    "<b>QUESTION 7:</b>You are working on a project that requires analyzing customer data. However, you notice that some of\n",
    "the data is missing. What are some techniques you can use to handle the missing data in your analysis?<Br>\n",
    "<b>SOLUTION: </b>\n",
    "* If the missing data accounts for less than 5% of the datasets we can drop it.\n",
    "* But if a large amount of data is missing , we can use techniques like Mean Value Imputation, Median Value Imputation and Mode Value imputation depending on the datatypes.<Br>"
   ]
  },
  {
   "cell_type": "code",
   "execution_count": null,
   "id": "5a9f2647-afbf-4cd9-9d80-794f1aa2aa1f",
   "metadata": {},
   "outputs": [],
   "source": []
  },
  {
   "cell_type": "code",
   "execution_count": null,
   "id": "422e490c-aa0b-4e40-bd0f-81fa1d8c47a9",
   "metadata": {},
   "outputs": [],
   "source": []
  },
  {
   "cell_type": "code",
   "execution_count": null,
   "id": "4c4c5d7d-af20-40de-8244-46293ae75961",
   "metadata": {},
   "outputs": [],
   "source": [
    "<b>QUESTION 9:</b>Suppose you are working on a medical diagnosis project and find that the majority of patients in the\n",
    "dataset do not have the condition of interest, while a small percentage do. What are some strategies you\n",
    "can use to evaluate the performance of your machine learning model on this imbalanced dataset?<Br>\n",
    "<B>SOLUTION: </b><Br>"
   ]
  },
  {
   "cell_type": "code",
   "execution_count": null,
   "id": "2f6fac25-e952-4903-b6f6-e008df0d4d48",
   "metadata": {},
   "outputs": [],
   "source": []
  },
  {
   "cell_type": "markdown",
   "id": "cdf7ee23-7f6e-4523-b780-fe5ae4e3c226",
   "metadata": {},
   "source": [
    "<b>QUESTION 10:</b>When attempting to estimate customer satisfaction for a project, you discover that the dataset is\n",
    "unbalanced, with the bulk of customers reporting being satisfied. What methods can you employ to\n",
    "balance the dataset and down-sample the majority class?<Br>\n",
    "<b>SOLUTION: </b> We can either upsample the minority class or downsample the majority class using sklearn library's utils library.<Br>\n",
    "    "
   ]
  },
  {
   "cell_type": "code",
   "execution_count": null,
   "id": "6467b42e-c9f5-4dc9-bb62-cb045e743fd6",
   "metadata": {},
   "outputs": [],
   "source": []
  },
  {
   "cell_type": "markdown",
   "id": "f364d92b-84c6-470e-94de-156a42c099bb",
   "metadata": {},
   "source": [
    "<b>QUESTION 11:</b>You discover that the dataset is unbalanced with a low percentage of occurrences while working on a\n",
    "project that requires you to estimate the occurrence of a rare event. What methods can you employ to\n",
    "balance the dataset and up-sample the minority class?<Br>\n",
    "<b>SOLUTION: </b><Br>"
   ]
  },
  {
   "cell_type": "code",
   "execution_count": null,
   "id": "e4c49bd1-9414-4a40-b8f1-40427b4ef3ab",
   "metadata": {},
   "outputs": [],
   "source": []
  }
 ],
 "metadata": {
  "kernelspec": {
   "display_name": "Python 3 (ipykernel)",
   "language": "python",
   "name": "python3"
  },
  "language_info": {
   "codemirror_mode": {
    "name": "ipython",
    "version": 3
   },
   "file_extension": ".py",
   "mimetype": "text/x-python",
   "name": "python",
   "nbconvert_exporter": "python",
   "pygments_lexer": "ipython3",
   "version": "3.9.13"
  }
 },
 "nbformat": 4,
 "nbformat_minor": 5
}
