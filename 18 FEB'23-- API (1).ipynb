{
 "cells": [
  {
   "cell_type": "markdown",
   "id": "343f2cb1",
   "metadata": {},
   "source": [
    "<b> QUESTION 1: </b>What is an API? Give an example, where an API is used in real life.<br>\n",
    "<b> SOLUTION: <b><br>"
   ]
  },
  {
   "cell_type": "markdown",
   "id": "776d8dae",
   "metadata": {},
   "source": [
    "API stands for Application Programming Interface. It acts as a communication layer or an interface through which different platforms can communicate with one another without exactly understanding what the other platform does.<br>\n",
    "\n",
    "For instance, when we order food from sites like Zomato and Swiggy and are tracking the delivery boy using a map, we are able to do so because of APIs. The food delivery requests APIs like Google Maps API to fetch data from Google Maps regarding the current location of the delivery guy and in response, Google Maps sends the real-time location to Zomato via the intermedatiate API. The food delivery websites cannot directly access the Google Maps data."
   ]
  },
  {
   "cell_type": "code",
   "execution_count": null,
   "id": "721bfb5c",
   "metadata": {},
   "outputs": [],
   "source": []
  },
  {
   "cell_type": "markdown",
   "id": "85c0ac41",
   "metadata": {},
   "source": [
    "<b> QUESTION 2: </b>Give advantages and disadvantages of using API.<br>\n",
    "<b> SOLUTION: <b><br>"
   ]
  },
  {
   "cell_type": "markdown",
   "id": "e5351f8e",
   "metadata": {},
   "source": [
    "<b>ADVANTAGES:</b><br>\n",
    "* APIs allows developers to leverage the expertise of other applications. When an organisation develops an application, they no longer need to reinvent the wheel for things like authentication, communication, payment processing and maps.\n",
    "\n",
    "* allow applications and system components to communicate over internal networks as well as internet.\n",
    "\n",
    "\n",
    "<b>DISADVANTAGES:</b><br>\n",
    "* Security Exposure: Adding an API adds another attack surface to your website\n",
    "* Cost: Providing an API is expensive in terms of development time, ongoing maintenance, providing API documentation on your website and providing support to users of your API."
   ]
  },
  {
   "cell_type": "code",
   "execution_count": null,
   "id": "538af371",
   "metadata": {},
   "outputs": [],
   "source": []
  },
  {
   "cell_type": "markdown",
   "id": "0d161f51",
   "metadata": {},
   "source": [
    "<b> QUESTION 3: </b> What is a Web API? Differentiate between API and Web API.<br>\n",
    "<b> SOLUTION: <b><br>"
   ]
  },
  {
   "cell_type": "markdown",
   "id": "d4fe2c92",
   "metadata": {},
   "source": [
    "A web API is a subset of API over the web which can be accessed using the HTTP protocol.It is focused on web-based actions like liking an image on Instagram or fetching the latest tweets.<br>\n",
    "\n",
    "The main difference between API and web API is that an API can be created using any protocol like TCP,SMTP or HTTP. Whereas Web API strictly uses HTTP.\n",
    "\n"
   ]
  },
  {
   "cell_type": "code",
   "execution_count": null,
   "id": "89703da2",
   "metadata": {},
   "outputs": [],
   "source": []
  },
  {
   "cell_type": "markdown",
   "id": "d7a66d2f",
   "metadata": {},
   "source": [
    "<b> QUESTION 4 : </b>Explain REST and SOAP Architecture. Mention shortcomings of SOAP.<br>\n",
    "<b> SOLUTION: <b><br>"
   ]
  },
  {
   "cell_type": "markdown",
   "id": "e54cc859",
   "metadata": {},
   "source": [
    "SOAP stands for Simple Object Access Protocol. It is typically associated with enterprises and has a stricter contract-based usage. It can transmit data over protocols like HTTP,TCP,SMTP.\n",
    "It supports XML format only. It is more secure than REST.<br>\n",
    "\n",
    "REST stands for Representational State Transfer. It transmits data over HTTP/HTTPS only. It is known for its simplicity, scalability and flexibility. It is less secure than SOAP. It is mainly used for public APIs and is ideal for fetching data from the web.<br>\n",
    "\n",
    "Shortcomings of SOAP:\n",
    "- It only supports XML format.\n",
    "- It is more complex and less flexible.\n",
    "- The extensive processing required might slow it down.\n",
    "- Given its complexity, SOAP also uses more bandwidth which limits its efficacy.\n"
   ]
  },
  {
   "cell_type": "code",
   "execution_count": null,
   "id": "17319ac7",
   "metadata": {},
   "outputs": [],
   "source": []
  },
  {
   "cell_type": "markdown",
   "id": "2275141f",
   "metadata": {},
   "source": [
    "<b> QUESTION 5: </b>Differentiate between REST and SOAP.<br>\n",
    "<b> SOLUTION: <b><br>"
   ]
  },
  {
   "cell_type": "markdown",
   "id": "0a6e9c59",
   "metadata": {},
   "source": [
    "-  REST has greater flexibility because data is not tied to any resources or methods. it can work with different types of calls and also return data in different formats. However, SOAP only supports XML format.\n",
    "\n",
    "- REST is more simple and scalable than SOAP.\n",
    "\n",
    "- SOAP is more complex compared to REST and hence uses more bandwidth which affects its efficacy."
   ]
  },
  {
   "cell_type": "code",
   "execution_count": null,
   "id": "f3d88e5c",
   "metadata": {},
   "outputs": [],
   "source": []
  }
 ],
 "metadata": {
  "kernelspec": {
   "display_name": "Python 3 (ipykernel)",
   "language": "python",
   "name": "python3"
  },
  "language_info": {
   "codemirror_mode": {
    "name": "ipython",
    "version": 3
   },
   "file_extension": ".py",
   "mimetype": "text/x-python",
   "name": "python",
   "nbconvert_exporter": "python",
   "pygments_lexer": "ipython3",
   "version": "3.9.13"
  }
 },
 "nbformat": 4,
 "nbformat_minor": 5
}
