{
 "cells": [
  {
   "cell_type": "code",
   "execution_count": null,
   "id": "6732948d",
   "metadata": {},
   "outputs": [],
   "source": [
    "import pandas as pd"
   ]
  },
  {
   "cell_type": "markdown",
   "id": "6b6506a7",
   "metadata": {},
   "source": [
    "<b>QUESTION 1:</b> What is data encoding? How is it useful in data science?<Br>\n",
    "<b>SOLUTION: </b><Br> Machines understand numbers better than human languages. So, names of the categories of categorical features is transformed into numbers to facilitate our machine's understanding of the data. This process of representing labels as numerical data is called Data Encoding.\n",
    "    \n",
    "* IT is useful in data science because it helps in organising and transforming data in a way that makes it easier to train the machine learning model and improve its computational efficiency."
   ]
  },
  {
   "cell_type": "code",
   "execution_count": null,
   "id": "c35a515e",
   "metadata": {},
   "outputs": [],
   "source": []
  },
  {
   "cell_type": "markdown",
   "id": "947e40a9",
   "metadata": {},
   "source": [
    "<b>QUESTION 2:</b>What is nominal encoding? Provide an example of how you would use it in a real-world scenario.<Br>\n",
    "<b>SOLUTION: </b>Nominal Encoding is a type of encoding used for nominal data, i.e., the categorical data where there is no intrinsic order or rank.<Br>"
   ]
  },
  {
   "cell_type": "code",
   "execution_count": null,
   "id": "170f8c3d",
   "metadata": {},
   "outputs": [],
   "source": [
    "df = pd.DataFrame({'color' : ['red', 'green','blue','red','blue']})\n",
    "\n",
    "from sklearn.preprocessing import OneHotEncoder\n",
    "encoder = OneHotEncoder()\n",
    "encoder.fit_transform(df[['color']]).toarray()"
   ]
  },
  {
   "cell_type": "code",
   "execution_count": null,
   "id": "289c59e2",
   "metadata": {},
   "outputs": [],
   "source": []
  },
  {
   "cell_type": "markdown",
   "id": "d4387f4d",
   "metadata": {},
   "source": [
    "<b>QUESTION 3:</b>In what situations is nominal encoding preferred over one-hot encoding? Provide a practical example.<Br>\n",
    "<b>SOLUTION: </b>Nominal/Label encoding is preferred over One-hot encoding when we have a large number of categories for a single categorical variable.<Br>\n",
    "For instance, if we have only three categories then we use One hot encoding, but if we have say, 50 categories then we would use Nominal/Label encoding."
   ]
  },
  {
   "cell_type": "code",
   "execution_count": null,
   "id": "bf027b06",
   "metadata": {},
   "outputs": [],
   "source": []
  },
  {
   "cell_type": "markdown",
   "id": "be4d8929",
   "metadata": {},
   "source": [
    "<b>QUESTION 4:</b>Suppose you have a dataset containing categorical data with 5 unique values. Which encoding\n",
    "technique would you use to transform this data into a format suitable for machine learning algorithms?\n",
    "Explain why you made this choice.<Br>\n",
    "<b>SOLUTION: </b>We can use One-hot encoding to transform this data because the number of unique category labels is small. <Br>"
   ]
  },
  {
   "cell_type": "code",
   "execution_count": null,
   "id": "bfff474c",
   "metadata": {},
   "outputs": [],
   "source": []
  },
  {
   "cell_type": "markdown",
   "id": "d2b5f60c",
   "metadata": {},
   "source": [
    "<b>QUESTION 5:</b>In a machine learning project, you have a dataset with 1000 rows and 5 columns. Two of the columns\n",
    "are categorical, and the remaining three columns are numerical. If you were to use nominal encoding to\n",
    "transform the categorical data, how many new columns would be created? Show your calculations.<Br>\n",
    "<b>SOLUTION: </b>Let's say that there are 10 unique categories in total from both the columns. In one hot encoding, 10 new columns will be created and ones and zeroes will be used to represent the categorical data numerically.<Br>\n",
    "So, 10 new columns will be created. and the total number of columns in the dataframe would be 5+10 = 15."
   ]
  },
  {
   "cell_type": "code",
   "execution_count": null,
   "id": "6ba4a475",
   "metadata": {},
   "outputs": [],
   "source": []
  },
  {
   "cell_type": "markdown",
   "id": "919429b8",
   "metadata": {},
   "source": [
    "<b>QUESTION 6:</b>You are working with a dataset containing information about different types of animals, including their\n",
    "species, habitat, and diet. Which encoding technique would you use to transform the categorical data into\n",
    "a format suitable for machine learning algorithms? Justify your answer.<Br>\n",
    "<b>SOLUTION: </b>Label Encoding can be used here because there is no inherent order or rank in the categories of animals.<Br>"
   ]
  },
  {
   "cell_type": "code",
   "execution_count": null,
   "id": "8e14168b",
   "metadata": {},
   "outputs": [],
   "source": []
  },
  {
   "cell_type": "markdown",
   "id": "e3de8bba",
   "metadata": {},
   "source": [
    "<b>QUESTION 7:</b>You are working on a project that involves predicting customer churn for a telecommunications\n",
    "company. You have a dataset with 5 features, including the customer's gender, age, contract type,\n",
    "monthly charges, and tenure. Which encoding technique(s) would you use to transform the categorical\n",
    "data into numerical data? Provide a step-by-step explanation of how you would implement the encoding.<Br>\n",
    "<b>SOLUTION: </b><Br>"
   ]
  },
  {
   "cell_type": "code",
   "execution_count": null,
   "id": "fc447257",
   "metadata": {},
   "outputs": [],
   "source": [
    "#CREATING A DUMMY DATASET\n",
    "import pandas as pd\n",
    "import numpy as np\n",
    "\n",
    "np.random.seed(2023)\n",
    "n = 500 #size\n",
    "gender = np.random.choice(['Male','Female'], size=n)\n",
    "age = np.random.randint(low=23, high=65, size=n)\n",
    "contract_type = np.random.choice(['monthly', 'quarterly', 'half-yearly', 'yearly'], size=n)\n",
    "monthly_charges = np.random.normal(loc=1000, scale=100, size=n)\n",
    "tenure = np.random.randint(low=12, high=36, size=n)\n",
    "churn = np.random.choice([1,0], p=[0.2,0.8], size=n)\n",
    "\n",
    "df = pd.DataFrame({\n",
    "    'gender' : gender,\n",
    "    'age' : age,\n",
    "    'contract_type' : contract_type,\n",
    "    'monthly_charges' : monthly_charges,\n",
    "    'tenure' : tenure,\n",
    "    'churn'  :churn,\n",
    "})"
   ]
  },
  {
   "cell_type": "code",
   "execution_count": null,
   "id": "26f49a82",
   "metadata": {},
   "outputs": [],
   "source": [
    "df"
   ]
  },
  {
   "cell_type": "markdown",
   "id": "5ae33647",
   "metadata": {},
   "source": [
    "There are 2 categorical variables in the dataset - gender and contract_type.\n",
    "* We will use One Hot Encoding for gender column because it has 2 categories.\n",
    "* We will use Ordinal Encoding for contract_type because it is ordered."
   ]
  },
  {
   "cell_type": "code",
   "execution_count": null,
   "id": "5bb810f5",
   "metadata": {},
   "outputs": [],
   "source": [
    "#splitting dataset into X and y \n",
    "X = df.drop(columns=['churn'], axis=1)\n",
    "y = df['churn']"
   ]
  },
  {
   "cell_type": "code",
   "execution_count": null,
   "id": "f4f52c8b",
   "metadata": {},
   "outputs": [],
   "source": [
    "#OHE ON GENDER COLUMN\n",
    "\n",
    "from sklearn.preprocessing import OneHotEncoder\n",
    "ohe = OneHotEncoder()\n",
    "encoded_arr = ohe.fit_transform(df[['gender']]).toarray()\n",
    "X_gender = pd.DataFrame(encoded_arr, columns=ohe.get_feature_names_out())\n",
    "X_gender.head()"
   ]
  },
  {
   "cell_type": "code",
   "execution_count": null,
   "id": "477dfaf6",
   "metadata": {},
   "outputs": [],
   "source": [
    "#ORDINAL ENCODING ON CONTRACT TYPE\n",
    "from sklearn.preprocessing import OrdinalEncoder\n",
    "oe = OrdinalEncoder(categories=[['monthly', 'quarterly', 'half-yearly', 'yearly']])\n",
    "oe_arr = oe.fit_transform(df[['contract_type']]).flatten()\n",
    "X_contract = pd.DataFrame(oe_arr, columns=['contract_type'])"
   ]
  },
  {
   "cell_type": "code",
   "execution_count": null,
   "id": "d06b2e67",
   "metadata": {},
   "outputs": [],
   "source": [
    "#GETTING NUMERIC COLUMNS FOR X\n",
    "X_numeric = X.select_dtypes(exclude='object')\n",
    "X_numeric"
   ]
  },
  {
   "cell_type": "code",
   "execution_count": null,
   "id": "0930b3cb",
   "metadata": {},
   "outputs": [],
   "source": [
    "X_encoded = pd.concat([X_numeric, X_contract, X_gender], axis=1)\n",
    "X_encoded"
   ]
  },
  {
   "cell_type": "code",
   "execution_count": null,
   "id": "b8cf23b8",
   "metadata": {},
   "outputs": [],
   "source": [
    "#APPLYING STANDARD SCALER\n",
    "from sklearn.preprocessing import StandardScaler\n",
    "scaler = StandardScaler()\n",
    "X_final = pd.DataFrame(scaler.fit_transform(X_encoded), columns=X_encoded.columns)\n",
    "X_final.head()"
   ]
  },
  {
   "cell_type": "code",
   "execution_count": null,
   "id": "a4a0e1db",
   "metadata": {},
   "outputs": [],
   "source": []
  },
  {
   "cell_type": "code",
   "execution_count": null,
   "id": "af9b3c63",
   "metadata": {},
   "outputs": [],
   "source": []
  },
  {
   "cell_type": "code",
   "execution_count": null,
   "id": "b7ef66dd",
   "metadata": {},
   "outputs": [],
   "source": []
  }
 ],
 "metadata": {
  "kernelspec": {
   "display_name": "Python 3 (ipykernel)",
   "language": "python",
   "name": "python3"
  },
  "language_info": {
   "codemirror_mode": {
    "name": "ipython",
    "version": 3
   },
   "file_extension": ".py",
   "mimetype": "text/x-python",
   "name": "python",
   "nbconvert_exporter": "python",
   "pygments_lexer": "ipython3",
   "version": "3.9.13"
  }
 },
 "nbformat": 4,
 "nbformat_minor": 5
}
