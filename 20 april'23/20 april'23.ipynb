{
 "cells": [
  {
   "cell_type": "markdown",
   "id": "fae98534-9a26-4244-b176-eba1ff67cde8",
   "metadata": {},
   "source": [
    "Q1. What is the KNN algorithm?<br>\n",
    "Q2. How do you choose the value of K in KNN?<br>\n",
    "Q3. What is the difference between KNN classifier and KNN regressor?<br>\n",
    "Q4. How do you measure the performance of KNN?<br>\n",
    "Q5. What is the curse of dimensionality in KNN?<br>\n",
    "Q6. How do you handle missing values in KNN?<br>\n",
    "Q7. Compare and contrast the performance of the KNN classifier and regressor. Which one is better for\n",
    "which type of problem?<br>\n",
    "Q8. What are the strengths and weaknesses of the KNN algorithm for classification and regression tasks,\n",
    "and how can these be addressed<br>\n",
    "Q9. What is the difference between Euclidean distance and Manhattan distance in KNN?<br>\n",
    "Q10. What is the role of feature scaling in KNN?<br>"
   ]
  },
  {
   "cell_type": "markdown",
   "id": "b54dbc09-f7cb-4f4f-8ed0-cdad0fef76d2",
   "metadata": {},
   "source": []
  },
  {
   "cell_type": "markdown",
   "id": "e8e7a139-6f57-4578-b625-5bfab2927203",
   "metadata": {},
   "source": [
    "### SOLUTION 1:"
   ]
  },
  {
   "cell_type": "markdown",
   "id": "1feb9bd8-6145-4776-b0d7-c28f133caa9c",
   "metadata": {},
   "source": [
    "KNN is a classification machine learning algorithm. It works in the following steps:\n",
    "* it does no work in the training phase.\n",
    "* when it is given a query point, it calculates the distance between the query point and each of the training points.\n",
    "* it sorts the distances in ascending order.\n",
    "* it selects top k distances.\n",
    "* it performs a majority count\n",
    "* whichever class has more votes is labelled as the class of the query point."
   ]
  },
  {
   "cell_type": "code",
   "execution_count": null,
   "id": "666b2046-7a7d-4e75-97d9-e5e984accba9",
   "metadata": {},
   "outputs": [],
   "source": []
  },
  {
   "cell_type": "markdown",
   "id": "8d012c0c-6c5f-4920-b290-0d20b4715a3d",
   "metadata": {},
   "source": [
    "### SOLUTION 2"
   ]
  },
  {
   "cell_type": "markdown",
   "id": "966bfe9d-323e-4c16-86b0-c18a24c209fb",
   "metadata": {},
   "source": [
    "There are 2 ways of calculating k:\n",
    "1. Heuristic method : in this ,k = square root of number of rows\n",
    "\n",
    "2. Cross validation: in this we train multiple KNN models, each with a different value of k , then calculate their accuracy and then select the value of k which gives the best accuracy."
   ]
  },
  {
   "cell_type": "code",
   "execution_count": null,
   "id": "61d1c695-94e0-4add-81e1-c63b42ea3e61",
   "metadata": {},
   "outputs": [],
   "source": []
  },
  {
   "cell_type": "markdown",
   "id": "d9690245-b1f1-4638-bd7b-1d72261177c9",
   "metadata": {},
   "source": [
    "### SOLUTION 3"
   ]
  },
  {
   "cell_type": "markdown",
   "id": "a8b49389-bff7-4880-9cfa-62d602905eb7",
   "metadata": {},
   "source": [
    "* KNN classifier deals with classification problems whereas KNN Regressor deals with Regression problems.\n",
    "* In KNN classifier , majority count is performed on the top k distances, whereas in KNN Regressor , the mean of top k distances is calculated."
   ]
  },
  {
   "cell_type": "code",
   "execution_count": null,
   "id": "b53f1bd7-6033-47d4-a2fd-cea3df538255",
   "metadata": {},
   "outputs": [],
   "source": []
  },
  {
   "cell_type": "markdown",
   "id": "339edd46-951f-444d-9db6-ee8d6fed0ad0",
   "metadata": {},
   "source": [
    "### SOLUTION 4"
   ]
  },
  {
   "cell_type": "markdown",
   "id": "c9449d6b-9992-4a61-817e-0f749a2e9f69",
   "metadata": {},
   "source": [
    "The accuracy of KNN can be measured using metrics like accuracy score, precision recall and "
   ]
  },
  {
   "cell_type": "code",
   "execution_count": null,
   "id": "2e5681a5-54eb-4a05-9322-44afd0b4399e",
   "metadata": {},
   "outputs": [],
   "source": []
  },
  {
   "cell_type": "markdown",
   "id": "bc4d9fb3-8209-411b-b6bf-319ed59f41fc",
   "metadata": {},
   "source": [
    "### SOLUTION 5"
   ]
  },
  {
   "cell_type": "markdown",
   "id": "d3aca739-2800-43ad-8375-1971e57a0d53",
   "metadata": {},
   "source": [
    "* KNN cannot be used on high dimensionality data because in higher dimensions, the concept of distance is lost and KNN primarily relies on the distance between 2 points to make its prediction so, the accuracy of KNN suffers in case of higher dimension data."
   ]
  },
  {
   "cell_type": "code",
   "execution_count": null,
   "id": "41115d1d-79b1-4927-8fcc-f2a889483e9a",
   "metadata": {},
   "outputs": [],
   "source": []
  },
  {
   "cell_type": "markdown",
   "id": "015d3930-025c-402b-b0d4-495243d73d28",
   "metadata": {},
   "source": [
    "### SOLUTION 6"
   ]
  },
  {
   "cell_type": "markdown",
   "id": "dbf47a75-2ec4-4b13-9054-8ab94b0fbbfb",
   "metadata": {},
   "source": [
    "* We can either simply replace the na values with the global mean for numerical columns or replace the na values with global median for categorical columns.\n",
    "* Alternatively we can use KNN Imputer where we replace the nan value with the a value very similar to its k nearest neighbors."
   ]
  },
  {
   "cell_type": "code",
   "execution_count": null,
   "id": "c453ca53-c946-4f5f-9cb0-12b390c5c730",
   "metadata": {},
   "outputs": [],
   "source": []
  },
  {
   "cell_type": "markdown",
   "id": "ae541a99-bd29-4bbf-b733-14fb582bef5c",
   "metadata": {},
   "source": [
    "### SOLUTION 7"
   ]
  },
  {
   "cell_type": "markdown",
   "id": "62d7d001-6dac-4b9c-8e65-d47a7195fa93",
   "metadata": {},
   "source": [
    "* Both KNN classifier and regressor are based on calculating distances between the query point and each training point. so , they are very time consuming and slow. they can't be used for high dimensional data or data with a large number of columns.\n",
    "* But, they can be used for prediction purposes on small datasets."
   ]
  },
  {
   "cell_type": "code",
   "execution_count": null,
   "id": "b845e195-7d95-4f6d-b56a-20ea7fa09b06",
   "metadata": {},
   "outputs": [],
   "source": []
  },
  {
   "cell_type": "markdown",
   "id": "8343e53a-780a-485c-928d-ac94044b0123",
   "metadata": {},
   "source": [
    "### SOLUTION 8"
   ]
  },
  {
   "cell_type": "markdown",
   "id": "0e1b4b21-18ed-4b94-9110-42a7844b849f",
   "metadata": {},
   "source": [
    "* the strength of KNN is that it is a relatively simple model and is good for prediction purposes but no so good for inference\n",
    "* there are several weaknesses to KNN including its high time and space complexity, its inability to handle imbalanced datasets and weak inference capability.\n",
    "* the time complexity can be reduced to a certain extent by using KNN variants like KDtree and ball tree."
   ]
  },
  {
   "cell_type": "code",
   "execution_count": null,
   "id": "54b7c4a6-5f9a-4d7b-ab81-ff56a1560d20",
   "metadata": {},
   "outputs": [],
   "source": []
  },
  {
   "cell_type": "markdown",
   "id": "860ec783-4420-406d-aa4a-64849b342f25",
   "metadata": {},
   "source": [
    "### SOLUTION 9"
   ]
  },
  {
   "cell_type": "markdown",
   "id": "cd06fc38-05f6-4927-b2fd-0fc81a933209",
   "metadata": {},
   "source": [
    "* According to the Minkowski metric, when p=1, the distance between 2 variables X and Y is called Manhattan distance and when p=2, it is called Euclidean distance.\n",
    "* it is observed that Manhattan distance is relatively better in case of high dimensionality data as compared to Euclidean distance."
   ]
  },
  {
   "cell_type": "code",
   "execution_count": null,
   "id": "1b5a18b7-07f6-4513-a16e-bc8401f1fef9",
   "metadata": {},
   "outputs": [],
   "source": []
  },
  {
   "cell_type": "markdown",
   "id": "d4268c13-0b6c-4dc6-af68-a2b20899527c",
   "metadata": {},
   "source": [
    "### SOLUTION 10"
   ]
  },
  {
   "cell_type": "markdown",
   "id": "2d0e0ad9-05b7-4091-a2fa-f3bc9c5b0c20",
   "metadata": {},
   "source": [
    "* KNN relies on the distance between 2 points to make predictions\n",
    "* if variables of a dataset are not on the same scale, the distances calculated will be misleading and so, the predictions made by KNN will not be very accurate.\n",
    "* Hence, it is advised to scale the features before using KNN.\n",
    "\n",
    "* For instance, if one feature is salary and another is years of experience, then the features are not at the same scale, because salary can be in tens of thousands whereas years of experience is double-digit."
   ]
  },
  {
   "cell_type": "code",
   "execution_count": null,
   "id": "3b560449-839e-4e6c-acae-30c05642243a",
   "metadata": {},
   "outputs": [],
   "source": []
  },
  {
   "cell_type": "code",
   "execution_count": null,
   "id": "6c5aa68b-c824-4a1c-9ef2-1c5a8d21bda3",
   "metadata": {},
   "outputs": [],
   "source": []
  }
 ],
 "metadata": {
  "kernelspec": {
   "display_name": "Python 3 (ipykernel)",
   "language": "python",
   "name": "python3"
  },
  "language_info": {
   "codemirror_mode": {
    "name": "ipython",
    "version": 3
   },
   "file_extension": ".py",
   "mimetype": "text/x-python",
   "name": "python",
   "nbconvert_exporter": "python",
   "pygments_lexer": "ipython3",
   "version": "3.9.13"
  }
 },
 "nbformat": 4,
 "nbformat_minor": 5
}
