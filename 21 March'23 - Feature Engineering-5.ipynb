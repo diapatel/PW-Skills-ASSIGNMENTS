{
 "cells": [
  {
   "cell_type": "markdown",
   "id": "6b981174",
   "metadata": {},
   "source": [
    "<b>QUESTION 1:</b> What is the difference between Ordinal Encoding and Label Encoding? Provide an example of when you\n",
    "might choose one over the other.<br>\n",
    "<b>SOLUTION: </b>Label Encoding is used for nominal data, i.e., data with no intrinsic order or ranking whereas, Ordinal Encoding is used for ordinal data, i.e. data which has an intrinsic order.<br>\n",
    "* When we're dealing with a column that has various speices of dogs,then we used Label Encoding because there's  a large number of categories but the data is nominal.\n",
    "* When we are dealing with a column that categorises product reviews with categories like Bad, Good, Satisfactory and Excellent, we use Ordinal Encoding because these categories can be ranked. Bad > Good > Satisfactory > Excellent."
   ]
  },
  {
   "cell_type": "code",
   "execution_count": null,
   "id": "2d07a14a",
   "metadata": {},
   "outputs": [],
   "source": []
  },
  {
   "cell_type": "markdown",
   "id": "a713efcc",
   "metadata": {},
   "source": [
    "<b>QUESTION 2:</b> Explain how Target Guided Ordinal Encoding works and provide an example of when you might use it in\n",
    "a machine learning project.<br>\n",
    "<b>SOLUTION: </b>\n",
    "* Target Guided Ordinal Encoding is used when there's a large number of categories in the categorical variable and it has to be encoded based on its relationship with the target variable.\n",
    "* In this technique, we replace each category of the categorical feature with the mean or median of the target variable for that category.<br>"
   ]
  },
  {
   "cell_type": "code",
   "execution_count": null,
   "id": "31519e8e",
   "metadata": {},
   "outputs": [],
   "source": [
    "import seaborn as sns\n",
    "df = sns.load_dataset('taxis')\n",
    "df\n",
    "\n",
    "#encoding payment based on total\n",
    "\n",
    "mean_total = df.groupby('payment')['total'].mean()\n",
    "df['encoded'] = df['payment'].map(mean_total)\n",
    "df[['payment','encoded']]"
   ]
  },
  {
   "cell_type": "code",
   "execution_count": null,
   "id": "32edbe07",
   "metadata": {},
   "outputs": [],
   "source": []
  },
  {
   "cell_type": "markdown",
   "id": "3ddaf31e",
   "metadata": {},
   "source": [
    "<b>QUESTION 3:</b>Define covariance and explain why it is important in statistical analysis. How is covariance calculated?<br>\n",
    "<b>SOLUTION: </b>\n",
    "* Covariance is a statistical measure that quantifies the co-variation between two variables. It measures how closely 2 variables move together. It is the tendency of 2 varibles to vary together in a linear fashion.<br>\n",
    "* If one variable increases with another, then they have  a positive covariance. and if it decreases with the increase in anohther variable then, they have a negative covariance.\n",
    "* Covariance is an important concept in statistical analysis because it helps in quantifying the relationship between 2 variables and thus determine their dependency.\n",
    "* Covariance is calculated using the following formula:\n",
    "Where,\n",
    "xi = data value of x<br>\n",
    "yi = data value of y<br>\n",
    "x̄ = mean of x<br>\n",
    "ȳ = mean of y<br>\n",
    "N = number of data values.<br>\n"
   ]
  },
  {
   "attachments": {
    "covariance-1.png": {
     "image/png": "[encoded data removed]"
    }
   },
   "cell_type": "markdown",
   "id": "5afc1d71",
   "metadata": {},
   "source": [
    "![covariance-1.png](attachment:covariance-1.png)"
   ]
  },
  {
   "cell_type": "code",
   "execution_count": null,
   "id": "fea36c86",
   "metadata": {},
   "outputs": [],
   "source": []
  },
  {
   "cell_type": "markdown",
   "id": "ccde9243",
   "metadata": {},
   "source": [
    "<b>QUESTION 4:</b>For a dataset with the following categorical variables: Color (red, green, blue), Size (small, medium,\n",
    "large), and Material (wood, metal, plastic), perform label encoding using Python's scikit-learn library.\n",
    "Show your code and explain the output.<br>\n",
    "<b>SOLUTION: </b><br>"
   ]
  },
  {
   "cell_type": "code",
   "execution_count": null,
   "id": "a214bb44",
   "metadata": {},
   "outputs": [],
   "source": [
    "import numpy as np\n",
    "import pandas as pd\n",
    "\n",
    "n=500\n",
    "color = np.random.choice(['red','green','blue'], size=n)\n",
    "size = np.random.choice(['small','medium','large'], size=n)\n",
    "material = np.random.choice(['wood', 'metal', 'plastic'], size=n)\n",
    "\n",
    "df = pd.DataFrame({\n",
    "    'color' : color,\n",
    "    'size' : size,\n",
    "    'material'  : material,\n",
    "})\n",
    "df"
   ]
  },
  {
   "cell_type": "code",
   "execution_count": null,
   "id": "a168a730",
   "metadata": {},
   "outputs": [],
   "source": [
    "from sklearn.preprocessing import LabelEncoder\n",
    "\n",
    "le = LabelEncoder()\n",
    "df[['color','size','material']] = df[['color','size','material']].apply(LabelEncoder().fit_transform)\n",
    "df"
   ]
  },
  {
   "cell_type": "code",
   "execution_count": null,
   "id": "966a73d2",
   "metadata": {},
   "outputs": [],
   "source": []
  },
  {
   "cell_type": "markdown",
   "id": "cbbd417f",
   "metadata": {},
   "source": [
    "<b>QUESTION 5:</b>Calculate the covariance matrix for the following variables in a dataset: Age, Income, and Education\n",
    "level. Interpret the results.<br>\n",
    "<b>SOLUTION: </b><br>"
   ]
  },
  {
   "cell_type": "code",
   "execution_count": null,
   "id": "230f973c",
   "metadata": {},
   "outputs": [],
   "source": [
    "n=150\n",
    "age = np.random.randint(low=23, high=60, size=n)\n",
    "income = np.random.randint(low=10000, high=500000, size=n)\n",
    "education_level = np.random.choice(['high school','bachelor\\'s degree', 'master\\'s degree', 'Ph.D.'], size=n)\n",
    "\n",
    "df = pd.DataFrame({\n",
    "    'age' : age,\n",
    "    'income' : income,\n",
    "    'education_level' : education_level\n",
    "})\n",
    "\n",
    "#calculating the covariance matrix\n",
    "df.cov()"
   ]
  },
  {
   "cell_type": "code",
   "execution_count": null,
   "id": "2302794b",
   "metadata": {},
   "outputs": [],
   "source": [
    "import matplotlib.pyplot as plt\n",
    "plt.scatter(x=df['age'], y=df['income'])\n",
    "plt.title('AGE vs. INCOME')\n",
    "plt.xlabel('AGE')\n",
    "plt.ylabel('INCOME');"
   ]
  },
  {
   "cell_type": "markdown",
   "id": "20947dd3",
   "metadata": {},
   "source": [
    "As we can see in the graph, age and income have a weak covariance."
   ]
  },
  {
   "cell_type": "code",
   "execution_count": null,
   "id": "e4f0c7ea",
   "metadata": {},
   "outputs": [],
   "source": []
  },
  {
   "cell_type": "markdown",
   "id": "5d1aa222",
   "metadata": {},
   "source": [
    "<b>QUESTION 6:</b>You are working on a machine learning project with a dataset containing several categorical\n",
    "variables, including \"Gender\" (Male/Female), \"Education Level\" (High School/Bachelor's/Master's/PhD),\n",
    "and \"Employment Status\" (Unemployed/Part-Time/Full-Time). Which encoding method would you use for\n",
    "each variable, and why?<br>\n",
    "<b>SOLUTION: </b>\n",
    "* Gender - One Hot Encoding because only 2 categories are present and data is nominal.\n",
    "* Education level - Ordinal Encoding - because this category has ordinal data.\n",
    "* Employment status - Label Encoding- because this category has nominal data.<br>"
   ]
  },
  {
   "cell_type": "code",
   "execution_count": null,
   "id": "54b36da2",
   "metadata": {},
   "outputs": [],
   "source": []
  },
  {
   "cell_type": "markdown",
   "id": "5852039d",
   "metadata": {},
   "source": [
    "<b>QUESTION 7:</b> You are analyzing a dataset with two continuous variables, \"Temperature\" and \"Humidity\", and two\n",
    "categorical variables, \"Weather Condition\" (Sunny/Cloudy/Rainy) and \"Wind Direction\" (North/South/\n",
    "East/West). Calculate the covariance between each pair of variables and interpret the results.<br>\n",
    "<b>SOLUTION: </b><br>"
   ]
  },
  {
   "cell_type": "code",
   "execution_count": null,
   "id": "14538d07",
   "metadata": {},
   "outputs": [],
   "source": [
    "n = 100\n",
    "temperature = np.random.normal(20,3,n)\n",
    "humidity = np.random.normal(60,10,n)\n",
    "weather_condition = np.random.choice(['Sunny','Cloudy','Rainy'], size=n)\n",
    "wind_direction = np.random.choice(['North','South','West','East'], size=n)\n",
    "\n",
    "df = pd.DataFrame({\n",
    "    'temperature' : temperature,\n",
    "    'humidity' : humidity,\n",
    "    'weather_condition' : weather_condition,\n",
    "    'wind_direction' : wind_direction,\n",
    "})\n",
    "\n",
    "df"
   ]
  },
  {
   "cell_type": "code",
   "execution_count": null,
   "id": "58810bdf",
   "metadata": {},
   "outputs": [],
   "source": [
    "df.cov()"
   ]
  },
  {
   "cell_type": "markdown",
   "id": "ed1ee316",
   "metadata": {},
   "source": [
    "The covariance of temperaure and humidity is 3.9 which is a very strong covariance."
   ]
  },
  {
   "cell_type": "code",
   "execution_count": null,
   "id": "df815ff9",
   "metadata": {},
   "outputs": [],
   "source": []
  }
 ],
 "metadata": {
  "kernelspec": {
   "display_name": "Python 3 (ipykernel)",
   "language": "python",
   "name": "python3"
  },
  "language_info": {
   "codemirror_mode": {
    "name": "ipython",
    "version": 3
   },
   "file_extension": ".py",
   "mimetype": "text/x-python",
   "name": "python",
   "nbconvert_exporter": "python",
   "pygments_lexer": "ipython3",
   "version": "3.9.13"
  }
 },
 "nbformat": 4,
 "nbformat_minor": 5
}
