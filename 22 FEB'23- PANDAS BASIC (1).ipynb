{
 "cells": [
  {
   "cell_type": "code",
   "execution_count": null,
   "id": "ae1c7de7",
   "metadata": {},
   "outputs": [],
   "source": [
    "import pandas as pd"
   ]
  },
  {
   "cell_type": "markdown",
   "id": "bdf332cd",
   "metadata": {},
   "source": [
    "<b>QUESTION 1:</b>Create a Pandas Series that contains the following data: 4, 8, 15, 16, 23, and 42. Then, print the series.<br>\n",
    "<b>SOLUTION:</b><br>"
   ]
  },
  {
   "cell_type": "code",
   "execution_count": null,
   "id": "6ff725f2",
   "metadata": {},
   "outputs": [],
   "source": [
    "l = [4,8,15,16,23,43]\n",
    "series = pd.Series(l)\n",
    "print(series)"
   ]
  },
  {
   "cell_type": "code",
   "execution_count": null,
   "id": "69ea8077",
   "metadata": {},
   "outputs": [],
   "source": []
  },
  {
   "cell_type": "markdown",
   "id": "4d1c570d",
   "metadata": {},
   "source": [
    "<b>QUESTION 2:</b>Create a variable of list type containing 10 elements in it, and apply pandas.Series function on the\n",
    "variable print it.<br>\n",
    "<b>SOLUTION:</b><br>"
   ]
  },
  {
   "cell_type": "code",
   "execution_count": null,
   "id": "fe651b53",
   "metadata": {},
   "outputs": [],
   "source": [
    "lst = [x for x in range(11)]\n",
    "series = pd.Series(lst)\n",
    "print(series)"
   ]
  },
  {
   "cell_type": "code",
   "execution_count": null,
   "id": "a7db36af",
   "metadata": {},
   "outputs": [],
   "source": []
  },
  {
   "cell_type": "markdown",
   "id": "917c8e02",
   "metadata": {},
   "source": [
    "<b>QUESTION 3:</b>Create a Pandas DataFrame that contains the following data:<br>\n",
    "\n",
    "|Name       |Age          |Gender         |\n",
    "|:----------|:------------|---------------|\n",
    "|Alice      |25           |Female         |\n",
    "|Bob        |30           |Male           |\n",
    "|Claire     |27           |Female         |\n",
    "<br>\n"
   ]
  },
  {
   "cell_type": "code",
   "execution_count": null,
   "id": "aefb2146",
   "metadata": {},
   "outputs": [],
   "source": [
    "data = {\n",
    "    'Name' : ['Alice', 'Bob', 'Claire'],\n",
    "    'Age' : [25,30,27],\n",
    "    'Gender' : ['Female','Male', 'Gender'],\n",
    "}\n",
    "\n",
    "df = pd.DataFrame(data)\n",
    "print(df)"
   ]
  },
  {
   "cell_type": "code",
   "execution_count": null,
   "id": "bc143a5a",
   "metadata": {},
   "outputs": [],
   "source": []
  },
  {
   "cell_type": "markdown",
   "id": "26bb0a94",
   "metadata": {},
   "source": [
    "<b>QUESTION 4:</b>What is ‘DataFrame’ in pandas and how is it different from pandas series? Explain with an example.<br>\n",
    "<b>SOLUTION:</b><br>\n",
    "Dataframe in pandas is a 2-D array consisting of multiple rows and columns. Whereas, Pandas Series only has a single column of data and is a 1-D array."
   ]
  },
  {
   "cell_type": "code",
   "execution_count": null,
   "id": "6e4d94e5",
   "metadata": {},
   "outputs": [],
   "source": [
    "data1 = ['Alice','Bob','Charlie']\n",
    "data2 = {\n",
    "    'Name' : ['Jake','Judith','Miranda'],\n",
    "    'Location' : ['Malibu', 'San Jose', 'Perth'],\n",
    "}\n",
    "\n",
    "series = pd.Series(data1)\n",
    "dataframe = pd.DataFrame(data2)\n",
    "\n",
    "\n",
    "print(series)\n",
    "print(dataframe)"
   ]
  },
  {
   "cell_type": "code",
   "execution_count": null,
   "id": "357a857e",
   "metadata": {},
   "outputs": [],
   "source": []
  },
  {
   "cell_type": "markdown",
   "id": "0e81224b",
   "metadata": {},
   "source": [
    "<b>QUESTION 5:</b> What are some common functions you can use to manipulate data in a Pandas DataFrame? Can\n",
    "you give an example of when you might use one of these functions?<br>\n",
    "<b>SOLUTION:</b><br>\n",
    "1. head() -- It can be used to view some initial rows of the pandas dataframe.\n",
    "2. .types -- It is used to check the datatypes of data in each column.\n",
    "3. .columns - It is used to get all the column names of the dataframe"
   ]
  },
  {
   "cell_type": "code",
   "execution_count": null,
   "id": "59f2fa86",
   "metadata": {},
   "outputs": [],
   "source": []
  },
  {
   "cell_type": "markdown",
   "id": "31621445",
   "metadata": {},
   "source": [
    "<b>QUESTION 6:</b>Which of the following is mutable in nature Series, DataFrame, Panel?<br>\n",
    "<b>SOLUTION:</b><br>\n",
    "All of these,that is, Series, dataframes and panels are value-mutable and except for series, all pandas data structures are size mutable."
   ]
  },
  {
   "cell_type": "code",
   "execution_count": null,
   "id": "e4f77eb3",
   "metadata": {},
   "outputs": [],
   "source": []
  },
  {
   "cell_type": "markdown",
   "id": "851b42ba",
   "metadata": {},
   "source": [
    "<b>QUESTION 7:</b>Create a DataFrame using multiple Series. Explain with an example.<br>\n",
    "<b>SOLUTION:</b><br>"
   ]
  },
  {
   "cell_type": "code",
   "execution_count": null,
   "id": "a41394b8",
   "metadata": {},
   "outputs": [],
   "source": [
    "#creating 3 individual series\n",
    "\n",
    "series1 = pd.Series([1,2,3,4,3,4,5])\n",
    "series2 = pd.Series(['a','b','c','d','e','f','g'])\n",
    "series3 = pd.Series(['no','yes','no','yes','yes'])\n",
    "\n",
    "\n",
    "#creating a dataframe by combining all the 3 series\n",
    "df = pd.DataFrame([series1,series2,series3])\n",
    "print(df)"
   ]
  }
 ],
 "metadata": {
  "kernelspec": {
   "display_name": "Python 3 (ipykernel)",
   "language": "python",
   "name": "python3"
  },
  "language_info": {
   "codemirror_mode": {
    "name": "ipython",
    "version": 3
   },
   "file_extension": ".py",
   "mimetype": "text/x-python",
   "name": "python",
   "nbconvert_exporter": "python",
   "pygments_lexer": "ipython3",
   "version": "3.9.13"
  }
 },
 "nbformat": 4,
 "nbformat_minor": 5
}
