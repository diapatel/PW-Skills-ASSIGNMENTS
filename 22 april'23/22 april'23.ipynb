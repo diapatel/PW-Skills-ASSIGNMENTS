{
 "cells": [
  {
   "cell_type": "markdown",
   "id": "f2a262cf-b818-432c-92a4-ea679ac9b723",
   "metadata": {},
   "source": [
    "Q1. Write a Python code to implement the KNN classifier algorithm on load_iris dataset in\n",
    "sklearn.datasets.<Br>\n",
    "Q2. Write a Python code to implement the KNN regressor algorithm on load_boston dataset in\n",
    "sklearn.datasets.<Br>\n",
    "Q3. Write a Python code snippet to find the optimal value of K for the KNN classifier algorithm using\n",
    "cross-validation on load_iris dataset in sklearn.datasets.<Br>\n",
    "Q4. Implement the KNN regressor algorithm with feature scaling on load_boston dataset in\n",
    "sklearn.datasets.<Br>\n",
    "Q5. Write a Python code snippet to implement the KNN classifier algorithm with weighted voting on\n",
    "load_iris dataset in sklearn.datasets.<Br>\n",
    "Q6. Implement a function to standardise the features before applying KNN classifier.<Br>\n",
    "Q7. Write a Python function to calculate the euclidean distance between two points.<Br>\n",
    "Q8. Write a Python function to calculate the manhattan distance between two points.<Br>"
   ]
  },
  {
   "cell_type": "code",
   "execution_count": null,
   "id": "becb13d0-70c3-41b4-8898-9c9618cc5d59",
   "metadata": {},
   "outputs": [],
   "source": []
  },
  {
   "cell_type": "code",
   "execution_count": null,
   "id": "28151681-5159-4ebd-baa8-01faf42643cc",
   "metadata": {},
   "outputs": [],
   "source": [
    "import numpy as np\n",
    "import pandas as pd\n",
    "from sklearn.datasets import load_iris\n",
    "from sklearn.model_selection import train_test_split\n",
    "from sklearn.preprocessing import StandardScaler\n",
    "from sklearn.metrics import accuracy_score, classification_report\n",
    "import warnings"
   ]
  },
  {
   "cell_type": "code",
   "execution_count": null,
   "id": "ce54c4bc-9df9-4a88-9ee1-7d8a86fff799",
   "metadata": {},
   "outputs": [],
   "source": []
  },
  {
   "cell_type": "markdown",
   "id": "a884bd21-6e89-410b-88e6-932ae5309466",
   "metadata": {},
   "source": [
    "### SOLUTION 1"
   ]
  },
  {
   "cell_type": "code",
   "execution_count": null,
   "id": "13504320-b1ac-4875-b4ea-2bab4c031305",
   "metadata": {},
   "outputs": [],
   "source": [
    "warnings.filterwarnings(action='ignore')"
   ]
  },
  {
   "cell_type": "code",
   "execution_count": null,
   "id": "7389078d-139f-4b97-96ff-db0682221017",
   "metadata": {},
   "outputs": [],
   "source": [
    "X,y = load_iris(return_X_y=True)"
   ]
  },
  {
   "cell_type": "code",
   "execution_count": null,
   "id": "ce5268ff-d4db-4ab6-8d5f-c2ef40769492",
   "metadata": {},
   "outputs": [],
   "source": [
    "X_train, X_test, y_train, y_test = train_test_split(X, y, test_size=.2, random_state=42)"
   ]
  },
  {
   "cell_type": "code",
   "execution_count": null,
   "id": "e15bce06-83d4-41d2-9b51-8d21c34a03d3",
   "metadata": {},
   "outputs": [],
   "source": [
    "from sklearn.neighbors import KNeighborsClassifier\n",
    "knn = KNeighborsClassifier(n_neighbors=3)\n",
    "knn.fit(X_train, y_train)\n",
    "y_pred = knn.predict(X_test)\n",
    "\n",
    "accuracy = accuracy_score(y_test, y_pred)\n",
    "accuracy"
   ]
  },
  {
   "cell_type": "code",
   "execution_count": null,
   "id": "1b61b0bc-3820-4a0e-bc98-9f19af135266",
   "metadata": {},
   "outputs": [],
   "source": [
    "#classification report\n",
    "\n",
    "print(classification_report(y_test, y_pred))"
   ]
  },
  {
   "cell_type": "code",
   "execution_count": null,
   "id": "f545a69c-869d-461d-824e-52bb2ce13c80",
   "metadata": {},
   "outputs": [],
   "source": [
    "#confusion matrix\n",
    "\n",
    "from sklearn.metrics import confusion_matrix\n",
    "pd.DataFrame(confusion_matrix(y_test, y_pred), columns=range(3))"
   ]
  },
  {
   "cell_type": "code",
   "execution_count": null,
   "id": "c7af3d4c-b3aa-4f77-ac16-8ca5fb6d1731",
   "metadata": {},
   "outputs": [],
   "source": []
  },
  {
   "cell_type": "code",
   "execution_count": null,
   "id": "ba9ba77c-d66e-4e7c-9d2d-49b81bffa776",
   "metadata": {},
   "outputs": [],
   "source": []
  },
  {
   "cell_type": "markdown",
   "id": "72ad4a3e-f7fe-4cc1-a7e1-e8c6799d5f31",
   "metadata": {},
   "source": [
    "### SOLUTION 2"
   ]
  },
  {
   "cell_type": "code",
   "execution_count": null,
   "id": "0d2cda1d-e383-4a45-a2d8-d778f5d1f5e0",
   "metadata": {},
   "outputs": [],
   "source": [
    "from sklearn.datasets import load_boston\n",
    "X,y = load_boston(return_X_y=True)"
   ]
  },
  {
   "cell_type": "code",
   "execution_count": null,
   "id": "61162c66-c734-49d8-81d6-9125db9d2262",
   "metadata": {},
   "outputs": [],
   "source": []
  },
  {
   "cell_type": "code",
   "execution_count": null,
   "id": "f2eab283-c6d0-457c-a4fd-6f5d043bad31",
   "metadata": {},
   "outputs": [],
   "source": [
    "#train test split\n",
    "X_train, X_test, y_train, y_test = train_test_split(X, y, test_size=.2, random_state=42)"
   ]
  },
  {
   "cell_type": "code",
   "execution_count": null,
   "id": "aeebc7f6-92a9-4ebe-8d85-d736e005d723",
   "metadata": {},
   "outputs": [],
   "source": [
    "scaler = StandardScaler()\n",
    "X_train = scaler.fit_transform(X_train)\n",
    "X_test = scaler.transform(X_test)"
   ]
  },
  {
   "cell_type": "code",
   "execution_count": null,
   "id": "b0f573a2-f0ba-45ae-84ea-354f4cd38836",
   "metadata": {},
   "outputs": [],
   "source": [
    "from sklearn.neighbors import KNeighborsRegressor\n",
    "\n",
    "knn_regressor = KNeighborsRegressor(n_neighbors=3)\n",
    "knn_regressor.fit(X_train, y_train)\n",
    "y_pred = knn_regressor.predict(X_test)"
   ]
  },
  {
   "cell_type": "code",
   "execution_count": null,
   "id": "944a502f-4e07-4531-b9aa-c4dfdfe958e3",
   "metadata": {},
   "outputs": [],
   "source": [
    "from sklearn.metrics import mean_squared_error, r2_score\n",
    "print(f'MSE: {mean_squared_error(y_test, y_pred)}')\n",
    "print(f'R2_Score: {r2_score(y_test, y_pred)}')"
   ]
  },
  {
   "cell_type": "code",
   "execution_count": null,
   "id": "08da526a-ca4f-4874-900f-00986434e486",
   "metadata": {},
   "outputs": [],
   "source": []
  },
  {
   "cell_type": "code",
   "execution_count": null,
   "id": "550d975c-4698-493f-bb73-7b53349fcfb2",
   "metadata": {},
   "outputs": [],
   "source": [
    "#heuristic\n",
    "kh = np.sqrt(X.shape[0])\n",
    "kh = 23"
   ]
  },
  {
   "cell_type": "code",
   "execution_count": null,
   "id": "8a6633a6-a697-4640-b34f-2686dbb643a6",
   "metadata": {},
   "outputs": [],
   "source": [
    "knn_rh = KNeighborsRegressor(n_neighbors=kh)\n",
    "knn_rh.fit(X_train, y_train)\n",
    "y_pred = knn_rh.predict(X_test)\n",
    "\n",
    "print(f'MSE: {mean_squared_error(y_test, y_pred)}')\n",
    "print(f'R2_Score: {r2_score(y_test, y_pred)}')"
   ]
  },
  {
   "cell_type": "markdown",
   "id": "7d659944-7b22-4403-9a62-103b3d9f02ff",
   "metadata": {},
   "source": [
    "* according to heuristic approach, k=23, but this is gives lower performance metrics than k=3.so, we'll now use cross-validation approach for determining an optimal value of k"
   ]
  },
  {
   "cell_type": "code",
   "execution_count": null,
   "id": "0d6b2717-421a-4991-8e11-858413079b98",
   "metadata": {},
   "outputs": [],
   "source": []
  },
  {
   "cell_type": "code",
   "execution_count": null,
   "id": "76bd1f90-6976-482f-b56f-60b4b09c629d",
   "metadata": {},
   "outputs": [],
   "source": [
    "#cross-validation approach\n",
    "r2 = []\n",
    "\n",
    "for i in range(1,23):\n",
    "    knn = KNeighborsRegressor(n_neighbors=i)\n",
    "    knn.fit(X_train, y_train)\n",
    "    y_pred = knn.predict(X_test)\n",
    "    \n",
    "    r2.append(r2_score(y_test, y_pred))"
   ]
  },
  {
   "cell_type": "code",
   "execution_count": null,
   "id": "722a54bb-2f60-4aa2-a761-1fe93306db56",
   "metadata": {},
   "outputs": [],
   "source": [
    "import matplotlib.pyplot as plt\n",
    "plt.plot(range(1,23), r2)\n",
    "plt.title('k vs. r2_score')\n",
    "plt.xlabel('k')\n",
    "plt.ylabel('r2_score');"
   ]
  },
  {
   "cell_type": "markdown",
   "id": "2a085585-ef1a-4bf1-8dc4-24d2175dca14",
   "metadata": {},
   "source": [
    "* This shows that we get the best value of r2 score with k=3."
   ]
  },
  {
   "cell_type": "code",
   "execution_count": null,
   "id": "baf2170e-261d-4244-9033-1ff80b3bd038",
   "metadata": {},
   "outputs": [],
   "source": []
  },
  {
   "cell_type": "markdown",
   "id": "5cdce9ae-466b-4a16-b7ec-091bf5adeaa5",
   "metadata": {},
   "source": [
    "### SOLUTION 3"
   ]
  },
  {
   "cell_type": "code",
   "execution_count": null,
   "id": "7fa5f4a5-0203-4e78-bb1e-bad5c3d68d8d",
   "metadata": {},
   "outputs": [],
   "source": [
    "X, y = load_iris(return_X_y=True)\n",
    "\n",
    "#train test split\n",
    "X_train, X_test, y_train, y_test = train_test_split(X, y, test_size=.2, random_state=42)\n",
    "\n",
    "#feature scaling\n",
    "scaler = StandardScaler()\n",
    "X_train = scaler.fit_transform(X_train)\n",
    "X_test = scaler.transform(X_test)\n",
    "\n",
    "#cross validation approach\n",
    "scores = []\n",
    "\n",
    "for i in range(1,15):\n",
    "    knn = KNeighborsClassifier(n_neighbors=i)\n",
    "    knn.fit(X_train, y_train)\n",
    "    y_pred = knn.predict(X_test)\n",
    "    scores.append(accuracy_score(y_test, y_pred))\n",
    "    "
   ]
  },
  {
   "cell_type": "code",
   "execution_count": null,
   "id": "bcdac69b-f3ee-47f1-9080-54dc76f47225",
   "metadata": {},
   "outputs": [],
   "source": [
    "plt.plot(range(1,15), scores);"
   ]
  },
  {
   "cell_type": "markdown",
   "id": "14b16e2a-d294-4449-96f9-7935f038c49f",
   "metadata": {},
   "source": [
    "we are getting an accuracy of 1 for all the values of k"
   ]
  },
  {
   "cell_type": "code",
   "execution_count": null,
   "id": "84d4c4a1-1f50-4fa8-b198-edf5cd3064d3",
   "metadata": {},
   "outputs": [],
   "source": []
  },
  {
   "cell_type": "markdown",
   "id": "86e34a84-a441-4adc-b386-a15c28387937",
   "metadata": {},
   "source": [
    "### SOLUTION 4\n",
    "This task has already been done in Solution 2"
   ]
  },
  {
   "cell_type": "code",
   "execution_count": null,
   "id": "26cb8d95-ffe5-4063-a8d3-59ff714fb28e",
   "metadata": {},
   "outputs": [],
   "source": []
  },
  {
   "cell_type": "markdown",
   "id": "742c49d4-9b52-4ddc-b21c-6632874ceff8",
   "metadata": {},
   "source": [
    "### SOLUTION 5"
   ]
  },
  {
   "cell_type": "code",
   "execution_count": null,
   "id": "4e6ab29b-d438-4873-9769-e551183df0b0",
   "metadata": {},
   "outputs": [],
   "source": [
    "X, y = load_iris(return_X_y=True)\n",
    "\n",
    "#train test split\n",
    "X_train, X_test, y_train, y_test = train_test_split(X, y, test_size=.2, random_state=42)\n",
    "\n",
    "#feature scaling\n",
    "scaler = StandardScaler()\n",
    "X_train = scaler.fit_transform(X_train)\n",
    "X_test = scaler.transform(X_test)\n",
    "\n",
    "#weighted knn\n",
    "weighted_knn = KNeighborsClassifier(n_neighbors=3, weights='distance')\n",
    "weighted_knn.fit(X_train, y_train)\n",
    "y_pred = weighted_knn.predict(X_test)\n",
    "accuracy_score(y_test, y_pred)"
   ]
  },
  {
   "cell_type": "code",
   "execution_count": null,
   "id": "46b73118-d3cc-4245-888c-c1278e201cf1",
   "metadata": {},
   "outputs": [],
   "source": []
  },
  {
   "cell_type": "markdown",
   "id": "e75172ba-5c2f-40fb-b3cf-4ac61bd3f55d",
   "metadata": {},
   "source": [
    "### SOLUTION 6"
   ]
  },
  {
   "cell_type": "markdown",
   "id": "e952301a-de98-4d7b-92a1-3cb64ddefbad",
   "metadata": {},
   "source": [
    "* Feature scaling can be done using standard scaler from sklearn's preprocessing module.\n",
    "* Feature scaling has been applied to KNN classifier built for iris dataset in solution 3."
   ]
  },
  {
   "cell_type": "code",
   "execution_count": null,
   "id": "16e8a94a-43c8-4fd0-8e38-510c9391b399",
   "metadata": {},
   "outputs": [],
   "source": []
  },
  {
   "cell_type": "markdown",
   "id": "6c2a36de-d240-4410-95eb-7c7b17b56680",
   "metadata": {},
   "source": [
    "### SOLUTION 7"
   ]
  },
  {
   "cell_type": "code",
   "execution_count": null,
   "id": "8a13ba84-1809-4bb2-88b9-4cc405ced0ee",
   "metadata": {},
   "outputs": [],
   "source": [
    "#euclidean distance between 2 points\n",
    "a = np.array([0,0])\n",
    "b = np.array([1,1])\n",
    "np.linalg.norm(a-b)"
   ]
  },
  {
   "cell_type": "code",
   "execution_count": null,
   "id": "3675de2a-7ab5-4217-aa2f-b2ac6a0438a6",
   "metadata": {},
   "outputs": [],
   "source": [
    "#calculating euclidean distance without numpy\n",
    "\n",
    "distances = []\n",
    "for i in range(len(a)):\n",
    "    for j in range(len(b)):\n",
    "        if i==j:\n",
    "            distances.append((a[i] - b[j])**2)\n",
    "            \n",
    "euclidean_distance = (sum(distances))**0.5\n",
    "euclidean_distance"
   ]
  },
  {
   "cell_type": "code",
   "execution_count": null,
   "id": "9dbfa535-7989-4762-8701-97494ea4c7f0",
   "metadata": {},
   "outputs": [],
   "source": []
  },
  {
   "cell_type": "markdown",
   "id": "f423b26d-e5e2-484f-b78a-c25400adc71e",
   "metadata": {},
   "source": [
    "### SOLUTION 8"
   ]
  },
  {
   "cell_type": "code",
   "execution_count": null,
   "id": "b45b8ee6-148a-441a-9c7e-d8bcc6e027e9",
   "metadata": {},
   "outputs": [],
   "source": [
    "#calculating manhattan distance\n",
    "def manhattan_dist(a,b):\n",
    "    distances =[]\n",
    "    \n",
    "    for i in range(len(a)):\n",
    "        for j in range(len(b)):\n",
    "            if i==j:\n",
    "                if (a[i] - b[i])<0:\n",
    "                    distances.append(-1*(a[i] -b[i]))\n",
    "                else:\n",
    "                    distances.append(a[i] - b[i])\n",
    "                    \n",
    "    return sum(distances)\n",
    "\n",
    "manhattan_dist(a,b)"
   ]
  },
  {
   "cell_type": "code",
   "execution_count": null,
   "id": "ddfc75b9-de9d-44f9-acc4-da7e6bd98987",
   "metadata": {},
   "outputs": [],
   "source": []
  }
 ],
 "metadata": {
  "kernelspec": {
   "display_name": "Python 3 (ipykernel)",
   "language": "python",
   "name": "python3"
  },
  "language_info": {
   "codemirror_mode": {
    "name": "ipython",
    "version": 3
   },
   "file_extension": ".py",
   "mimetype": "text/x-python",
   "name": "python",
   "nbconvert_exporter": "python",
   "pygments_lexer": "ipython3",
   "version": "3.9.13"
  }
 },
 "nbformat": 4,
 "nbformat_minor": 5
}
