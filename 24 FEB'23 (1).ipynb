{
 "cells": [
  {
   "cell_type": "code",
   "execution_count": null,
   "id": "84d4c6b7",
   "metadata": {},
   "outputs": [],
   "source": [
    "import pandas as pd\n",
    "import numpy as np"
   ]
  },
  {
   "cell_type": "markdown",
   "id": "2b451170",
   "metadata": {},
   "source": [
    "<b>QUESTION 1:</b>List any five functions of the pandas library with execution.<br>\n",
    "<b>SOLUTION:</b><br>"
   ]
  },
  {
   "cell_type": "code",
   "execution_count": null,
   "id": "d85a382d",
   "metadata": {},
   "outputs": [],
   "source": [
    "#creating a dataframe from a dictionary\n",
    "\n",
    "d1 = {\n",
    "    'Name' : ['A','B','C','D','E'],\n",
    "    'Age' : [12,3,40,21,43]\n",
    "}\n",
    "\n",
    "df1 = pd.DataFrame(dictionary)\n",
    "df1"
   ]
  },
  {
   "cell_type": "code",
   "execution_count": null,
   "id": "d020f25b",
   "metadata": {},
   "outputs": [],
   "source": [
    "#fetching the first 3 columns\n",
    "df1.head(3)"
   ]
  },
  {
   "cell_type": "code",
   "execution_count": null,
   "id": "31286fe9",
   "metadata": {},
   "outputs": [],
   "source": [
    "#fetching the last 2 columns\n",
    "df1.tail(2)"
   ]
  },
  {
   "cell_type": "code",
   "execution_count": null,
   "id": "01be2505",
   "metadata": {},
   "outputs": [],
   "source": [
    "#fetching the column names\n",
    "df1.columns"
   ]
  },
  {
   "cell_type": "code",
   "execution_count": null,
   "id": "1b9bf7c1",
   "metadata": {},
   "outputs": [],
   "source": [
    "#fetching the data types of the dataframe\n",
    "df1.dtypes"
   ]
  },
  {
   "cell_type": "code",
   "execution_count": null,
   "id": "a244c8e8",
   "metadata": {},
   "outputs": [],
   "source": [
    "#fetching the number of rows of dataframe\n",
    "df1.index"
   ]
  },
  {
   "cell_type": "code",
   "execution_count": null,
   "id": "14e5ee4e",
   "metadata": {},
   "outputs": [],
   "source": []
  },
  {
   "cell_type": "code",
   "execution_count": null,
   "id": "6f9c740b",
   "metadata": {},
   "outputs": [],
   "source": []
  },
  {
   "cell_type": "markdown",
   "id": "b924ef05",
   "metadata": {},
   "source": [
    "<b>QUESTION 2:</b>Given a Pandas DataFrame df with columns 'A', 'B', and 'C', write a Python function to re-index the\n",
    "DataFrame with a new index that starts from 1 and increments by 2 for each row.<br>\n",
    "<b>SOLUTION:</b><br>"
   ]
  },
  {
   "cell_type": "code",
   "execution_count": null,
   "id": "8b5722cd",
   "metadata": {},
   "outputs": [],
   "source": [
    "df9 = pd.DataFrame(\n",
    "{'A' : ['good', 'better', 'best'],\n",
    " 'B' : ['now','then', 'never'],\n",
    " 'C' : ['morning',' noon', 'evening'],\n",
    "})\n",
    "\n",
    "y = 1\n",
    "new=[]\n",
    "for index in df9.index:\n",
    "    if index == 0:\n",
    "        new.append(1)\n",
    "    else:\n",
    "        y+=2\n",
    "        new.append(y)\n",
    "        \n",
    "\n",
    "df9.index = new\n",
    "df9"
   ]
  },
  {
   "cell_type": "code",
   "execution_count": null,
   "id": "2da6739d",
   "metadata": {},
   "outputs": [],
   "source": []
  },
  {
   "cell_type": "code",
   "execution_count": null,
   "id": "682a47b4",
   "metadata": {},
   "outputs": [],
   "source": []
  },
  {
   "cell_type": "markdown",
   "id": "0f7d463d",
   "metadata": {},
   "source": [
    "<b>QUESTION 3:</b> You have a Pandas DataFrame df with a column named 'Values'. Write a Python function that\n",
    "iterates over the DataFrame and calculates the sum of the first three values in the 'Values' column. The\n",
    "function should print the sum to the console.<br>\n",
    "\n",
    "For example, if the 'Values' column of df contains the values [10, 20, 30, 40, 50], your function should\n",
    "calculate and print the sum of the first three values, which is 60.<br>\n",
    "<b>SOLUTION:</b><br>"
   ]
  },
  {
   "cell_type": "code",
   "execution_count": null,
   "id": "d583077e",
   "metadata": {},
   "outputs": [],
   "source": [
    "df2 = pd.DataFrame({'Values' : [10,20,30,40,50,60]})\n",
    "sum = 0\n",
    "\n",
    "for value in df2.loc[:2,'Values']:\n",
    "    sum += value\n",
    "    \n",
    "print(f\"Sum of the first three values is: {sum}\")"
   ]
  },
  {
   "cell_type": "code",
   "execution_count": null,
   "id": "af2a8ec1",
   "metadata": {},
   "outputs": [],
   "source": []
  },
  {
   "cell_type": "markdown",
   "id": "cd42b25a",
   "metadata": {},
   "source": [
    "<b>QUESTION 4:</b> Given a Pandas DataFrame df with a column 'Text', write a Python function to create a new column\n",
    "'Word_Count' that contains the number of words in each row of the 'Text' column.<br>\n",
    "<b>SOLUTION:</b><br>"
   ]
  },
  {
   "cell_type": "code",
   "execution_count": null,
   "id": "91b84aea",
   "metadata": {},
   "outputs": [],
   "source": [
    "d3= {\n",
    "    'Text' : ['My teeth itch' , 'This movie is good','It\\'s a beautiful day to save lives', \n",
    "            'Got good data']\n",
    "}\n",
    "\n",
    "#creating a dataframe from dictionary d2\n",
    "df3 = pd.DataFrame(d3)\n",
    "\n",
    "\n",
    "#adding a new column word_count\n",
    "\n",
    "def count_words(string):\n",
    "    count = 0\n",
    "    for word in string.split():\n",
    "        count+=1\n",
    "        \n",
    "    return count\n",
    "    \n",
    "\n",
    "word_count = [count_words(x) for x in df3['Text']]\n",
    "df3['Word_Count'] = word_count\n",
    "df3"
   ]
  },
  {
   "cell_type": "code",
   "execution_count": null,
   "id": "06d02b56",
   "metadata": {},
   "outputs": [],
   "source": []
  },
  {
   "cell_type": "markdown",
   "id": "e4b84e6d",
   "metadata": {},
   "source": [
    "<b>QUESTION 5:</b>How are DataFrame.size() and DataFrame.shape() different?<br>\n",
    "<b>SOLUTION:</b><br>\n",
    "DataFrame.shape() returns a tuple with the number of rows and columns of a dataframe in the format (rows,columns).<br>\n",
    "Whereas DataFrame.size() returns the total number of data values present in the dataframe.<br>\n",
    "For example, if there are 4 rows and 2 columns in a dataframe then, <br>\n",
    "dataframe.shape will return (4,2)<br>\n",
    "and dataframe.size will return 8<br>\n"
   ]
  },
  {
   "cell_type": "code",
   "execution_count": null,
   "id": "2c5c380f",
   "metadata": {},
   "outputs": [],
   "source": []
  },
  {
   "cell_type": "code",
   "execution_count": null,
   "id": "88b519eb",
   "metadata": {},
   "outputs": [],
   "source": []
  },
  {
   "cell_type": "markdown",
   "id": "c8c1b747",
   "metadata": {},
   "source": [
    "<b>QUESTION 6:</b> Which function of pandas do we use to read an excel file?<br>\n",
    "<b>SOLUTION:</b><br>\n",
    "read_excel() function is used to read an excel file in Pandas."
   ]
  },
  {
   "cell_type": "code",
   "execution_count": null,
   "id": "68d1ae25",
   "metadata": {},
   "outputs": [],
   "source": []
  },
  {
   "cell_type": "markdown",
   "id": "827593c9",
   "metadata": {},
   "source": [
    "<b>QUESTION 7:</b>You have a Pandas DataFrame df that contains a column named 'Email' that contains email\n",
    "addresses in the format 'username@domain.com'. Write a Python function that creates a new column\n",
    "'Username' in df that contains only the username part of each email address.\n",
    "The username is the part of the email address that appears before the '@' symbol. For example, if the\n",
    "email address is 'john.doe@example.com', the 'Username' column should contain 'john.doe'. Your\n",
    "function should extract the username from each email address and store it in the new 'Username'<br>\n",
    "<b>SOLUTION:</b><br>"
   ]
  },
  {
   "cell_type": "code",
   "execution_count": null,
   "id": "e74dc6b1",
   "metadata": {},
   "outputs": [],
   "source": [
    "d4 = {\n",
    "    'Email' : ['john.doe@example.com',\n",
    "               'rosie.waterland@gist.com',\n",
    "               'captainhook@hotmail.com',\n",
    "              'jake.pirate@water.com']\n",
    "}\n",
    "\n",
    "#creating a dataframe from dictionary d4\n",
    "df4 = pd.DataFrame(d4)\n",
    "\n",
    "def get_username(email):\n",
    "    return email.split('@')\n",
    "\n",
    "df4['Username'] = df4['Email'].apply(lambda x: str(x).split('@')[0])\n",
    "df4"
   ]
  },
  {
   "cell_type": "code",
   "execution_count": null,
   "id": "d1bde8de",
   "metadata": {},
   "outputs": [],
   "source": []
  },
  {
   "cell_type": "markdown",
   "id": "28edb8e5",
   "metadata": {},
   "source": [
    "<b>QUESTION 8:</b>Q8. You have a Pandas DataFrame df with columns 'A', 'B', and 'C'. Write a Python function that selects\n",
    "all rows where the value in column 'A' is greater than 5 and the value in column 'B' is less than 10. The\n",
    "function should return a new DataFrame that contains only the selected rows.<br>\n",
    "For example, if df contains the following values:<br>\n",
    "$\\;\\;$A B C<br>\n",
    "0 3 5 1<br>\n",
    "1 8 2 7<br>\n",
    "2 6 9 4<br>\n",
    "3 2 3 5<br>\n",
    "4 9 1 2<br>\n",
    "\n",
    "Your function should select the following rows:<br>\n",
    "$\\;\\;$A B C<br>\n",
    "1 8 2 7<br>\n",
    "4 9 1 2<br>\n",
    "The function should return a new DataFrame that contains only the selected rows.<br>\n",
    "<b>SOLUTION:</b><br>"
   ]
  },
  {
   "cell_type": "code",
   "execution_count": null,
   "id": "b0beedea",
   "metadata": {},
   "outputs": [],
   "source": [
    "df5 = pd.DataFrame({\n",
    "    'A' : [3,8,6,2,9],\n",
    "    'B' : [5,2,9,3,1],\n",
    "    'C' : [1,7,4,5,2],\n",
    "})\n",
    "df5\n",
    "\n",
    "mask = (df5['A'] > 5) & (df5['B'] < 10)\n",
    "df5.loc[mask]"
   ]
  },
  {
   "cell_type": "code",
   "execution_count": null,
   "id": "f3766a29",
   "metadata": {},
   "outputs": [],
   "source": []
  },
  {
   "cell_type": "markdown",
   "id": "4eb35aa0",
   "metadata": {},
   "source": [
    "<b>QUESTION 9:</b>Q9. Given a Pandas DataFrame df with a column 'Values', write a Python function to calculate the mean,\n",
    "median, and standard deviation of the values in the 'Values' column.<br>\n",
    "<b>SOLUTION:</b><br>"
   ]
  },
  {
   "cell_type": "code",
   "execution_count": null,
   "id": "8679cec8",
   "metadata": {},
   "outputs": [],
   "source": [
    "df['Values'].mean()\n",
    "df['Values'].median()\n",
    "df['Values'].stdev()"
   ]
  },
  {
   "cell_type": "code",
   "execution_count": null,
   "id": "32cdd44f",
   "metadata": {},
   "outputs": [],
   "source": []
  },
  {
   "cell_type": "markdown",
   "id": "6bacbc34",
   "metadata": {},
   "source": [
    "<b>QUESTION 10:</b>Q10. Given a Pandas DataFrame df with a column 'Sales' and a column 'Date', write a Python function to\n",
    "create a new column 'MovingAverage' that contains the moving average of the sales for the past 7 days\n",
    "for each row in the DataFrame. The moving average should be calculated using a window of size 7 and\n",
    "should include the current day.<br>\n",
    "<b>SOLUTION:</b><br>"
   ]
  },
  {
   "cell_type": "code",
   "execution_count": null,
   "id": "ded01af8",
   "metadata": {},
   "outputs": [],
   "source": [
    "\n",
    "dates = ['2023-01-01','2023-01-02','2023-01-03','2023-01-04','2023-01-05','2023-01-06',\n",
    "         '2023-01-07','2023-01-08','2023-01-09','2023-01-10','2023-01-11','2023-01-12',\n",
    "         '2023-01-13','2023-01-14','2023-01-15','2023-01-16','2023-01-17','2023-01-18',\n",
    "         '2023-01-19','2023-01-20','2023-01-21','2023-01-22','2023-01-23','2023-01-24',\n",
    "         '2023-01-25','2023-01-26','2023-01-27','2023-01-28','2023-01-29','2023-01-30','2023-01-31']\n",
    "\n",
    "\n",
    "sales = [95.37,81.35,800,94.74,83.26,100,96.66,86.13,100,98.57,100,100,100,100,100,92.83,94.74,100,725.55,34.85,68.64,7.34,76.36,45.58,145,91.87,25.32,654,67,38,78]\n",
    "\n",
    "df10 = pd.DataFrame(\n",
    "{\n",
    "    'Date' : dates,\n",
    "    'Sales' : sales\n",
    "})\n",
    "\n",
    "\n",
    "\n",
    "for i in range(0,df10.shape[0]-6):\n",
    "    df10.loc[df10.index[i+6], 'Moving_Average'] = (np.round((df10.iloc[i,1] + df10.iloc[i+1,1] + df10.iloc[i+2,1] +\n",
    "                                                             df10.iloc[i+3,1] +df10.iloc[i+4,1]\n",
    "                                                           +df10.iloc[i+5,1] + df10.iloc[i+6,1])/7,1))\n",
    "\n",
    "\n",
    "#df10['new'] = df10.iloc[:,1].rolling(window=7).mean()\n",
    "df10    "
   ]
  },
  {
   "cell_type": "code",
   "execution_count": null,
   "id": "ffcc3e4c",
   "metadata": {},
   "outputs": [],
   "source": []
  },
  {
   "cell_type": "markdown",
   "id": "e34821cd",
   "metadata": {},
   "source": [
    "<b>QUESTION 11: </b>You have a Pandas DataFrame df with a column 'Date'. Write a Python function that creates a new column 'Weekday' in the DataFrame. The 'Weekday' column should contain the weekday name (e.g.\n",
    "Monday, Tuesday) corresponding to each date in the 'Date' column.<br>\n",
    "For example, if df contains the following values:<br>\n",
    "$\\;\\;$Date<br>\n",
    "0 2023-01-01<br>\n",
    "1 2023-01-02<br>\n",
    "2 2023-01-03<br>\n",
    "3 2023-01-04<br>\n",
    "4 2023-01-05<br>\n",
    "Your function should create the following DataFrame:<br>\n",
    "$\\:\\:$Date$\\;\\;\\;\\;\\;\\;\\;\\;\\;$Weekday<br>\n",
    "0 2023-01-01$\\;\\;$ Sunday<br>\n",
    "1 2023-01-02$\\;\\;$ Monday<br>\n",
    "2 2023-01-03 $\\;\\;$Tuesday<br>\n",
    "3 2023-01-04 $\\;\\;$Wednesday<br>\n",
    "4 2023-01-05 $\\;\\;$Thursday<br>\n",
    "The function should return the modified DataFrame.<br>\n",
    "<b>SOLUTION:</b><br>"
   ]
  },
  {
   "cell_type": "code",
   "execution_count": null,
   "id": "0280d583",
   "metadata": {},
   "outputs": [],
   "source": [
    "import calendar\n",
    "\n",
    "def return_weekday(date):\n",
    "    '''takes in a date in yyyy-mm-dd format and returns the weekday of the date.'''\n",
    "    y,m,d = date.split(\"-\")\n",
    "    \n",
    "    #typecasts y,m,d to int\n",
    "    y,m,d = int(y),int(m),int(d)\n",
    "    weekdays_list = ['Monday','Tuesday','Wednesday','Thursday','Friday','Saturday','Sunday']\n",
    "    weekday = calendar.weekday(y,m,d)\n",
    "    return weekdays_list[weekday]\n",
    "\n",
    "df7 = pd.DataFrame({\n",
    "    'Date' : ['2023-01-01',\n",
    "             '2023-01-02',\n",
    "             '2023-01-03',\n",
    "             '2023-01-04',\n",
    "             '2023-01-05']\n",
    "})\n",
    "\n",
    "weekdays = [return_weekday(x) for x in df7['Date']]\n",
    "df7['Weekday'] = weekdays\n",
    "df7"
   ]
  },
  {
   "cell_type": "code",
   "execution_count": null,
   "id": "d0933db8",
   "metadata": {},
   "outputs": [],
   "source": []
  },
  {
   "cell_type": "markdown",
   "id": "de271ded",
   "metadata": {},
   "source": [
    "<b>QUESTION 12:</b>Given a Pandas DataFrame df with a column 'Date' that contains timestamps, write a Python\n",
    "function to select all rows where the date is between '2023-01-01' and '2023-01-31'.<br>\n",
    "<b>SOLUTION:</b><br>"
   ]
  },
  {
   "cell_type": "code",
   "execution_count": null,
   "id": "3c35a5c7",
   "metadata": {},
   "outputs": [],
   "source": [
    "df8 = pd.DataFrame({\n",
    "    'Date' : [\n",
    "        '2023-01-01','2023-01-02','2023-01-30','2023-02-20','2023-03-01','2023-01-20',\n",
    "        '2023-01-07','2023-06-08','2023-01-19','2023-09-01'\n",
    "    ]\n",
    "})\n",
    "\n",
    "condition = (df8['Date'] > '2023-01-01') & (df8['Date'] < '2023-01-31')\n",
    "df8.loc[condition]"
   ]
  },
  {
   "cell_type": "code",
   "execution_count": null,
   "id": "1a95f3f1",
   "metadata": {},
   "outputs": [],
   "source": []
  },
  {
   "cell_type": "markdown",
   "id": "b45c6a5c",
   "metadata": {},
   "source": [
    "<b>QUESTION 13:</b>To use the basic functions of pandas, what is the first and foremost necessary library that needs to\n",
    "be imported?<br>\n",
    "<b>SOLUTION:</b>The pandas library has to be imported to use the pandas functions.<br>"
   ]
  },
  {
   "cell_type": "code",
   "execution_count": null,
   "id": "ace6b1e0",
   "metadata": {},
   "outputs": [],
   "source": []
  },
  {
   "cell_type": "code",
   "execution_count": null,
   "id": "0d0cf32a",
   "metadata": {},
   "outputs": [],
   "source": []
  }
 ],
 "metadata": {
  "kernelspec": {
   "display_name": "Python 3 (ipykernel)",
   "language": "python",
   "name": "python3"
  },
  "language_info": {
   "codemirror_mode": {
    "name": "ipython",
    "version": 3
   },
   "file_extension": ".py",
   "mimetype": "text/x-python",
   "name": "python",
   "nbconvert_exporter": "python",
   "pygments_lexer": "ipython3",
   "version": "3.9.13"
  }
 },
 "nbformat": 4,
 "nbformat_minor": 5
}
