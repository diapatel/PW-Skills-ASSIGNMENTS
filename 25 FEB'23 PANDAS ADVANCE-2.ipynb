{
 "cells": [
  {
   "cell_type": "markdown",
   "id": "db7d0274",
   "metadata": {},
   "source": []
  },
  {
   "cell_type": "markdown",
   "id": "92cba870",
   "metadata": {},
   "source": [
    "Consider following code to answer further questions:<br>\n"
   ]
  },
  {
   "cell_type": "code",
   "execution_count": null,
   "id": "5b519eaa",
   "metadata": {},
   "outputs": [],
   "source": [
    "import pandas as pd\n",
    "course_name = ['Data Science', 'Machine Learning', 'Big Data', 'Data Engineer']\n",
    "duration = [2,3,6,4]\n",
    "df = pd.DataFrame(data = {'course_name' : course_name, 'duration' : duration})"
   ]
  },
  {
   "cell_type": "code",
   "execution_count": null,
   "id": "059fb50c",
   "metadata": {},
   "outputs": [],
   "source": []
  },
  {
   "cell_type": "markdown",
   "id": "154f7168",
   "metadata": {},
   "source": [
    "<b>QUESTION 1:</b>Write a code to print the data present in the second row of the dataframe, df.<br>\n",
    "<b>SOLUTION:</b><br>"
   ]
  },
  {
   "cell_type": "code",
   "execution_count": null,
   "id": "025e241c",
   "metadata": {},
   "outputs": [],
   "source": [
    "df"
   ]
  },
  {
   "cell_type": "code",
   "execution_count": null,
   "id": "685618bb",
   "metadata": {},
   "outputs": [],
   "source": []
  },
  {
   "cell_type": "markdown",
   "id": "0a0f68dc",
   "metadata": {},
   "source": [
    "<b>QUESTION 2:</b>What is the difference between the functions loc and iloc in pandas.DataFrame?<br>\n",
    "<b>SOLUTION:</b>\n",
    "loc function uses the column labels as arguments to fetch the data of those columns whereas iloc function uses column indices to locate the required columns in the dataframe.<br>"
   ]
  },
  {
   "cell_type": "code",
   "execution_count": null,
   "id": "cbf0dd62",
   "metadata": {},
   "outputs": [],
   "source": []
  },
  {
   "cell_type": "markdown",
   "id": "740cdcfd",
   "metadata": {},
   "source": [
    "<b>QUESTION 3:</b>Reindex the given dataframe using a variable, reindex = [3,0,1,2] and store it in the variable, new_df\n",
    "then find the output for both new_df.loc[2] and new_df.iloc[2].<br>\n",
    "Did you observe any difference in both the outputs? If so then explain it.<br>\n",
    "<b>SOLUTION:</b><br>\n",
    "iloc fetches the data which is in the row with and in-built index 2.it assumes the first row to be index 0, no matter what the actual index number assigned to it is.<br>\n",
    "Whereas loc considers whatever index is passed into it at face value and fetches the row with that exact index. If the index of row is 0 but it is not the first row at the dataframe, loc will still return the data of that row if we write df.loc[0]."
   ]
  },
  {
   "cell_type": "code",
   "execution_count": null,
   "id": "380b313e",
   "metadata": {},
   "outputs": [],
   "source": [
    "new_df = df.reindex([3,0,1,2])\n",
    "print(new_df.loc[2])\n",
    "print('-----------')\n",
    "print(new_df.iloc[2])\n"
   ]
  },
  {
   "cell_type": "code",
   "execution_count": null,
   "id": "b9163128",
   "metadata": {},
   "outputs": [],
   "source": []
  },
  {
   "cell_type": "markdown",
   "id": "5a924aa5",
   "metadata": {},
   "source": [
    "Consider the below code to answer further questions:"
   ]
  },
  {
   "cell_type": "code",
   "execution_count": null,
   "id": "157af924",
   "metadata": {},
   "outputs": [],
   "source": [
    "import pandas as pd\n",
    "import numpy as np\n",
    "columns = ['column_1', 'column_2', 'column_3', 'column_4', 'column_5', 'column_6']\n",
    "indices = [1,2,3,4,5,6]\n",
    "#Creating a dataframe:\n",
    "df1 = pd.DataFrame(np.random.rand(6,6), columns = columns, index = indices)"
   ]
  },
  {
   "cell_type": "code",
   "execution_count": null,
   "id": "112401e2",
   "metadata": {},
   "outputs": [],
   "source": [
    "df1"
   ]
  },
  {
   "cell_type": "markdown",
   "id": "7af3c413",
   "metadata": {},
   "source": [
    "<b>QUESTION 4:</b>Write a code to find the following statistical measurements for the above dataframe df1:<br>\n",
    "(i) mean of each and every column present in the dataframe.<br>\n",
    "(ii) standard deviation of column, ‘column_2’<br>\n",
    "<b>SOLUTION:</b><br>"
   ]
  },
  {
   "cell_type": "code",
   "execution_count": null,
   "id": "10aafb0c",
   "metadata": {},
   "outputs": [],
   "source": [
    "#(i)\n",
    "df1.mean(axis=1)"
   ]
  },
  {
   "cell_type": "code",
   "execution_count": null,
   "id": "4fa21139",
   "metadata": {},
   "outputs": [],
   "source": [
    "#(ii)\n",
    "df1.loc[:,['column_2']].std()"
   ]
  },
  {
   "cell_type": "code",
   "execution_count": null,
   "id": "d2fc02a3",
   "metadata": {},
   "outputs": [],
   "source": []
  },
  {
   "cell_type": "markdown",
   "id": "80010eab",
   "metadata": {},
   "source": [
    "<b>QUESTION 5:</b>Q5. Replace the data present in the second row of column, ‘column_2’ by a string variable then find the\n",
    "mean of column, column_2.<br>\n",
    "If you are getting errors in executing it then explain why.<br>\n",
    "[Hint: To replace the data use df1.loc[] and equate this to string data of your choice.]<br>\n",
    "<b>SOLUTION:</b><br>\n",
    "The code, as seen in the cell below, is giving error. This is because now, the data type of the data in column_2 is string and the mean of string data cannot be calculated. We can verify this change in datatype of column_2 data by the code\"df1.dtypes\"."
   ]
  },
  {
   "cell_type": "code",
   "execution_count": null,
   "id": "8b40a56e",
   "metadata": {},
   "outputs": [],
   "source": [
    "df1['column_2'] = [str(x) for x in df1['column_2']]\n",
    "\n",
    "\n",
    "df1.loc[:,['column_2']].mean()\n",
    "df1.dtypes"
   ]
  },
  {
   "cell_type": "code",
   "execution_count": null,
   "id": "a08d91e1",
   "metadata": {},
   "outputs": [],
   "source": []
  },
  {
   "cell_type": "markdown",
   "id": "6a08c4e5",
   "metadata": {},
   "source": [
    "<b>QUESTION 6:</b>Q6. What do you understand about the windows function in pandas and list the types of windows functions?<br>\n",
    "<b>SOLUTION:</b>\n",
    "* In pandas, a window function is a function that performs calculations across a rolling window of data.\n",
    "* it is a powerful tool in data analysis and manipulation, especially in case of time-series data.\n",
    "\n",
    "\n",
    "There are 2 kinds of window functions: \n",
    "* ROLLING WINDOW FUNCTION: they calculate the rolling window statistics over a specified window of time, where hte window is defined by a fixed number of observations or a time-based frequency.\n",
    "* EXPANDING WINDOW FUNCTION: calculate a cumulative statistics over the entire history of data.<br>"
   ]
  },
  {
   "cell_type": "code",
   "execution_count": null,
   "id": "9334d38d",
   "metadata": {},
   "outputs": [],
   "source": []
  },
  {
   "cell_type": "code",
   "execution_count": null,
   "id": "5f1f81f1",
   "metadata": {},
   "outputs": [],
   "source": []
  },
  {
   "cell_type": "markdown",
   "id": "f3677943",
   "metadata": {},
   "source": [
    "<b>QUESTION 7:</b>Write a code to print only the current month and year at the time of answering this question.\n",
    "[Hint: Use pandas.datetime function]<br>\n",
    "<b>SOLUTION:</b><br>"
   ]
  },
  {
   "cell_type": "code",
   "execution_count": 4,
   "id": "8c4a9bc3",
   "metadata": {},
   "outputs": [
    {
     "data": {
      "text/plain": [
       "'2023-02'"
      ]
     },
     "execution_count": 4,
     "metadata": {},
     "output_type": "execute_result"
    }
   ],
   "source": [
    "from datetime import datetime\n",
    "now = datetime.today().strftime(\"%Y-%m\")\n",
    "now"
   ]
  },
  {
   "cell_type": "code",
   "execution_count": null,
   "id": "639ea283",
   "metadata": {},
   "outputs": [],
   "source": []
  },
  {
   "cell_type": "markdown",
   "id": "6d2228c9",
   "metadata": {},
   "source": [
    "<b>QUESTION 8:</b>Write a Python program that takes in two dates as input (in the format YYYY-MM-DD) and\n",
    "calculates the difference between them in days, hours, and minutes using Pandas time delta. The\n",
    "program should prompt the user to enter the dates and display the result.<br>\n",
    "<b>SOLUTION:</b><br>"
   ]
  },
  {
   "cell_type": "code",
   "execution_count": 4,
   "id": "6498aa5c-2abe-4e62-ad70-9a748699679c",
   "metadata": {},
   "outputs": [],
   "source": [
    "import pandas as pd"
   ]
  },
  {
   "cell_type": "code",
   "execution_count": 7,
   "id": "f7964007",
   "metadata": {},
   "outputs": [
    {
     "name": "stdin",
     "output_type": "stream",
     "text": [
      "Enter first date(YYYY-MM-DD):  2023-01-01\n",
      "Enter second date(YYY-MM-DD):  2023-02-01\n"
     ]
    },
    {
     "name": "stdout",
     "output_type": "stream",
     "text": [
      "difference in days: 31\n",
      "difference in hours: 1\n",
      "difference in minutes: 1860\n"
     ]
    }
   ],
   "source": [
    "date1 = pd.to_datetime(input('Enter first date(YYYY-MM-DD): '))\n",
    "date2 = pd.to_datetime(input('Enter second date(YYY-MM-DD): '))\n",
    "                       \n",
    "diff = date2-date1\n",
    "print(f'difference in days: {diff.days}')\n",
    "print(f'difference in hours: {diff.days // 24}')\n",
    "print(f'difference in minutes: {diff.days * 60}')"
   ]
  },
  {
   "cell_type": "code",
   "execution_count": null,
   "id": "4ae90b46",
   "metadata": {},
   "outputs": [],
   "source": []
  },
  {
   "cell_type": "markdown",
   "id": "83ec64a5",
   "metadata": {},
   "source": [
    "<b>QUESTION 9:</b>Write a Python program that reads a CSV file containing categorical data and converts a specified\n",
    "column to a categorical data type. The program should prompt the user to enter the file path, column\n",
    "name, and category order, and then display the sorted data.<br>\n",
    "<b>SOLUTION:</b><br>"
   ]
  },
  {
   "cell_type": "code",
   "execution_count": null,
   "id": "5d5f60d5-ea1c-4bd1-8a28-ca65dd299691",
   "metadata": {},
   "outputs": [],
   "source": [
    "# file = input('Enter the path of the csv file: ')\n",
    "column = input('Enter the name of the column to be converted to a categorical data type: ')\n",
    "\n",
    "df = pd.read_csv(r'{}'.format(file))\n",
    "df[column] = pd.Categorical(df[column])\n",
    "\n",
    "category_order = input('Enter order of categories separated by commas: ').split(',')\n",
    "df[column] = df[column].cat.reorder_categories(category_order)\n",
    "\n",
    "#sorted data\n",
    "df = df.sort_values(by=[column])"
   ]
  },
  {
   "cell_type": "code",
   "execution_count": null,
   "id": "06b41b5b",
   "metadata": {},
   "outputs": [],
   "source": []
  },
  {
   "cell_type": "markdown",
   "id": "783a5c4d-2ab3-482b-976c-b0dfa8a7a08f",
   "metadata": {},
   "source": [
    "<b>QUESTION 10:</b>Write a Python program that reads a CSV file containing sales data for different products and\n",
    "visualizes the data using a stacked bar chart to show the sales of each product category over time. The\n",
    "program should prompt the user to enter the file path and display the chart.<br>\n",
    "<b>SOLUTION:</b><br>"
   ]
  },
  {
   "cell_type": "code",
   "execution_count": null,
   "id": "f5fd5e15-f752-4c33-bed8-b37b4b23a4ef",
   "metadata": {},
   "outputs": [],
   "source": []
  },
  {
   "cell_type": "code",
   "execution_count": 124,
   "id": "f04d3abf-b0d3-45ef-8b38-fb95b6b92fba",
   "metadata": {},
   "outputs": [
    {
     "data": {
      "image/png": "[encoded data removed]",
      "text/plain": [
       "<Figure size 640x480 with 1 Axes>"
      ]
     },
     "metadata": {},
     "output_type": "display_data"
    }
   ],
   "source": [
    "import numpy as np\n",
    "\n",
    "n=200\n",
    "category = np.random.choice(['Home','Work'], size=n)\n",
    "start_date = pd.to_datetime('2023-02-01')\n",
    "end_date = pd.to_datetime('2023-02-15')\n",
    "date = pd.date_range(start_date, end_date, periods=n)\n",
    "quantity = np.random.randint(1,10, size=n)\n",
    "\n",
    "df = pd.DataFrame({\n",
    "    'date' : date,\n",
    "    'category': category,\n",
    "    'quantity' : quantity,\n",
    "})\n",
    "\n",
    "df['date'] = df['date'].dt.date\n",
    "df_grouped = df.groupby(['category','date']).sum().reset_index()\n",
    "df_pivot= df_grouped.pivot(index='date', columns='category', values='quantity')\n",
    "df_pivot.plot(kind='bar',\n",
    "            stacked=True)\n",
    "plt.legend(bbox_to_anchor=(1.3,1))\n",
    "plt.title('CATEGORY-WISE MONTHLY SALES DISTRIBUTION')\n",
    "plt.ylabel('Quantity')\n",
    "plt.xlabel('Date');"
   ]
  },
  {
   "cell_type": "code",
   "execution_count": null,
   "id": "ccf5fddf-25be-4d24-a388-50573a536df3",
   "metadata": {},
   "outputs": [],
   "source": []
  },
  {
   "cell_type": "markdown",
   "id": "9546edfc",
   "metadata": {},
   "source": [
    "<b>QUESTION 11:</b>Q11. You are given a CSV file containing student data that includes the student ID and their test score. Write\n",
    "a Python program that reads the CSV file, calculates the mean, median, and mode of the test scores, and\n",
    "displays the results in a table.<br>\n",
    "The program should do the following:<br>\n",
    "* Prompt the user to enter the file path of the CSV file containing the student dataR<br>\n",
    "* Read the CSV file into a Pandas DataFrameR<br>\n",
    "* Calculate the mean, median, and mode of the test scores using Pandas tools<br>\n",
    "* Display the mean, median, and mode in a table.<br>\n",
    "\n",
    "\n",
    "Assume the CSV file contains the following columns:<br>\n",
    "* Student ID: The ID of the studentR<br>\n",
    "* Test Score: The score of the student's test.<br>\n",
    "\n",
    "\n",
    "Example usage of the program:<br>\n",
    "Enter the file path of the CSV file containing the student data: student_data.csv<br>\n",
    "\n",
    "\n",
    "| Statistic | Value   |\n",
    "|-----------|---------|\n",
    "| Mean      | 79.6    |\n",
    "| Median    | 82      |\n",
    "| Mode      | 85, 90  |<br>\n",
    "\n",
    "\n"
   ]
  },
  {
   "cell_type": "markdown",
   "id": "c6fdcd8a",
   "metadata": {},
   "source": [
    "Assume that the CSV file student_data.csv contains the following data:<br>\n",
    "Student ID,Test Score<br>\n",
    "1,85<br>\n",
    "2,90<br>\n",
    "3,80<br>\n",
    "4,75<br>\n",
    "5,85<br>\n",
    "6,82<br>\n",
    "7,78<br>\n",
    "8,85<br>\n",
    "9,90<br>\n",
    "10,85<br>\n",
    "The program should calculate the mean, median, and mode of the test scores and display the results<br>\n",
    "<b>SOLUTION:</b><br>"
   ]
  },
  {
   "cell_type": "code",
   "execution_count": null,
   "id": "6c1303be",
   "metadata": {},
   "outputs": [],
   "source": [
    "import pandas as pd\n",
    "import csv\n",
    "\n",
    "path = input(\"Enter the path of the csv file: \")\n",
    "\n",
    "scores_df = pd.read_csv(path)\n",
    "\n",
    "mean = scores_df['Test Score'].mean()\n",
    "median = scores_df['Test Score'].median()\n",
    "mode = scores_df['Test Score'].mode().iat[0]\n",
    "\n",
    "\n",
    "result_df = pd.DataFrame({\n",
    "    'Statistic' : ['Mean','Median','Mode'],\n",
    "    'Value' : [mean,median,mode]\n",
    "})\n",
    "\n",
    "#setting Statistic column as the index\n",
    "result_df.set_index('Statistic',inplace=True)\n",
    "\n",
    "#converting the result df to markdown table\n",
    "result_table = result_df.to_markdown()\n",
    "\n",
    "print(result_table)"
   ]
  },
  {
   "cell_type": "markdown",
   "id": "2da7f981",
   "metadata": {},
   "source": [
    "### The code in the cells below shows how the program works"
   ]
  },
  {
   "cell_type": "code",
   "execution_count": null,
   "id": "eae51a4c",
   "metadata": {},
   "outputs": [],
   "source": [
    "#storing the student id and scores in a list\n",
    "\n",
    "data = [\n",
    "    ['Student ID','Test Score'],\n",
    "[1,85],\n",
    "[2,90],\n",
    "[3,80],\n",
    "[4,75],\n",
    "[5,85],\n",
    "[6,82],\n",
    "[7,78],\n",
    "[8,85],\n",
    "[9,90],\n",
    "[10,85]\n",
    "]\n",
    "\n",
    "#converting data into a pdf\n",
    "with open('wak.csv', 'w', newline='') as f:\n",
    "    writer = csv.writer(f)\n",
    "    \n",
    "    for row in data:\n",
    "        writer.writerow(row)"
   ]
  },
  {
   "cell_type": "code",
   "execution_count": null,
   "id": "3eacdea4",
   "metadata": {},
   "outputs": [],
   "source": [
    "#reading the csv\n",
    "scores_df = pd.read_csv('wak.csv')\n",
    "\n",
    "mean = scores_df['Test Score'].mean()\n",
    "median = round(scores_df['Test Score'].median())\n",
    "mode = scores_df['Test Score'].mode().iat[0]\n",
    "\n",
    "data = [mean,median,mode]\n",
    "\n",
    "result_df = pd.DataFrame({\n",
    "    'Statistic' : ['Mean','Median','Mode'],\n",
    "    'Value' : [mean,median,mode]\n",
    "})\n",
    "\n",
    "result_df.set_index('Statistic',inplace=True)\n",
    "print(result_df.to_markdown())\n",
    "\n"
   ]
  }
 ],
 "metadata": {
  "kernelspec": {
   "display_name": "Python 3 (ipykernel)",
   "language": "python",
   "name": "python3"
  },
  "language_info": {
   "codemirror_mode": {
    "name": "ipython",
    "version": 3
   },
   "file_extension": ".py",
   "mimetype": "text/x-python",
   "name": "python",
   "nbconvert_exporter": "python",
   "pygments_lexer": "ipython3",
   "version": "3.9.13"
  }
 },
 "nbformat": 4,
 "nbformat_minor": 5
}
