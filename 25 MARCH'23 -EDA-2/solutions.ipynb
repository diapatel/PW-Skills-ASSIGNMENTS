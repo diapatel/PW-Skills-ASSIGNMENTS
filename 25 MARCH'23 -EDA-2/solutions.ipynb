{
 "cells": [
  {
   "cell_type": "markdown",
   "id": "4a40c378-518b-437d-b7e9-b12f46a0b794",
   "metadata": {},
   "source": [
    "## FLIGHT DATA"
   ]
  },
  {
   "cell_type": "code",
   "execution_count": null,
   "id": "f2a5b1b8-719e-42d3-8463-17e5a08d3b2d",
   "metadata": {},
   "outputs": [],
   "source": [
    "import warnings\n",
    "warnings.simplefilter(action='ignore')"
   ]
  },
  {
   "cell_type": "markdown",
   "id": "fc526de9-48d0-42e4-9461-7a3a3ac94100",
   "metadata": {},
   "source": [
    "<b>QUESTION 1:</b>Load the flight price dataset and examine its dimensions. How many rows and columns does the dataset have?<br>\n",
    "<b>SOLUTION :</b>The flight price dataset has 10683 rows and 11 columns.<br>"
   ]
  },
  {
   "cell_type": "code",
   "execution_count": null,
   "id": "6069d755-bc74-4c36-aa09-a4d6670c0f26",
   "metadata": {},
   "outputs": [],
   "source": [
    "import pandas as pd\n",
    "\n",
    "flight_df = pd.read_excel('./flight_price.xlsx')\n",
    "flight_df.shape"
   ]
  },
  {
   "cell_type": "markdown",
   "id": "f6037b66-078d-4358-973c-56c46fa89364",
   "metadata": {},
   "source": [
    "<b>QUESTION 2:</b> What is the distribution of flight prices in the dataset? Create a histogram to visualize the\n",
    "distribution.<br>\n",
    "<b>SOLUTION :</b>The price dataset has a right-skewed distribution.\n",
    "Most of the prices are between 3000 and 20000 rupees and there are some outliers which can extend up to 70000 rupees.<br>"
   ]
  },
  {
   "cell_type": "code",
   "execution_count": null,
   "id": "71962ed3-b9da-4c66-8c29-03e39317cd7c",
   "metadata": {},
   "outputs": [],
   "source": [
    "import seaborn as sns\n",
    "import matplotlib.pyplot as plt\n",
    "\n",
    "flight_df.columns"
   ]
  },
  {
   "cell_type": "code",
   "execution_count": null,
   "id": "1520cb25-92e5-4d99-ba2f-4cf57661b599",
   "metadata": {},
   "outputs": [],
   "source": [
    "sns.histplot(data=flight_df, x='Price', bins=25, kde=True);"
   ]
  },
  {
   "cell_type": "code",
   "execution_count": null,
   "id": "e3f4dde7-e58f-4087-9037-7f221b64dcf9",
   "metadata": {},
   "outputs": [],
   "source": []
  },
  {
   "cell_type": "markdown",
   "id": "b4d888fc-ce97-48e6-889a-d2136e35b8bf",
   "metadata": {},
   "source": [
    "<b>QUESTION 3:</b>What is the range of prices in the dataset? What is the minimum and maximum price?<br>\n",
    "<b>SOLUTION :</b>The maximum price is 79512 rupees and the minimum price is 1759 rupees.<br>\n",
    "The range is 77753 rupees."
   ]
  },
  {
   "cell_type": "code",
   "execution_count": null,
   "id": "4da4259f-dd19-4d76-9223-8cf3043339fd",
   "metadata": {},
   "outputs": [],
   "source": [
    "flight_df['Price'].max(), flight_df['Price'].min()"
   ]
  },
  {
   "cell_type": "code",
   "execution_count": null,
   "id": "73efcd4d-e61c-4eac-bc9a-6272fba04f7f",
   "metadata": {},
   "outputs": [],
   "source": [
    "flight_df['Price'].max() - flight_df['Price'].min()"
   ]
  },
  {
   "cell_type": "code",
   "execution_count": null,
   "id": "3ec38861-ec19-4243-b6a4-c0087f9ffef6",
   "metadata": {},
   "outputs": [],
   "source": []
  },
  {
   "cell_type": "markdown",
   "id": "66b7fb66-4b4b-43e9-8571-4f33f92639d1",
   "metadata": {},
   "source": [
    "<b>QUESTION 4:</b>How does the price of flights vary by airline? Create a boxplot to compare the prices of different\n",
    "airlines.<br>\n",
    "<b>SOLUTION :</b>The price of Jet Airways business is the highest, which is around 58000 INR.<br>"
   ]
  },
  {
   "cell_type": "code",
   "execution_count": null,
   "id": "3789ea3e-951c-4022-83be-9b815185ea9f",
   "metadata": {},
   "outputs": [],
   "source": [
    "flight_df.groupby('Airline')['Price'].mean().plot(kind='bar');"
   ]
  },
  {
   "cell_type": "code",
   "execution_count": null,
   "id": "4ffcaac2-8fee-46ad-823e-08fbba7e078d",
   "metadata": {},
   "outputs": [],
   "source": [
    "sns.boxplot(data=flight_df, x='Airline', y='Price')\n",
    "plt.xticks(rotation=90);"
   ]
  },
  {
   "cell_type": "code",
   "execution_count": null,
   "id": "2229e802-0d1a-40a2-8640-591e63a81995",
   "metadata": {},
   "outputs": [],
   "source": []
  },
  {
   "cell_type": "code",
   "execution_count": null,
   "id": "b2b483f3-09a6-4d80-866c-d0e75cd22f99",
   "metadata": {},
   "outputs": [],
   "source": []
  },
  {
   "cell_type": "markdown",
   "id": "bbbc9531-83cf-4337-8d39-1cc2077a005d",
   "metadata": {},
   "source": [
    "<b>QUESTION 5:</b>Are there any outliers in the dataset? Identify any potential outliers using a boxplot and describe how\n",
    "they may impact your analysis.<br>\n",
    "<b>SOLUTION :</b>As is seen in the boxplot above, there are some outliers. <br>\n",
    "Outliers significantly impact mean and range calculations."
   ]
  },
  {
   "cell_type": "code",
   "execution_count": null,
   "id": "3526637c-8ee7-4b99-9162-47c5cbb03a42",
   "metadata": {},
   "outputs": [],
   "source": [
    "Q6. \n",
    "Q7. \n",
    "Q8."
   ]
  },
  {
   "cell_type": "markdown",
   "id": "8e8a8e39-afbf-4e10-aeca-998fcbc1caee",
   "metadata": {},
   "source": [
    "<b>QUESTION 6:</b>You are working for a travel agency, and your boss has asked you to analyze the Flight Price dataset\n",
    "to identify the peak travel season. What features would you analyze to identify the peak season, and how\n",
    "would you present your findings to your boss?<br>\n",
    "<b>SOLUTION :</b><br>"
   ]
  },
  {
   "cell_type": "code",
   "execution_count": null,
   "id": "c6a31b6b-5e06-429c-a0ad-b320786376e9",
   "metadata": {},
   "outputs": [],
   "source": [
    "flight_df.columns"
   ]
  },
  {
   "cell_type": "code",
   "execution_count": null,
   "id": "97139dcd-3df9-4f2d-8182-8489630c151e",
   "metadata": {},
   "outputs": [],
   "source": [
    "flight_df['Date_of_Journey']"
   ]
  },
  {
   "cell_type": "markdown",
   "id": "967ee859-b073-4860-8f8b-b91f9bcaafb6",
   "metadata": {},
   "source": [
    "We will separate the elements of date into date, month and year and convert them to numeric data type."
   ]
  },
  {
   "cell_type": "code",
   "execution_count": null,
   "id": "0f03fd6b-bf0b-44ef-8e17-be08c0b1780f",
   "metadata": {},
   "outputs": [],
   "source": [
    "flight_df['Date'] = pd.to_numeric(flight_df['Date_of_Journey'].str.split('/').str[0])\n",
    "flight_df['Month'] = pd.to_numeric(flight_df['Date_of_Journey'].str.split('/').str[1])\n",
    "flight_df['Year'] = pd.to_numeric(flight_df['Date_of_Journey'].str.split('/').str[2])"
   ]
  },
  {
   "cell_type": "code",
   "execution_count": null,
   "id": "dabed239-4a85-4849-a390-e25d12d55caa",
   "metadata": {},
   "outputs": [],
   "source": [
    "flight_df.groupby('Month')['Price'].sum().plot(kind='barh');"
   ]
  },
  {
   "cell_type": "markdown",
   "id": "076d1ebb-1a33-4a67-927f-47c05cacea38",
   "metadata": {},
   "source": [
    "This shows us that maximum amount of money was spent of flight tickets in the 5th month,i.e. May and months 6 and 3, i.e. June and March closely follow.<br>\n",
    "\n",
    "Likely reasons for this:\n",
    "* Indian schools have summer break in May and June, so this is when majority of the families travel for vacation.\n",
    "* March is usually the month when academic years in most CBSE schools end so this is also a scenario where a large number of families might travel"
   ]
  },
  {
   "cell_type": "code",
   "execution_count": null,
   "id": "024049c9-f225-4133-abeb-c8f90ac54f48",
   "metadata": {},
   "outputs": [],
   "source": []
  },
  {
   "cell_type": "code",
   "execution_count": null,
   "id": "b1f6fff1-ac13-4f1c-91c5-7d43f0964569",
   "metadata": {},
   "outputs": [],
   "source": []
  },
  {
   "cell_type": "markdown",
   "id": "2c6b130e-4752-4cc3-8a6c-edc15a0e345b",
   "metadata": {},
   "source": [
    "<b>QUESTION 7:</b>You are a data analyst for a flight booking website, and you have been asked to analyze the Flight\n",
    "Price dataset to identify any trends in flight prices. What features would you analyze to identify these\n",
    "trends, and what visualizations would you use to present your findings to your team?<br>\n",
    "<b>SOLUTION :</b><br>"
   ]
  },
  {
   "cell_type": "code",
   "execution_count": null,
   "id": "946998ab-8042-4afc-bb5b-84dbe47e6fe1",
   "metadata": {},
   "outputs": [],
   "source": [
    "flight_df.groupby('Month')['Price'].mean().plot()\n",
    "plt.title('AVERAGE FLIGHT PRICE v/s MONTH');"
   ]
  },
  {
   "cell_type": "markdown",
   "id": "52f70995-279a-436f-b3e4-9b6280bd6d9c",
   "metadata": {},
   "source": [
    "##### OBSERVATIONS:\n",
    "* The flight prices are the highest in March and then drop steeply to reach their minimum value in April.\n",
    "* The prices start rising again, reach their peak in May and then start declining slightly as we proceed towards June"
   ]
  },
  {
   "cell_type": "code",
   "execution_count": null,
   "id": "a88acef5-1ea7-4a91-bfc8-055352d22d4a",
   "metadata": {},
   "outputs": [],
   "source": []
  },
  {
   "cell_type": "code",
   "execution_count": null,
   "id": "fc5bb676-c979-40ab-a0e1-33c09a7b26ba",
   "metadata": {},
   "outputs": [],
   "source": [
    "flight_df.columns"
   ]
  },
  {
   "cell_type": "code",
   "execution_count": null,
   "id": "b1db94e7-357d-4764-8246-8bada0925619",
   "metadata": {},
   "outputs": [],
   "source": [
    "#SOURCE\n",
    "flight_df.groupby('Source')['Price'].mean().plot(kind='barh')\n",
    "plt.title('AVERAGE PRICE BY SOURCE');"
   ]
  },
  {
   "cell_type": "markdown",
   "id": "68771dcf-f1c7-4d12-86c7-658f2897614d",
   "metadata": {},
   "source": [
    "In general, average ticket prices are high in Delhi, Kolkata and Banagalore. This makes sense because these are megacities and business hubs."
   ]
  },
  {
   "cell_type": "code",
   "execution_count": null,
   "id": "d2b122e5-c58f-47dc-ac6d-1ed49e73c3a0",
   "metadata": {},
   "outputs": [],
   "source": []
  },
  {
   "cell_type": "code",
   "execution_count": null,
   "id": "a9e319bd-1adc-448b-9dd4-b66a7e900597",
   "metadata": {},
   "outputs": [],
   "source": []
  },
  {
   "cell_type": "markdown",
   "id": "3daa1d07-4cb4-4fc5-83d6-f76aac89e7e1",
   "metadata": {},
   "source": [
    "<b>QUESTION 8:</b> You are a data scientist working for an airline company, and you have been asked to analyze the\n",
    "Flight Price dataset to identify the factors that affect flight prices. What features would you analyze to\n",
    "identify these factors, and how would you present your findings to the management team?<br>\n",
    "<b>SOLUTION :</b>Some of the factors that might affect flight prices are:\n",
    "* airline\n",
    "* duration\n",
    "* number of stops\n",
    "* month of travel<br>"
   ]
  },
  {
   "cell_type": "code",
   "execution_count": null,
   "id": "2f16480b-76df-4ddd-a724-d5a4c3e7c1c0",
   "metadata": {},
   "outputs": [],
   "source": [
    "cleaned_df = pd.read_csv('./cleaned_flightdata.csv')"
   ]
  },
  {
   "cell_type": "markdown",
   "id": "195707e8-145f-4bbe-8c48-64ccf2ca44a3",
   "metadata": {},
   "source": [
    "##### MONTH-WISE FLIGHT PRICE"
   ]
  },
  {
   "cell_type": "code",
   "execution_count": null,
   "id": "ac01220c-7819-4805-85a1-0c6239b066f7",
   "metadata": {},
   "outputs": [],
   "source": [
    "cleaned_df.groupby('Month')['Price'].mean().plot(kind='barh')\n",
    "plt.title('MONTH-WISE AVERAGE PRICE');"
   ]
  },
  {
   "cell_type": "markdown",
   "id": "91763ae1-9d2a-48c3-959b-d6ec4cfaee25",
   "metadata": {},
   "source": [
    "We see that on an average, flight prices tend to be the highest in March."
   ]
  },
  {
   "cell_type": "markdown",
   "id": "5a82fa9f-157a-4b40-8ab1-accb2aecf770",
   "metadata": {},
   "source": [
    "#### AIRLINE"
   ]
  },
  {
   "cell_type": "code",
   "execution_count": null,
   "id": "ccb54462-04fe-41a5-a44a-759f1f117683",
   "metadata": {},
   "outputs": [],
   "source": [
    "cleaned_df.groupby('Airline')['Price'].mean().plot(kind='barh');"
   ]
  },
  {
   "cell_type": "markdown",
   "id": "46779ba9-dc66-4195-8232-96f860c4841e",
   "metadata": {},
   "source": [
    "Let's temporarily drop Jet airways business."
   ]
  },
  {
   "cell_type": "code",
   "execution_count": null,
   "id": "498c3c7d-ae93-46bf-aa17-ecc0b78301f2",
   "metadata": {},
   "outputs": [],
   "source": [
    "new_df = cleaned_df.drop(jet_business.index, axis=0)"
   ]
  },
  {
   "cell_type": "code",
   "execution_count": null,
   "id": "a327a952-f203-4910-a27f-6f8613cdcba7",
   "metadata": {},
   "outputs": [],
   "source": [
    "jet_business = cleaned_df[cleaned_df['Airline'] == 'Jet Airways Business']"
   ]
  },
  {
   "cell_type": "code",
   "execution_count": null,
   "id": "2bfa4db2-14a2-41d0-bb1b-e81b3d964ea3",
   "metadata": {},
   "outputs": [],
   "source": [
    "new_df.groupby('Airline')['Price'].mean().plot(kind='barh')\n",
    "plt.title('COMPANY-WISE AVERAGE PRICE');"
   ]
  },
  {
   "cell_type": "markdown",
   "id": "2636a10f-6e80-4c59-8914-018209d49a6d",
   "metadata": {},
   "source": [
    "We see that a few records of Jet Airways business were outliers.\n",
    "* For majority of the data, <b>Multiple carriers Premium Economy</b> and  <b>Jet Airways</b> have the highest average flight price."
   ]
  },
  {
   "cell_type": "code",
   "execution_count": null,
   "id": "bd085bd7-455d-4a1c-8187-9b6e0e1cd82d",
   "metadata": {},
   "outputs": [],
   "source": []
  },
  {
   "cell_type": "markdown",
   "id": "baf8ebde-3952-4d2b-94df-b213147a219c",
   "metadata": {},
   "source": [
    "# GOOGLE PLAY STORE DATASET"
   ]
  },
  {
   "cell_type": "code",
   "execution_count": null,
   "id": "899ad2c9-f29b-4640-a451-d98195ccc957",
   "metadata": {},
   "outputs": [],
   "source": []
  },
  {
   "cell_type": "markdown",
   "id": "a2993674-8ccf-4eec-b4b1-284836f1e547",
   "metadata": {},
   "source": [
    "<b>QUESTION 9:</b> Load the Google Playstore dataset and examine its dimensions. How many rows and columns does\n",
    "the dataset have?<br>\n",
    "<b>SOLUTION :</b>It has 10841 rows and 13 columns.<br>"
   ]
  },
  {
   "cell_type": "code",
   "execution_count": null,
   "id": "f8692547-da87-424c-a950-cb9e885274bf",
   "metadata": {},
   "outputs": [],
   "source": [
    "google_df = pd.read_csv('./cleaned_playstoredata.csv')"
   ]
  },
  {
   "cell_type": "code",
   "execution_count": null,
   "id": "878d8b4a-7ccd-492f-b3d0-fbb64299f710",
   "metadata": {},
   "outputs": [],
   "source": [
    "google_df.shape"
   ]
  },
  {
   "cell_type": "code",
   "execution_count": null,
   "id": "f2ddf6f9-a589-4a12-b156-ede4487f6d56",
   "metadata": {},
   "outputs": [],
   "source": [
    "google_df.columns"
   ]
  },
  {
   "cell_type": "code",
   "execution_count": null,
   "id": "5ae41fcd-3091-46fb-871b-78e879444623",
   "metadata": {},
   "outputs": [],
   "source": []
  },
  {
   "cell_type": "markdown",
   "id": "69e79740-cf4a-4c0e-881c-318d6d445cd0",
   "metadata": {},
   "source": [
    "<b>QUESTION 10:</b>How does the rating of apps vary by category? Create a boxplot to compare the ratings of different\n",
    "app categories.<br>\n",
    "<b>SOLUTION :</b>The following code cell shows the average rating of each category. It seems that each category has an average rating of approximately 4.<br>"
   ]
  },
  {
   "cell_type": "code",
   "execution_count": null,
   "id": "18ba9274-11b0-43b8-bd61-f8580ee7081e",
   "metadata": {},
   "outputs": [],
   "source": [
    "google_df.groupby('Category')['Rating'].mean()"
   ]
  },
  {
   "cell_type": "code",
   "execution_count": null,
   "id": "f82582fb-c6fb-4391-8dc2-67abbbab5564",
   "metadata": {},
   "outputs": [],
   "source": [
    "google_df['Category'].unique()"
   ]
  },
  {
   "cell_type": "code",
   "execution_count": null,
   "id": "7db25946-dee6-43db-8cc1-470d3fa00392",
   "metadata": {},
   "outputs": [],
   "source": [
    "sns.boxplot(data=google_df, x='Category', y='Rating')\n",
    "plt.xticks(rotation=90);"
   ]
  },
  {
   "cell_type": "code",
   "execution_count": null,
   "id": "38257e7a-1e41-4225-a552-128ac21dbe6b",
   "metadata": {},
   "outputs": [],
   "source": []
  },
  {
   "cell_type": "code",
   "execution_count": null,
   "id": "78055e9c-72b3-4120-937c-12b3021699ad",
   "metadata": {},
   "outputs": [],
   "source": []
  },
  {
   "cell_type": "markdown",
   "id": "818eff67-467b-46ef-8c3c-d4760aa2b719",
   "metadata": {},
   "source": [
    "<b>QUESTION 11:</b>Are there any missing values in the dataset? Identify any missing values and describe how they may\n",
    "impact your analysis.<br>\n",
    "<b>SOLUTION :</b>There are 1474 null values in the Rating column. Missing column can significantly affect our analysis and generate unreliable results and predictions.<br>"
   ]
  },
  {
   "cell_type": "code",
   "execution_count": null,
   "id": "a8b50b50-288c-4252-93e9-2f34f6457bad",
   "metadata": {},
   "outputs": [],
   "source": [
    "google_df.isnull().sum()"
   ]
  },
  {
   "cell_type": "code",
   "execution_count": null,
   "id": "ff179b96-f816-4353-a841-8d77e5e2162d",
   "metadata": {},
   "outputs": [],
   "source": []
  },
  {
   "cell_type": "markdown",
   "id": "be0bd7b7-71cc-499b-9bd2-ab3bdd30bdc2",
   "metadata": {},
   "source": [
    "<b>QUESTION 12:</b>What is the relationship between the size of an app and its rating? Create a scatter plot to visualize\n",
    "the relationship.<br>\n",
    "<b>SOLUTION :</b>As we can see from the scatterplot, there is no explicit relation between size of an app and its rating. For some apps, even when they are smaller in size, they have a high rating.<br>"
   ]
  },
  {
   "cell_type": "code",
   "execution_count": null,
   "id": "faa35db3-a3cf-46b3-b0ea-a511cbc2180b",
   "metadata": {},
   "outputs": [],
   "source": [
    "import seaborn as sns"
   ]
  },
  {
   "cell_type": "code",
   "execution_count": null,
   "id": "61f24082-c14a-4c3b-ab3d-63fb906d3b82",
   "metadata": {},
   "outputs": [],
   "source": [
    "sns.scatterplot(data=google_df, x='size_cleaned', y='Rating')\n",
    "plt.title('SIZE OF AN APP V/S RATING');"
   ]
  },
  {
   "cell_type": "code",
   "execution_count": null,
   "id": "98400bef-7c5c-4673-979a-a50d9f56b0f8",
   "metadata": {},
   "outputs": [],
   "source": []
  },
  {
   "cell_type": "markdown",
   "id": "c2d3148c-3c52-4b9b-98fd-16aaac041b81",
   "metadata": {},
   "source": [
    "<b>QUESTION 13:</b>How does the type of app affect its price? Create a bar chart to compare average prices by app type.<br>\n",
    "<b>SOLUTION :</b><br>"
   ]
  },
  {
   "cell_type": "code",
   "execution_count": null,
   "id": "5aa96105-287d-499e-b1d2-a4325ac14d7a",
   "metadata": {},
   "outputs": [],
   "source": [
    "google_df['Price'] = pd.to_numeric(google_df['Price'].str.replace('$',''))"
   ]
  },
  {
   "cell_type": "code",
   "execution_count": null,
   "id": "189a1ea9-201a-460e-a8d7-d6857860605b",
   "metadata": {},
   "outputs": [],
   "source": [
    "google_df.groupby('Category')['Price'].mean().plot(kind='bar')\n",
    "plt.title('AVERAGE PRICE BY CATEGORY');"
   ]
  },
  {
   "cell_type": "markdown",
   "id": "5b44fb80-e669-4a2c-b714-6e8883855bbd",
   "metadata": {},
   "source": [
    "This shows that the apps in the Finance category have the highest average price, followed by Lifestyle and Medical.\n",
    "* This makes practical sense because finance, medical and lifestyle are the kind of services for which people are willing to pay money and hence even if they  are priced high,  they will be used by their target consumers."
   ]
  },
  {
   "cell_type": "code",
   "execution_count": null,
   "id": "86109bcc-1469-485c-bdc1-ec375443a8c4",
   "metadata": {},
   "outputs": [],
   "source": []
  },
  {
   "cell_type": "markdown",
   "id": "66aa5af2-2725-4cbe-badb-98727972ba01",
   "metadata": {},
   "source": [
    "<b>QUESTION 14:</b>What are the top 10 most popular apps in the dataset? Create a frequency table to identify the apps\n",
    "with the highest number of installs.<br>\n",
    "<b>SOLUTION :</b><br>"
   ]
  },
  {
   "cell_type": "code",
   "execution_count": null,
   "id": "92f9f636-50d6-4256-a3c9-36853b4147ce",
   "metadata": {},
   "outputs": [],
   "source": [
    "google_df[['App','installs_cleaned']].sort_values(by='installs_cleaned',ascending=False).head(10)"
   ]
  },
  {
   "cell_type": "markdown",
   "id": "449af7fd-3dbb-40b6-87eb-10d2951618ce",
   "metadata": {},
   "source": [
    "We can see that the top 10 most popular apps all have around 1 billion installs."
   ]
  },
  {
   "cell_type": "code",
   "execution_count": null,
   "id": "0141f39e-89c1-42a3-b6d3-d4dfb7a5ee98",
   "metadata": {},
   "outputs": [],
   "source": []
  },
  {
   "cell_type": "markdown",
   "id": "e787e6c8-0103-4ce6-80fb-f6dd8b4807dc",
   "metadata": {
    "tags": []
   },
   "source": [
    "<b>QUESTION 15:</b>A company wants to launch a new app on the Google Playstore and has asked you to analyze the\n",
    "Google Playstore dataset to identify the most popular app categories. How would you approach this\n",
    "task, and what features would you analyze to make recommendations to the company?<br>\n",
    "<b>SOLUTION :</b><br>"
   ]
  },
  {
   "cell_type": "code",
   "execution_count": null,
   "id": "51dbfa7c-ace2-4db8-a6da-ae69e729955e",
   "metadata": {},
   "outputs": [],
   "source": [
    "google_df.groupby('Category')['installs_cleaned'].mean().sort_values(ascending=False).head(10).plot(kind='barh')\n",
    "plt.title('AVERAGE INSTALLS PER CATEGORY');"
   ]
  },
  {
   "cell_type": "markdown",
   "id": "28cac2c2-4a9a-48ef-942d-0c3d95931b10",
   "metadata": {},
   "source": [
    "The topmost category is Game with  over 30 million average installations on the google play store.<br>\n",
    "Other popular categories are News and magazines , communication and photography. \n",
    "So we should target these categories."
   ]
  },
  {
   "cell_type": "code",
   "execution_count": null,
   "id": "a6cd60bd-5ec6-4137-9250-863d8c050f4d",
   "metadata": {},
   "outputs": [],
   "source": []
  },
  {
   "cell_type": "markdown",
   "id": "f8839dc4-f502-4969-9461-9aca59afe6ac",
   "metadata": {},
   "source": [
    "<b>QUESTION 16:</b>A mobile app development company wants to analyze the Google Playstore dataset to identify the\n",
    "most successful app developers. What features would you analyze to make recommendations to the\n",
    "company, and what data visualizations would you use to present your findings?<br>\n",
    "<b>SOLUTION :</b>We do not have any information about the app developing companies in our dataset so , this question cannot be answered.<br>\n",
    "If we had the data of the app development companies for the apps in our dataset, we would have been able to sort it to find out the top app developers."
   ]
  },
  {
   "cell_type": "code",
   "execution_count": null,
   "id": "ce77572c-e45b-4af6-b49e-61153f267f92",
   "metadata": {},
   "outputs": [],
   "source": []
  },
  {
   "cell_type": "code",
   "execution_count": null,
   "id": "758ade1d-548c-4cf8-9798-0871b58629e2",
   "metadata": {},
   "outputs": [],
   "source": []
  },
  {
   "cell_type": "markdown",
   "id": "8253c2f2-c50a-47e3-9ea5-0716d4f631ae",
   "metadata": {},
   "source": [
    "<b>QUESTION 17:</b> A marketing research firm wants to analyze the Google Playstore dataset to identify the best time to\n",
    "launch a new app. What features would you analyze to make recommendations to the company, and\n",
    "what data visualizations would you use to present your findings?<br>\n",
    "<b>SOLUTION :</b> To answer this question, we need to know when the apps in our dataset were launched in the market. From this , we can see the trends by visualising the number of installs and the month of the launch of the app. <br>\n",
    "But, generally speaking, the best time of launching an app is between December and Februrary, however, this depends on the category of the app and what service it is providing."
   ]
  },
  {
   "cell_type": "code",
   "execution_count": null,
   "id": "a94a3136-48dd-45ee-a611-d6f74866738f",
   "metadata": {},
   "outputs": [],
   "source": [
    "google_df.columns"
   ]
  },
  {
   "cell_type": "code",
   "execution_count": null,
   "id": "ed98b3f5-9b33-47d6-8a85-d66465fb6e8d",
   "metadata": {},
   "outputs": [],
   "source": []
  },
  {
   "cell_type": "code",
   "execution_count": null,
   "id": "3c7384a1-6501-4ecf-b0bd-a689dd3de2fb",
   "metadata": {},
   "outputs": [],
   "source": []
  }
 ],
 "metadata": {
  "kernelspec": {
   "display_name": "Python 3 (ipykernel)",
   "language": "python",
   "name": "python3"
  },
  "language_info": {
   "codemirror_mode": {
    "name": "ipython",
    "version": 3
   },
   "file_extension": ".py",
   "mimetype": "text/x-python",
   "name": "python",
   "nbconvert_exporter": "python",
   "pygments_lexer": "ipython3",
   "version": "3.9.13"
  }
 },
 "nbformat": 4,
 "nbformat_minor": 5
}
