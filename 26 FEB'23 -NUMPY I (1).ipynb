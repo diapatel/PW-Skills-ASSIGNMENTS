{
 "cells": [
  {
   "cell_type": "markdown",
   "id": "f284ae1a",
   "metadata": {},
   "source": [
    "Consider the below code to answer further questions:"
   ]
  },
  {
   "cell_type": "code",
   "execution_count": null,
   "id": "77bd7d22",
   "metadata": {},
   "outputs": [],
   "source": [
    "import numpy as np\n",
    "list_ = [ '1' , '2' , '3' , '4' , '5' ]\n",
    "array_list = np.array(object = list_)"
   ]
  },
  {
   "cell_type": "markdown",
   "id": "bce99a2f",
   "metadata": {},
   "source": [
    "<b>QUESTION 1:</b>Is there any difference in the data type of variables list_ and array_list? If there is then write a code to print the data types of both the variables.<br>\n",
    "<b>SOLUTION: </b><br>\n",
    "Yes. The data type of the variable 'list_' is list whereas the datatype of 'array_list' is numpy array."
   ]
  },
  {
   "cell_type": "code",
   "execution_count": null,
   "id": "b8b67291",
   "metadata": {},
   "outputs": [],
   "source": [
    "print(f\"datatype of list_: {type(list_)}\")\n",
    "print(f\"datatype of array_list: {type(array_list)}\")"
   ]
  },
  {
   "cell_type": "code",
   "execution_count": null,
   "id": "91e76c96",
   "metadata": {},
   "outputs": [],
   "source": []
  },
  {
   "cell_type": "markdown",
   "id": "3fb61455",
   "metadata": {},
   "source": [
    "<b>QUESTION 2:</b>Write a code to print the data type of each and every element of both the variables list_ and arra_list.<br>\n",
    "<b>SOLUTION: </b><br>"
   ]
  },
  {
   "cell_type": "code",
   "execution_count": null,
   "id": "c8d8f5da",
   "metadata": {},
   "outputs": [],
   "source": [
    "print(\"Data type of each element of list_:\")\n",
    "for element in list_:\n",
    "    print(type(element))\n",
    "\n",
    "print('--------------')\n",
    "\n",
    "print(\"Datatype of each element of the variable array_list: \")\n",
    "for element in array_list:\n",
    "    print(type(element))"
   ]
  },
  {
   "cell_type": "code",
   "execution_count": null,
   "id": "46b4802e",
   "metadata": {},
   "outputs": [],
   "source": []
  },
  {
   "cell_type": "markdown",
   "id": "4e3a67e0",
   "metadata": {},
   "source": [
    "Considering the following changes in the variable, array_list:"
   ]
  },
  {
   "cell_type": "code",
   "execution_count": null,
   "id": "b2e27f3f",
   "metadata": {},
   "outputs": [],
   "source": [
    "array_list = np.array(object = list_, dtype = int)"
   ]
  },
  {
   "cell_type": "markdown",
   "id": "4456d7d3",
   "metadata": {},
   "source": [
    "<b>QUESTION 3:</b>Will there be any difference in the data type of the elements present in both the variables, list_ and array_list? If so then print the data types of each and every element present in both the variables, list_ and array_list.<br>\n",
    "<b>SOLUTION: </b><br>\n",
    "Yes. After the changes made in the array_list, the datatype of the elements in the array_list is now numpy integer whereas the datatype of elements in the variable list_ remains the same,i.e., string."
   ]
  },
  {
   "cell_type": "code",
   "execution_count": null,
   "id": "fce27e9f",
   "metadata": {},
   "outputs": [],
   "source": [
    "print(\"Data type of each element of list_:\")\n",
    "for element in list_:\n",
    "    print(type(element))\n",
    "\n",
    "print('--------------')\n",
    "\n",
    "print(\"Datatype of each element of the variable array_list: \")\n",
    "for element in array_list:\n",
    "    print(type(element))"
   ]
  },
  {
   "cell_type": "code",
   "execution_count": null,
   "id": "396ec73a",
   "metadata": {},
   "outputs": [],
   "source": []
  },
  {
   "cell_type": "markdown",
   "id": "b4d2272f",
   "metadata": {},
   "source": [
    "Consider the below code to answer further questions:"
   ]
  },
  {
   "cell_type": "code",
   "execution_count": null,
   "id": "388fe784",
   "metadata": {},
   "outputs": [],
   "source": [
    "import numpy as np\n",
    "num_list = [ [ 1 , 2 , 3 ] , [ 4 , 5 , 6 ] ]\n",
    "num_array = np.array(object = num_list)"
   ]
  },
  {
   "cell_type": "markdown",
   "id": "cb5417c1",
   "metadata": {},
   "source": [
    "<b>QUESTION 4:</b>Write a code to find the following characteristics of variable, num_array:<br>\n",
    "(i) shape<br>\n",
    "(ii) size<br>\n",
    "<b>SOLUTION: </b><br>"
   ]
  },
  {
   "cell_type": "code",
   "execution_count": null,
   "id": "20cf812b",
   "metadata": {},
   "outputs": [],
   "source": [
    "print(f\"shape of num_array is: {num_array.shape}\")\n",
    "print(f\"size of num_array is: {num_array.size}\")"
   ]
  },
  {
   "cell_type": "code",
   "execution_count": null,
   "id": "b71e6e2f",
   "metadata": {},
   "outputs": [],
   "source": []
  },
  {
   "cell_type": "markdown",
   "id": "beeb17a7",
   "metadata": {},
   "source": [
    "<b>QUESTION 5:</b> Write a code to create numpy array of 3*3 matrix containing zeros only, using a numpy array\n",
    "creation function.<br>\n",
    "[Hint: The size of the array will be 9 and the shape will be (3,3).]<br>\n",
    "<b>SOLUTION: </b><br>"
   ]
  },
  {
   "cell_type": "code",
   "execution_count": null,
   "id": "dd314b6d",
   "metadata": {},
   "outputs": [],
   "source": [
    "zero_array = np.zeros((3,3))\n",
    "zero_array"
   ]
  },
  {
   "cell_type": "code",
   "execution_count": null,
   "id": "9a702161",
   "metadata": {},
   "outputs": [],
   "source": []
  },
  {
   "cell_type": "markdown",
   "id": "49acee66",
   "metadata": {},
   "source": [
    "<b>QUESTION 6:</b><br> Create an identity matrix of shape (5,5) using numpy functions?<br>\n",
    "[Hint: An identity matrix is a matrix containing 1 diagonally and other elements will be 0.]<br>\n",
    "<b>SOLUTION: </b>"
   ]
  },
  {
   "cell_type": "code",
   "execution_count": null,
   "id": "d20917e6",
   "metadata": {},
   "outputs": [],
   "source": [
    "identity_matrix = np.identity(5)\n",
    "identity_matrix"
   ]
  },
  {
   "cell_type": "code",
   "execution_count": null,
   "id": "b1b5a42e",
   "metadata": {},
   "outputs": [],
   "source": []
  },
  {
   "cell_type": "code",
   "execution_count": null,
   "id": "78f1aa93",
   "metadata": {},
   "outputs": [],
   "source": []
  }
 ],
 "metadata": {
  "kernelspec": {
   "display_name": "Python 3 (ipykernel)",
   "language": "python",
   "name": "python3"
  },
  "language_info": {
   "codemirror_mode": {
    "name": "ipython",
    "version": 3
   },
   "file_extension": ".py",
   "mimetype": "text/x-python",
   "name": "python",
   "nbconvert_exporter": "python",
   "pygments_lexer": "ipython3",
   "version": "3.9.13"
  }
 },
 "nbformat": 4,
 "nbformat_minor": 5
}
