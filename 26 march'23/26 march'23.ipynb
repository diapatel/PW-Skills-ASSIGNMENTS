{
 "cells": [
  {
   "cell_type": "markdown",
   "id": "35c81a62-7c55-408b-b4d5-57342a4acaa6",
   "metadata": {},
   "source": [
    "<b>QUESTION 1:</b>Explain the difference between simple linear regression and multiple linear regression. Provide an\n",
    "example of each.<Br>\n",
    "<b>SOLUTION: </b>\n",
    "* Linear Regression is the most common form of Regression, which is used to predict the value of a numerical(continuous) response variable based on one or more predictor variables.\n",
    "* Simple Linear Regression is a type of Linear Regression where there is only one input value or one predictor variable and one output or one response variable.\n",
    "EXAMPLE: When we have a diabetes dataset with  the person's glucose level as the predictor or input variable and their glycosylated haemoglobin level as the response variable , it is a case of simple linear regression.<br>\n",
    "* Multiple Linear Regression has multiple input columns or predictor variables and one response variable or output column.<br>\n",
    "EXAMPLE: In house prediction dataset, we can have multipel input variables like number of bedrooms, squarefeet area of the house, number of washrooms, number of floors in the house, utilities provided, furnishing status ,etc, and the response variable is the price of the house.\n",
    "                                                                                                                             "
   ]
  },
  {
   "cell_type": "code",
   "execution_count": null,
   "id": "a1493c99-0a0e-4702-9fb2-56879faf9597",
   "metadata": {},
   "outputs": [],
   "source": []
  },
  {
   "cell_type": "code",
   "execution_count": null,
   "id": "51088694-1ca9-444e-b97a-40f705f4f2d8",
   "metadata": {},
   "outputs": [],
   "source": []
  },
  {
   "cell_type": "markdown",
   "id": "bb58b3f7-83db-4a53-8aa6-c8876b1bf5fa",
   "metadata": {},
   "source": [
    "<b>QUESTION 2:</b>Discuss the assumptions of linear regression. How can you check if these assumptions hold in a given dataset?<Br>\n",
    "<b>SOLUTION: </b>\n",
    "1. There should be  a linear relationship between each input variable and the output or target variable.\n",
    "    HOW TO CHECK : plot a scatterplot between each input variable and the output variable.\n",
    "    \n",
    "2. There should be no multicollinearity. each of the input variables should be independent of each other.\n",
    "    HOW TO CHECK: We can use the variance inflation factor function of statsmodels to check this. if the value of the variance inflation factor is near 1 then, we're good to go, else there is a multicollinearity.\n",
    "   \n",
    "3. NORMALLY DISTRIBUTED RESIDUALS: the residuals or the errors should be normally distributed.\n",
    "    HOW TO CHECK: plot a kde for the residuals.\n",
    "\n",
    "4. HOMOSCEDASTICITY: When a scatterplot is plotted with the predicted y values on the x-axis and the residual values at the y-axis, the distribution should be uniform. \n",
    "    HOW TO CHECK: plot a scatterplot.\n",
    "    \n",
    "5. AUTOCORRELATION: There should not be any kind of pattern that the distribution of residuals should follow. \n",
    "    HOW TO CHECK: plot a line graph for the residuals  adn we should get a zig-zag pattern."
   ]
  },
  {
   "cell_type": "code",
   "execution_count": null,
   "id": "865da8b8-9498-4a79-8a30-076ed7cea81c",
   "metadata": {},
   "outputs": [],
   "source": []
  },
  {
   "cell_type": "markdown",
   "id": "0d59d562-6e96-4f23-a010-8898cb1c6d63",
   "metadata": {},
   "source": [
    "<b>QUESTION 3:</b>How do you interpret the slope and intercept in a linear regression model? Provide an example using\n",
    "a real-world scenario.<Br>\n",
    "<b>SOLUTION: </b>\n",
    "* Slope implies the coefficient of the input variable.\n",
    "* Intercept implies the bias.<br>"
   ]
  },
  {
   "cell_type": "code",
   "execution_count": null,
   "id": "a7b51bc0-0710-4679-b643-fce27f329c2f",
   "metadata": {},
   "outputs": [],
   "source": []
  },
  {
   "cell_type": "code",
   "execution_count": null,
   "id": "7492dc69-9bef-42f2-a88b-e89990294b9f",
   "metadata": {},
   "outputs": [],
   "source": []
  },
  {
   "cell_type": "markdown",
   "id": "b278b43e-f32e-4b3a-9dc2-cbd15868127d",
   "metadata": {},
   "source": [
    "<b>QUESTION 4:</b>Explain the concept of gradient descent. How is it used in machine learning?<Br>\n",
    "<b>SOLUTION: </b>\n",
    "* A gradient measures how much the output of a function changes when you change the inputs a little bit.\n",
    "* Gradient descent is an optimization algorithm which is used to find the local minimum of a differentiable function.\n",
    "* Gradient descent is used in ML to find the values of the coefficients or parameters of functions to minimize the cost or loss function as much as possible.\n",
    "* a gradient can be thought of as a slope of a function. higher the gradient, steeper is the slope and faster the model will learn. if the slope becomes zero, the model stops learning.<br>"
   ]
  },
  {
   "cell_type": "markdown",
   "id": "27966e3c-b120-4b5f-a3cf-71e9f8caaddf",
   "metadata": {},
   "source": []
  },
  {
   "cell_type": "markdown",
   "id": "d3404156-90f2-46f2-b3fe-3e0d5eddb2e0",
   "metadata": {},
   "source": [
    "<b>QUESTION 5:</b> Describe the multiple linear regression model. How does it differ from simple linear regression?<Br>\n",
    "<b>SOLUTION: </b>\n",
    "* Multiple Linear Regression is a form of Linear Regression which has multiple input variables or predictor columns and one target or response variable.<br>\n",
    "* it is different from simple linear regression because simple linear regression only has one input column."
   ]
  },
  {
   "cell_type": "code",
   "execution_count": null,
   "id": "52756e6e-2c81-4eab-99e9-e882e898e7ab",
   "metadata": {},
   "outputs": [],
   "source": []
  },
  {
   "cell_type": "code",
   "execution_count": null,
   "id": "2b4b87d9-4b35-434f-95b1-efe6e6e12ae0",
   "metadata": {},
   "outputs": [],
   "source": []
  },
  {
   "cell_type": "markdown",
   "id": "2dcc0fd4-3e35-46b7-8dd6-2e88c52dad04",
   "metadata": {},
   "source": [
    "<b>QUESTION 6:</b>Explain the concept of multicollinearity in multiple linear regression. How can you detect and\n",
    "address this issue?<Br>\n",
    "<b>SOLUTION: </b>\n",
    "* Multicollinearity basically means that the input variables are dependent on each other. This is not desirable in Linear Regression because this will lead to inaccurate prediction of the values of slope(bias or β) for the dependent variables.<br>\n",
    "* we can detect it by plotting a heatmap and looking at the correlation between various input columns or we can use variance inflation factor to check this.\n",
    "* to fix multicollinearity, we can either the drop the columns/variables that have a high VIF value or combine the variables with high VIF values using some logic or domain knowledge."
   ]
  },
  {
   "cell_type": "code",
   "execution_count": null,
   "id": "09697564-bbd1-4700-82a7-ad54a6fc2855",
   "metadata": {},
   "outputs": [],
   "source": []
  },
  {
   "cell_type": "code",
   "execution_count": null,
   "id": "2b3f1049-5e85-4c17-8c2c-cea0ce7a2aa0",
   "metadata": {},
   "outputs": [],
   "source": []
  },
  {
   "cell_type": "markdown",
   "id": "4e72d0f0-1e63-4ba9-a978-e783dce4bd00",
   "metadata": {},
   "source": [
    "<b>QUESTION 7:</b>Describe the polynomial regression model. How is it different from linear regression?<Br>\n",
    "<b>SOLUTION: </b>\n",
    "* Polynomial regression is a special case of multiple linear regression. The relationship between the independent variable x and dependent variable y is modeled as an nth degree polynomial in x. Linear regression cannot be used to fit non-linear data (underfitting). Therefore, we increase the model’s complexity and use Polynomial regression, which fits such data better. ( y = a0 + a1x1 + a2x12 + ... + anx1n form )\n",
    "* Polynomial linear regression model is used for non-linear data.\n",
    "* in this type of linear regression, instead of finding a line of best fit , the model finds a curve which best fits the data and gives the minimal error.\n",
    "* it is different from linear regression because polynomial regression involves scaling the features such that they have polynomial features.<br>"
   ]
  },
  {
   "cell_type": "markdown",
   "id": "e1dc698f-adcd-47bd-ad41-163bf880d050",
   "metadata": {},
   "source": []
  },
  {
   "cell_type": "markdown",
   "id": "496ec61f-40e6-47fe-a9ad-5377c160f090",
   "metadata": {},
   "source": [
    "<b>QUESTION 8:</b>What are the advantages and disadvantages of polynomial regression compared to linear\n",
    "regression? In what situations would you prefer to use polynomial regression?<Br>\n",
    "<b>SOLUTION: </b>\n",
    "- ADVANTAGES OF POLYNOMIAL REGRESSION:\n",
    "    * works on any size of data\n",
    "    * well-suited for non-linear data problems<br>\n",
    "- DISADVANTAGES OF POLYNOMIAL REGRESSION:\n",
    "    * we need to find an appropriate degree of the polynomial to achieve a good variance/bias tradeoff and to avoid underfitting or overfitting\n",
    " \n",
    "    \n",
    "    \n",
    "- We can use polynomial regression model when we have non-linear data."
   ]
  },
  {
   "cell_type": "code",
   "execution_count": null,
   "id": "aeaa6bf5-c171-48b4-ba38-985ed567ba98",
   "metadata": {},
   "outputs": [],
   "source": []
  }
 ],
 "metadata": {
  "kernelspec": {
   "display_name": "Python 3 (ipykernel)",
   "language": "python",
   "name": "python3"
  },
  "language_info": {
   "codemirror_mode": {
    "name": "ipython",
    "version": 3
   },
   "file_extension": ".py",
   "mimetype": "text/x-python",
   "name": "python",
   "nbconvert_exporter": "python",
   "pygments_lexer": "ipython3",
   "version": "3.9.13"
  }
 },
 "nbformat": 4,
 "nbformat_minor": 5
}
