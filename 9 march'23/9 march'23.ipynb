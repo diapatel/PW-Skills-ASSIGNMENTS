{
 "cells": [
  {
   "cell_type": "markdown",
   "id": "b709304f-a219-4636-91ab-24730dbda45d",
   "metadata": {},
   "source": [
    "Q1: What are the Probability Mass Function (PMF) and Probability Density Function (PDF)? Explain with \n",
    "an example.\n",
    "\n",
    "Q2: What is Cumulative Density Function (CDF)? Explain with an example. Why CDF is used?\n",
    "\n",
    "Q3: What are some examples of situations where the normal distribution might be used as a model? \n",
    "Explain how the parameters of the normal distribution relate to the shape of the distribution.\n",
    "\n",
    "Q4: Explain the importance of Normal Distribution. Give a few real-life examples of Normal \n",
    "Distribution. \n",
    "\n",
    "Q5: What is Bernaulli Distribution? Give an Example. What is the difference between Bernoulli \n",
    "Distribution and Binomial Distribution?\n",
    "\n",
    "Q6. Consider a dataset with a mean of 50 and a standard deviation of 10. If we assume that the dataset \n",
    "is normally distributed, what is the probability that a randomly selected observation will be greater \n",
    "than 60? Use the appropriate formula and show your calculations.\n",
    "\n",
    "Q7: Explain uniform Distribution with an example.\n",
    "\n",
    "Q8: What is the z score? State the importance of the z score.\n",
    "\n",
    "Q9: What is Central Limit Theorem? State the significance of the Central Limit Theorem.\n",
    "\n",
    "Q10: State the assumptions of the Central Limit Theorem"
   ]
  },
  {
   "cell_type": "code",
   "execution_count": null,
   "id": "f8649e9d-6384-4898-be19-83d8feb631f3",
   "metadata": {},
   "outputs": [],
   "source": []
  },
  {
   "cell_type": "markdown",
   "id": "c2da4317-7587-4af1-993f-569c87230f4a",
   "metadata": {},
   "source": [
    "SOLUTION 1:\n",
    "* Probability distribution function is a mathematical function used to represent the probability distribution of a random variable.\n",
    "* When a probability distribution function is displaying the distribution of a discrete random variable, it is called Probability Mass Function.\n",
    "* Some examples of distributions that use Probability mass function are Binomial distribution and Poisson distribution\n",
    "* When a probability distribution functions is displaying the distribution of a continuous random variable , it is called Probability density function.\n",
    "* Some distributions that use Probability density function are Uniform distribution, Normal distribution, and Exponential distribution."
   ]
  },
  {
   "cell_type": "code",
   "execution_count": null,
   "id": "a6366df8-0e8d-4fbf-bbf5-26e53fc18be5",
   "metadata": {},
   "outputs": [],
   "source": []
  },
  {
   "cell_type": "markdown",
   "id": "0b75e79a-dee2-4264-af78-ddfb3c604b74",
   "metadata": {},
   "source": [
    "### SOLUTION 2"
   ]
  },
  {
   "cell_type": "markdown",
   "id": "4aa0f9e3-f267-44a0-a6c1-9908aff34c7c",
   "metadata": {},
   "source": [
    "* CDF is a mathematical function that gives the probabilty of a random variable taking on  value less than or equal to x.\n",
    "* CDF can be constructed for both Probability density function and PMF.\n",
    "* For example, the  outcomes of rolling  a die can be represented by a PMF. If we want to know the probability of getting a 5 then, we can use PMF. but when we want to know the probability of getting any value less than or equal to 5, CDF is used."
   ]
  },
  {
   "cell_type": "code",
   "execution_count": null,
   "id": "0f490139-b8e6-49d6-933c-9fe1d54a2727",
   "metadata": {},
   "outputs": [],
   "source": []
  },
  {
   "cell_type": "markdown",
   "id": "0190d54d-7709-43e4-844f-d9d410d315bd",
   "metadata": {},
   "source": [
    "### SOLUTION 3"
   ]
  },
  {
   "cell_type": "markdown",
   "id": "d792329f-f804-4c51-af2e-c1c021aee38d",
   "metadata": {},
   "source": [
    "* Normal distribution is used in Hypothesis testing, outlier detection , central limit theorem and in ML algorithms like Linear Regression.\n",
    "\n",
    "* Normal distribution has 2 parameters - mean and standard deviation.\n",
    "* changing the mean changes the center of the graph and shifts it left or right.\n",
    "* Changing the standard deviation changes the width or spread of the graph. if standard deviation is too low, the graph becomes more peaked and its spread decreases whereas if standard deviation is increased too much , then the graph becomes wider."
   ]
  },
  {
   "cell_type": "code",
   "execution_count": null,
   "id": "df567ea0-2e5f-467c-806f-d62b826af5f9",
   "metadata": {},
   "outputs": [],
   "source": []
  },
  {
   "cell_type": "markdown",
   "id": "31c88a46-8e83-4a2b-86bd-6aaec19b9b9d",
   "metadata": {},
   "source": [
    "### SOLUTION 4"
   ]
  },
  {
   "cell_type": "markdown",
   "id": "30bb414b-ca0d-4867-9665-ba754165c895",
   "metadata": {},
   "source": [
    "* Normal distribution is used in various concepts like hypothesis testing, central limit theorem and outlier detection.\n",
    "* some situations which follow normal distribution are heights of people, and IQ of a population."
   ]
  },
  {
   "cell_type": "code",
   "execution_count": null,
   "id": "5f8cb8d0-97a6-4cd7-b190-0a6e9a6401cf",
   "metadata": {},
   "outputs": [],
   "source": []
  },
  {
   "cell_type": "markdown",
   "id": "7bb8777e-2d9d-4557-add9-b1b3a2475a01",
   "metadata": {},
   "source": [
    "### SOLUTION 5"
   ]
  },
  {
   "cell_type": "markdown",
   "id": "cd694f12-20bb-4d56-9198-00edd9f56e82",
   "metadata": {},
   "source": [
    "* Bernoulli distribution represents the outcomes of a bernoulli experiment.\n",
    "* A Bernoulli experiment is an experiment that has only 2 possible outcomes- success and failure. \n",
    "* Bernoulli distribution has only parameter - probability of success.\n",
    "\n",
    "* Bernoulli distribution is different from Binomial distribution because there are n number of trails in Binomial distribution and only 1 in Bernoulli, and Bernoulli distribution has only  1 parameter, namely , proability of success whereas Binomial has 2 parameters, namely number of trials and probability of success in each trial."
   ]
  },
  {
   "cell_type": "code",
   "execution_count": null,
   "id": "a9fb6f7a-fd84-4e5f-92ea-c612edd5c3c8",
   "metadata": {},
   "outputs": [],
   "source": []
  },
  {
   "cell_type": "markdown",
   "id": "03171104-b305-4d55-b484-b2839d1b9d4e",
   "metadata": {},
   "source": [
    "### SOLUTION 6"
   ]
  },
  {
   "cell_type": "markdown",
   "id": "be5c6ea6-6198-495b-ae3e-21091f22bb53",
   "metadata": {},
   "source": [
    "Z-score = (60-50)/10 = 1<br>\n",
    "\n",
    "for Z =1, probability of obaservation < 60 = .84134 (calculated using Z-score table)<Br>\n",
    "hence, probability of observation > 60 = 1-.84134 = .15866"
   ]
  },
  {
   "cell_type": "code",
   "execution_count": null,
   "id": "9b61e075-ee5a-4b29-ad90-478e22bb502d",
   "metadata": {},
   "outputs": [],
   "source": []
  },
  {
   "cell_type": "markdown",
   "id": "c0906f70-9a23-45c9-87dc-6840c4fedaa3",
   "metadata": {},
   "source": [
    "### SOLUTION 7"
   ]
  },
  {
   "cell_type": "markdown",
   "id": "8908a23e-c710-4d32-810c-b3c7b1740f0b",
   "metadata": {},
   "source": [
    "* Uniform distribution , or rectangular distribution is a distribution which has a constant probability. \n",
    "* It is characterized by 2 parameters, a (lower limit) and b(upper limit).\n",
    "* It is concerned with events that are equally likely.\n",
    "* EXAMPLE: rolling a die where, the probability of each outcome is 1/6."
   ]
  },
  {
   "cell_type": "code",
   "execution_count": null,
   "id": "353f5ce1-3544-4ae3-80b5-76c6aae38ec9",
   "metadata": {},
   "outputs": [],
   "source": []
  },
  {
   "cell_type": "markdown",
   "id": "165a92d3-f592-403a-b7e4-0bde31841542",
   "metadata": {},
   "source": [
    "### SOLUTION 8"
   ]
  },
  {
   "cell_type": "markdown",
   "id": "9a483fff-c8c3-471d-a3b7-e1d15a406251",
   "metadata": {},
   "source": [
    "* Z-score is a statistical measure that is calcualted by the formula, Z=(x-u)/std<br>\n",
    "where x = value,<br>\n",
    "u = mean <Br>\n",
    "and std= standard deviation<Br>\n",
    "    \n",
    "* It is used in central limit theorem and is also used in constructing a Standard Normal Distribution for a Normal Distribution."
   ]
  },
  {
   "cell_type": "code",
   "execution_count": null,
   "id": "f4c4b81f-f5ef-4447-b7ba-854579d125d7",
   "metadata": {},
   "outputs": [],
   "source": []
  },
  {
   "cell_type": "markdown",
   "id": "d249adfd-143c-46dc-bf1d-e4779c2d558a",
   "metadata": {},
   "source": [
    "### SOLUTON 9"
   ]
  },
  {
   "cell_type": "markdown",
   "id": "4cd1daea-e55d-4902-9ce4-d71a3b81eb8b",
   "metadata": {},
   "source": [
    "Central limit theorem states that the distribution of sample means of a large number of independent and identically distributed random variables will approach Normal distribution regardless of the underlying distribution of the random variables. <Br>\n",
    "It is useful for the following purposes:<br>\n",
    "* allows us to make probabilistic inferences about population based on sample data.\n",
    "* used for constructing various statistical techniques like hypothesis testing and confidence intervals."
   ]
  },
  {
   "cell_type": "code",
   "execution_count": null,
   "id": "84998e4c-cf2f-4031-b9d5-526ca0997f90",
   "metadata": {},
   "outputs": [],
   "source": []
  },
  {
   "cell_type": "markdown",
   "id": "a8c1c504-2813-4b90-860e-63c3a5bfff7c",
   "metadata": {},
   "source": [
    "### SOLUTION 10"
   ]
  },
  {
   "cell_type": "markdown",
   "id": "83d51db8-9814-4e3c-aae2-438edef3a9c8",
   "metadata": {},
   "source": [
    "* The sample size should be atleast 30.\n",
    "* samples should be representative and random.\n",
    "* Sample is drawn either from a  finite population or an infinite population with a finite variance.\n",
    "* Random variables are independent and identically distributed."
   ]
  },
  {
   "cell_type": "code",
   "execution_count": null,
   "id": "d33440b7-45b2-482e-8058-86bbb4b3ad0b",
   "metadata": {},
   "outputs": [],
   "source": []
  },
  {
   "cell_type": "code",
   "execution_count": null,
   "id": "76e899f9-ce7c-48d4-be4e-452f7ca49082",
   "metadata": {},
   "outputs": [],
   "source": []
  }
 ],
 "metadata": {
  "kernelspec": {
   "display_name": "Python 3 (ipykernel)",
   "language": "python",
   "name": "python3"
  },
  "language_info": {
   "codemirror_mode": {
    "name": "ipython",
    "version": 3
   },
   "file_extension": ".py",
   "mimetype": "text/x-python",
   "name": "python",
   "nbconvert_exporter": "python",
   "pygments_lexer": "ipython3",
   "version": "3.9.13"
  }
 },
 "nbformat": 4,
 "nbformat_minor": 5
}
