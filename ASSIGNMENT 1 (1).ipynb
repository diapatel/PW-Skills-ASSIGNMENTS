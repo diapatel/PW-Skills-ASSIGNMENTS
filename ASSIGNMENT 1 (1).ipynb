{
 "cells": [
  {
   "cell_type": "markdown",
   "id": "445ef092",
   "metadata": {},
   "source": [
    "<b>QUESTION 1:</b>Who developed Python programming language?<br>\n",
    "<b>SOLUTION: </b><br>\n",
    "Guido von rossum developed Python programming language.    "
   ]
  },
  {
   "cell_type": "code",
   "execution_count": null,
   "id": "095cf6f5",
   "metadata": {},
   "outputs": [],
   "source": []
  },
  {
   "cell_type": "markdown",
   "id": "56d71e26",
   "metadata": {},
   "source": [
    "<b>QUESTION 2:</b>Which type of programming does Python support?<br>\n",
    "<b>SOLUTION: </b><br>\n",
    "Python is an interpreted language, which supports object-oriented, structural and functional programming."
   ]
  },
  {
   "cell_type": "code",
   "execution_count": null,
   "id": "e3f006d0",
   "metadata": {},
   "outputs": [],
   "source": []
  },
  {
   "cell_type": "markdown",
   "id": "a4514d49",
   "metadata": {},
   "source": [
    "<b>QUESTION 3:</b>Is Python case-sensitive when dealing with Python?<br>\n",
    "<b>SOLUTION: </b><br>\n",
    "Yes, in case of identifiers, Python is case sensitive.\n",
    "Example: 'name' and 'Name' are different identifiers.\n"
   ]
  },
  {
   "cell_type": "code",
   "execution_count": null,
   "id": "54fd2a7d",
   "metadata": {},
   "outputs": [],
   "source": []
  },
  {
   "cell_type": "markdown",
   "id": "1baf3415",
   "metadata": {},
   "source": [
    "<b>QUESTION 4:</b>What is the correct extension of the Python file?<br>\n",
    "<b>SOLUTION: </b><br>\n",
    "  Extension of a python file is .py\n",
    "Extension of python file in Jupyter notebook is .ipynb."
   ]
  },
  {
   "cell_type": "code",
   "execution_count": null,
   "id": "7f00aab7",
   "metadata": {},
   "outputs": [],
   "source": []
  },
  {
   "cell_type": "markdown",
   "id": "c98b6e30",
   "metadata": {},
   "source": [
    "<b>QUESTION 5:</b>Is python code compiled or interpreted?<br>\n",
    "<b>SOLUTION: </b><br>\n",
    "Python is an interpreted language so, Python code is interpreted."
   ]
  },
  {
   "cell_type": "code",
   "execution_count": null,
   "id": "f7680f3a",
   "metadata": {},
   "outputs": [],
   "source": []
  },
  {
   "cell_type": "markdown",
   "id": "e1dd5ded",
   "metadata": {},
   "source": [
    "<b>QUESTION 6:</b>Name a few blocks of code used in Python language.<br>\n",
    "<b>SOLUTION: </b><br>\n",
    "I did not fully understand this question.<br>\n",
    "SO, if it is asking for examples of code blocks in python, then there is if block, if-else block, if-elif-else block, for loop\n",
    "block and while loop block.<br>\n",
    "But, if the question is asking for blocks of code that build up a Python program , that is Python tokens, then they are:<br>\n",
    "-- Keywords (if, elif, and, etc.)<br>\n",
    "-- Identifiers(varible names)<br>\n",
    "-- Literals(Strings, numeric literals, etc.)<br>\n",
    "-- Operators (Arithmetic, Assignment, Logical,etc.) <br>   "
   ]
  },
  {
   "cell_type": "code",
   "execution_count": null,
   "id": "0b836d31",
   "metadata": {},
   "outputs": [],
   "source": []
  },
  {
   "cell_type": "markdown",
   "id": "5b48f37b",
   "metadata": {},
   "source": [
    "<b>QUESTION 7:</b> State a character used to give single-line comments in Python?<br>\n",
    "<b>SOLUTION: </b><br>\n",
    "A hashtag (#) is used to declare single-line comments in Python.    "
   ]
  },
  {
   "cell_type": "code",
   "execution_count": null,
   "id": "a3fc6c82",
   "metadata": {},
   "outputs": [],
   "source": []
  },
  {
   "cell_type": "markdown",
   "id": "d67aafb4",
   "metadata": {},
   "source": [
    "<b>QUESTION 8:</b>Mention functions that can be used to find the current version of Python we are working on.<br>\n",
    "<b>SOLUTION: </b><br>\n",
    "We can use the sys module's version() function.\n",
    "sys.version()  "
   ]
  },
  {
   "cell_type": "code",
   "execution_count": null,
   "id": "63fc1629",
   "metadata": {},
   "outputs": [],
   "source": []
  },
  {
   "cell_type": "markdown",
   "id": "6b2497c4",
   "metadata": {},
   "source": [
    "<b>QUESTION 9:</b>Python supports the creation of anonymous functions in the runtime using\n",
    "    constuctors called?<br>\n",
    "<b>SOLUTION: </b><br>\n",
    "Anonymous functions can be created in the runtime using lambda function."
   ]
  },
  {
   "cell_type": "code",
   "execution_count": null,
   "id": "dced877b",
   "metadata": {},
   "outputs": [],
   "source": []
  },
  {
   "cell_type": "markdown",
   "id": "3380c6e0",
   "metadata": {},
   "source": [
    "<b>QUESTION 10:</b>What does pip stand for in Python language?<br>\n",
    "<b>SOLUTION: </b><br>\n",
    "PIP is the package manager in python. It is used to install packages that do not come pre-installed with Python."
   ]
  },
  {
   "cell_type": "code",
   "execution_count": null,
   "id": "e759538f",
   "metadata": {},
   "outputs": [],
   "source": []
  },
  {
   "cell_type": "markdown",
   "id": "09cd9654",
   "metadata": {},
   "source": [
    "<b>QUESTION 11:</b>Name a few built-in functions in Python programming language.<br>\n",
    "<b>SOLUTION: </b><br>\n",
    " Few built-in Python functions are:<br> \n",
    "  * len()\n",
    "  * print()\n",
    "  * input()\n",
    "  * range()\n",
    "  * sorted()\n",
    "  * type()   "
   ]
  },
  {
   "cell_type": "code",
   "execution_count": null,
   "id": "7b098d77",
   "metadata": {},
   "outputs": [],
   "source": []
  },
  {
   "cell_type": "markdown",
   "id": "4db2e4cf",
   "metadata": {},
   "source": [
    "<b>QUESTION 12:</b>What is the maximum possible length of identifer names in Python ?<br>\n",
    "<b>SOLUTION: </b><br>\n",
    "The maximum possible length of an identifier in Python is 79 characters."
   ]
  },
  {
   "cell_type": "code",
   "execution_count": null,
   "id": "31a09d09",
   "metadata": {},
   "outputs": [],
   "source": []
  },
  {
   "cell_type": "markdown",
   "id": "e8f814ec",
   "metadata": {},
   "source": [
    "<b>QUESTION 13:</b>What are the benefits of using Python?<br>\n",
    "<b>SOLUTION: </b><br>\n",
    "* Python has an easy and understandable syntax.\n",
    "* it is readable and reusable.\n",
    "* it is platform-independent.that is,it can run across any platform or OS with some minor changes which makes Python a portable language.\n",
    "* Python not only has numerous basic built-in libraries but also has a high number of third-party libraries which have specific purposes and cover a broad array of topics like scientific computing , visualisations, statistical modelling, etc.\n",
    "* Python is an open-source language. It can be downloaded free-of-cost and also its libraries and modules can be installed free-of-cost."
   ]
  },
  {
   "cell_type": "code",
   "execution_count": null,
   "id": "94877301",
   "metadata": {},
   "outputs": [],
   "source": []
  },
  {
   "cell_type": "markdown",
   "id": "67273f75",
   "metadata": {},
   "source": [
    "<b>QUESTION 14:</b>How is memory managed in Python?<br>\n",
    "<b>SOLUTION: </b><br>\n",
    "Python memory is managed through Dynamic Memory Allocation where memory is allocated to the program in the runtime. For example, in programming languages like C and C++, there is a predefined size of datatypes but in Python there is no predefined size of data types."
   ]
  },
  {
   "cell_type": "code",
   "execution_count": null,
   "id": "13c2d6d7",
   "metadata": {},
   "outputs": [],
   "source": []
  },
  {
   "cell_type": "markdown",
   "id": "3b84d850",
   "metadata": {},
   "source": [
    "<b>QUESTION 15:</b>How to  install Python on Windows and set path variables?<br>\n",
    "<b>SOLUTION: </b><br>\n",
    "* Python can be downloaded from python.org.<br>\n",
    "* Then move it to Drive C if not already done.<br>\n",
    "\n",
    "* Then edit the environment variables and add these two variables(for Python 3.8):<br>\n",
    "C:\\Python38\\ <br>\n",
    "C:\\Python38\\Scripts<br>\n",
    "\n",
    "* Update pip for installing python modules.<br>\n",
    "* You can launch Python using command prompt of your system.<br>\n"
   ]
  },
  {
   "cell_type": "code",
   "execution_count": null,
   "id": "750f7206",
   "metadata": {},
   "outputs": [],
   "source": []
  },
  {
   "cell_type": "markdown",
   "id": "fbd0f177",
   "metadata": {},
   "source": [
    "<b>QUESTION 16:</b>Is indentation required in Python?<br>\n",
    "<b>SOLUTION: </b><br>\n",
    "    Yes, indentation is required in Python. If a block of code is not properly indented, an IndentationError is thrown."
   ]
  },
  {
   "cell_type": "code",
   "execution_count": null,
   "id": "847d89d6",
   "metadata": {},
   "outputs": [],
   "source": []
  },
  {
   "cell_type": "code",
   "execution_count": null,
   "id": "d035a16d",
   "metadata": {},
   "outputs": [],
   "source": []
  }
 ],
 "metadata": {
  "kernelspec": {
   "display_name": "Python 3 (ipykernel)",
   "language": "python",
   "name": "python3"
  },
  "language_info": {
   "codemirror_mode": {
    "name": "ipython",
    "version": 3
   },
   "file_extension": ".py",
   "mimetype": "text/x-python",
   "name": "python",
   "nbconvert_exporter": "python",
   "pygments_lexer": "ipython3",
   "version": "3.9.13"
  }
 },
 "nbformat": 4,
 "nbformat_minor": 5
}
