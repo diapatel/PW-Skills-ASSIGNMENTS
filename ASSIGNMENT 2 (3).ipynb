{
 "cells": [
  {
   "cell_type": "code",
   "execution_count": null,
   "id": "d34d7f0e",
   "metadata": {},
   "outputs": [],
   "source": []
  },
  {
   "cell_type": "markdown",
   "id": "7ce71878",
   "metadata": {},
   "source": [
    "### QUESTION 1"
   ]
  },
  {
   "cell_type": "code",
   "execution_count": null,
   "id": "f55fc02c",
   "metadata": {},
   "outputs": [],
   "source": [
    "percentage = int(input(\"Enter your percentage: \"))\n",
    "\n",
    "if percentage > 90:\n",
    "    print(\"Your grade is: A\")\n",
    "elif percentage > 80 and percentage <= 90:\n",
    "    print(\"Your grade is: B\")\n",
    "elif percentage > 60 and percentage <= 80:\n",
    "    print(\"Your grade is: C\")\n",
    "else:\n",
    "    print(\"Your grade is: D\")\n",
    "    "
   ]
  },
  {
   "cell_type": "code",
   "execution_count": null,
   "id": "d15e72e7",
   "metadata": {},
   "outputs": [],
   "source": []
  },
  {
   "cell_type": "markdown",
   "id": "f9f0bb77",
   "metadata": {},
   "source": [
    "### QUESTION 2"
   ]
  },
  {
   "cell_type": "code",
   "execution_count": null,
   "id": "04b70999",
   "metadata": {},
   "outputs": [],
   "source": [
    "cost = int(input(\"Enter the cost of bike: \"))\n",
    "\n",
    "if cost > 100000:\n",
    "    print(f\"Your road tax is: Rs. {0.15 * cost}\")\n",
    "elif cost > 50000 and cost <= 100000:\n",
    "    print(f\"Your road tax is: Rs. {0.1 * cost}\")\n",
    "else:\n",
    "    print(f\"Your road tax is: Rs. {0.05 * cost}\")"
   ]
  },
  {
   "cell_type": "code",
   "execution_count": null,
   "id": "842fdb78",
   "metadata": {},
   "outputs": [],
   "source": []
  },
  {
   "cell_type": "markdown",
   "id": "fb1072d5",
   "metadata": {},
   "source": [
    "### QUESTION 3"
   ]
  },
  {
   "cell_type": "code",
   "execution_count": null,
   "id": "5cd8a352",
   "metadata": {},
   "outputs": [],
   "source": [
    "city = input(\"Choose a city from (Delhi/Agra/Jaipur) to know a monument there: \").lower()\n",
    "\n",
    "if city == 'delhi':\n",
    "    print('Red Fort')\n",
    "elif city == 'agra':\n",
    "    print('Taj Mahal')\n",
    "elif city == 'jaipur':\n",
    "    print('Taj Mahal')\n",
    "else:\n",
    "    print('Please choose a city from the given list.')"
   ]
  },
  {
   "cell_type": "code",
   "execution_count": null,
   "id": "c18f4ae6",
   "metadata": {},
   "outputs": [],
   "source": []
  },
  {
   "cell_type": "markdown",
   "id": "273c0692",
   "metadata": {},
   "source": [
    "### QUESTION 4"
   ]
  },
  {
   "cell_type": "code",
   "execution_count": null,
   "id": "09c91282",
   "metadata": {},
   "outputs": [],
   "source": [
    "number = int(input('Enter a number: '))\n",
    "count = 0 \n",
    "should_continue = True\n",
    "\n",
    "while should_continue:\n",
    "    if number % 3 == 0:\n",
    "        number = number / 3\n",
    "        count += 1\n",
    "        \n",
    "    \n",
    "    if (number <= 10) or (number % 3!= 0):\n",
    "        should_continue = False\n",
    "        \n",
    "print(f\"The given number is divisible by 3 {count} times.\")\n",
    "        \n"
   ]
  },
  {
   "cell_type": "code",
   "execution_count": null,
   "id": "a19584ce",
   "metadata": {},
   "outputs": [],
   "source": []
  },
  {
   "cell_type": "markdown",
   "id": "f7693303",
   "metadata": {},
   "source": [
    "### QUESTION 5"
   ]
  },
  {
   "cell_type": "markdown",
   "id": "0e5dfb9e",
   "metadata": {},
   "source": [
    "for loops are used when we know the number of iterations a particular task will take. but when the number of iterations required\n",
    "to complete the task is unknown, while loop is used.\n",
    "\n",
    "For example, say a variable fruits has a list of 4 fruits and we want to print out the list items one by one. Here, we know that there are 4 fruits so , we can print all the fruits one-by-one using for loop.\n",
    "\n",
    "But in cases of user input, where we don't know in how many attempts the user will input a valid value, we use while loop "
   ]
  },
  {
   "cell_type": "code",
   "execution_count": null,
   "id": "de2ebb68",
   "metadata": {},
   "outputs": [],
   "source": [
    "# example of for loop\n",
    "\n",
    "fruits = [\"apple\",\"banana\",\"cherry\",\"date\"]\n",
    "\n",
    "#iterating over the list\n",
    "\n",
    "for fruit in fruits:\n",
    "    print(fruit)"
   ]
  },
  {
   "cell_type": "code",
   "execution_count": null,
   "id": "9a47bfa3",
   "metadata": {},
   "outputs": [],
   "source": [
    "#example of while loop\n",
    "#determining whether a person is eligible to vote or not\n",
    "\n",
    "age = input('Enter your age(in numbers): ')\n",
    "\n",
    "\n",
    "while not age.isdecimal():\n",
    "    age = input('Enter your age(in numbers): ')\n",
    "    \n",
    "    \n",
    "#in this while loop, until the user enters their age in numbers, they will be prompted to enter their age\n",
    "\n",
    "if int(age) >= 18:\n",
    "    print(\"You are old enough to vote.\")\n",
    "else:\n",
    "    print(\"Sorry, you cannot vote yet.\")"
   ]
  },
  {
   "cell_type": "code",
   "execution_count": null,
   "id": "a7de3b1c",
   "metadata": {},
   "outputs": [],
   "source": []
  },
  {
   "cell_type": "markdown",
   "id": "04a93ee4",
   "metadata": {},
   "source": [
    "### QUESTION 6"
   ]
  },
  {
   "cell_type": "code",
   "execution_count": null,
   "id": "a6bcf329",
   "metadata": {},
   "outputs": [],
   "source": [
    "row = 3\n",
    "column = 5\n",
    "\n",
    "while column > 0:\n",
    "    for i in range(column):\n",
    "        for j in range(row):\n",
    "            print('*', end='')\n",
    "        print('\\r')\n",
    "        column -= 1"
   ]
  },
  {
   "cell_type": "code",
   "execution_count": null,
   "id": "23b2b057",
   "metadata": {},
   "outputs": [],
   "source": [
    "#printing the first 10 numbers on each line 5 times\n",
    "\n",
    "i = 1\n",
    "rows = 0\n",
    "#should_continue = True\n",
    "\n",
    "while rows < 5:\n",
    "    while i < 11:\n",
    "        print(i,end='')\n",
    "        i += 1\n",
    "        \n",
    "    print('\\r')\n",
    "    rows += 1\n",
    "    i = 1\n",
    "        \n",
    "    "
   ]
  },
  {
   "cell_type": "code",
   "execution_count": null,
   "id": "b8bb8f5d",
   "metadata": {},
   "outputs": [],
   "source": [
    "#printing first 4 multiples of numbers from 1 to 5\n",
    "\n",
    "i = 1\n",
    "\n",
    "while i < 6:\n",
    "    j = 0\n",
    "    \n",
    "    while j <= 4:\n",
    "        print(i * j, end = ' ')\n",
    "        j += 1\n",
    "    print('\\r')\n",
    "    i += 1"
   ]
  },
  {
   "cell_type": "code",
   "execution_count": null,
   "id": "f4160895",
   "metadata": {},
   "outputs": [],
   "source": []
  },
  {
   "cell_type": "markdown",
   "id": "ea37e740",
   "metadata": {},
   "source": [
    "### QUESTION 7"
   ]
  },
  {
   "cell_type": "code",
   "execution_count": null,
   "id": "161c5ef1",
   "metadata": {},
   "outputs": [],
   "source": [
    "#reversing a loop to display numbers from 10 to 1\n",
    "\n",
    "i = 10\n",
    "\n",
    "while i > 0:\n",
    "    print(i)\n",
    "    i -= 1"
   ]
  },
  {
   "cell_type": "code",
   "execution_count": null,
   "id": "8e2b05e1",
   "metadata": {},
   "outputs": [],
   "source": []
  }
 ],
 "metadata": {
  "kernelspec": {
   "display_name": "Python 3 (ipykernel)",
   "language": "python",
   "name": "python3"
  },
  "language_info": {
   "codemirror_mode": {
    "name": "ipython",
    "version": 3
   },
   "file_extension": ".py",
   "mimetype": "text/x-python",
   "name": "python",
   "nbconvert_exporter": "python",
   "pygments_lexer": "ipython3",
   "version": "3.9.13"
  }
 },
 "nbformat": 4,
 "nbformat_minor": 5
}
