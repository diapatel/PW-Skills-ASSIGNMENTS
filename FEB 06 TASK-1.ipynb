{
 "cells": [
  {
   "cell_type": "markdown",
   "id": "1bec0c19",
   "metadata": {},
   "source": [
    "Q1. Create a function which will take a list as an argument and return the product of all the numbers\n",
    "after creating a flat list.\n",
    "Use the below-given list as an argument for your function.\n",
    "list1 = [1,2,3,4, [44,55,66, True], False, (34,56,78,89,34), {1,2,3,3,2,1}, {1:34, \"key2\": [55, 67, 78, 89], 4: (45,\n",
    "22, 61, 34)}, [56, 'data science'], 'Machine Learning']\n",
    "Note: you must extract numeric keys and values of the dictionary also.\n"
   ]
  },
  {
   "cell_type": "code",
   "execution_count": 36,
   "id": "1d581ffd",
   "metadata": {},
   "outputs": [
    {
     "data": {
      "text/plain": [
       "[1, 2, 3, 4, 44, 55, 66, 34, 56, 78, 89, 34, 1, 2, 3, 1, 4, 56]"
      ]
     },
     "execution_count": 36,
     "metadata": {},
     "output_type": "execute_result"
    }
   ],
   "source": [
    "def numberFromSequence(sequence):\n",
    "    '''takes in a list,tuple or a set as an argument and returns a list containing all the numerical values from it'''\n",
    "    \n",
    "    list_of_numbers = []\n",
    "    for item in sequence:\n",
    "        if type(item) == int:\n",
    "            list_of_numbers.append(item)\n",
    "            \n",
    "        elif type(item) == dict:\n",
    "            for value in dict.values():\n",
    "                if type(value) == int:\n",
    "                    list_of_numbers.append(value)\n",
    "            \n",
    "    return list_of_numbers\n",
    "            \n",
    "    \n",
    "\n",
    "def getNumbers(list_):\n",
    "    result = []\n",
    "    \n",
    "    for item in list1:\n",
    "        if type(item) == bool:\n",
    "            continue\n",
    "        \n",
    "        \n",
    "        elif type(item) == int:\n",
    "            result.append(item)\n",
    "            \n",
    "            \n",
    "#         elif type(item) == dict:\n",
    "#             for value in item.values():\n",
    "#                 if type(value) == int:\n",
    "#                     result.append(value)\n",
    "                \n",
    "#                 else:\n",
    "#                     for i in item:\n",
    "#                         if type(i) == int:\n",
    "#                             result.append(i)\n",
    "                    \n",
    "        else:\n",
    "            for number in numberFromSequence(item):\n",
    "                result.append(number)\n",
    "            \n",
    "            \n",
    "                    \n",
    "    return result\n",
    "\n",
    "\n",
    "list1 = [1,2,3,4, [44,55,66, True], False, (34,56,78,89,34), \n",
    "         {1,2,3,3,2,1}, \n",
    "         {1:34, \"key2\": [55, 67, 78, 89], 4: (45, 22, 61, 34)}, \n",
    "         [56, 'data science'], 'Machine Learning']\n",
    "getNumbers(list1)"
   ]
  },
  {
   "cell_type": "code",
   "execution_count": 40,
   "id": "66e2cae4",
   "metadata": {},
   "outputs": [
    {
     "name": "stdout",
     "output_type": "stream",
     "text": [
      "[34]\n"
     ]
    }
   ],
   "source": [
    "list1 = [1,2,3,4, [44,55,66, True], False, (34,56,78,89,34), \n",
    "         {1,2,3,3,2,1}, \n",
    "         {1:34, \"key2\": [55, 67, 78, 89], 4: (45, 22, 61, 34)}, \n",
    "         [56, 'data science'], 'Machine Learning']\n",
    "\n",
    "result = []\n",
    "\n",
    "for item in list1:\n",
    "    if type(item) == dict:\n",
    "        dictionary = item.copy()\n",
    "        for value in dictionary.values():\n",
    "            if type(value) == int:\n",
    "                result.append(value)\n",
    "                \n",
    "print(result)\n",
    "            "
   ]
  },
  {
   "cell_type": "markdown",
   "id": "7a65d1e0",
   "metadata": {},
   "source": [
    "Q2. Write a python program for encrypting a message sent to you by your friend. The logic of encryption\n",
    "should be such that, for a the output should be z. For b, the output should be y. For c, the output should\n",
    "be x respectively. Also, the whitespace should be replaced with a dollar sign. Keep the punctuation\n",
    "marks unchanged.\n",
    "Input Sentence: I want to become a Data Scientist.\n",
    "Encrypt the above input sentence using the program you just created.\n",
    "Note: Convert the given input sentence into lowercase before encrypting. The final output should be\n",
    "lowercase.\n"
   ]
  },
  {
   "cell_type": "code",
   "execution_count": 23,
   "id": "0fa50fc6",
   "metadata": {},
   "outputs": [
    {
     "name": "stdout",
     "output_type": "stream",
     "text": [
      "r$dzmg$gl$yvxlnv$z$wzgz$hxrvmgrhg\n"
     ]
    }
   ],
   "source": [
    "message = 'I want to become a Data Scientist'\n",
    "\n",
    "\n",
    "forward = ['a','b','c','d','e','f','g','h','i','j','k','l','m','n','o','p','q','r','s','t','u','v','w','x','y','z']\n",
    "#reverse = [lambda x: x, forward[::-1]]\n",
    "reverse = ['z', 'y', 'x', 'w', 'v', 'u', 't', 's', 'r', 'q', 'p', 'o', 'n', 'm', 'l', 'k', 'j', 'i', \n",
    "           'h', 'g', 'f', 'e', 'd', 'c', 'b', 'a']\n",
    "\n",
    "\n",
    "encoded_list = []\n",
    "\n",
    "for char in list(message.lower()):\n",
    "    if char == ' ':\n",
    "        encoded_list.append('$')\n",
    "    \n",
    "    else:\n",
    "        index_of_char = forward.index(char)\n",
    "        encoded_char = reverse[index_of_char]\n",
    "        encoded_list.append(encoded_char)\n",
    "        \n",
    "        \n",
    "encoded_message = ''.join(encoded_list)\n",
    "print(encoded_message)\n",
    "\n"
   ]
  }
 ],
 "metadata": {
  "kernelspec": {
   "display_name": "Python 3 (ipykernel)",
   "language": "python",
   "name": "python3"
  },
  "language_info": {
   "codemirror_mode": {
    "name": "ipython",
    "version": 3
   },
   "file_extension": ".py",
   "mimetype": "text/x-python",
   "name": "python",
   "nbconvert_exporter": "python",
   "pygments_lexer": "ipython3",
   "version": "3.9.13"
  }
 },
 "nbformat": 4,
 "nbformat_minor": 5
}
