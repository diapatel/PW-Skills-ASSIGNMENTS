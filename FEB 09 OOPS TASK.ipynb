{
 "cells": [
  {
   "cell_type": "markdown",
   "id": "c4c6bda0",
   "metadata": {},
   "source": [
    "<b>QUESTION 1: </b>\n",
    "Create a vehicle class with an init method having instance variables as name_of_vehicle, max_speed\n",
    "and average_of_vehicle."
   ]
  },
  {
   "cell_type": "code",
   "execution_count": null,
   "id": "bcc2ccc3",
   "metadata": {},
   "outputs": [],
   "source": [
    "class Vehicle:\n",
    "    \n",
    "    def __init__(self,name_of_vehicle, max_speed, average_of_vehicle):\n",
    "        self.name_of_vehicle = name_of_vehicle\n",
    "        self.max_speed = max_speed\n",
    "        self.average_of_vehicle = average_of_vehicle\n",
    "        \n",
    "    def get_vehicle_name(self):\n",
    "        return self.name_of_vehicle\n",
    "        \n",
    "vehicle1 = Vehicle('etios', 50, 25)\n",
    "\n",
    "print(vehicle1.name_of_vehicle)"
   ]
  },
  {
   "cell_type": "code",
   "execution_count": null,
   "id": "51145614",
   "metadata": {},
   "outputs": [],
   "source": []
  },
  {
   "cell_type": "markdown",
   "id": "e16080ed",
   "metadata": {},
   "source": [
    "<b>QUESTION 2: </b> <br>Create a child class car from the vehicle class created in Que 1, which will inherit the vehicle class.\n",
    "Create a method named seating_capacity which takes capacity as an argument and returns the name of\n",
    "the vehicle and its seating capacity."
   ]
  },
  {
   "cell_type": "code",
   "execution_count": null,
   "id": "8afe78a6",
   "metadata": {},
   "outputs": [],
   "source": [
    "class Car(Vehicle):\n",
    "    '''class Car is a child class of Vehicle class.'''\n",
    "    \n",
    "    def __init__(self,name_of_vehicle):\n",
    "        self.name_of_vehicle = name_of_vehicle\n",
    "    \n",
    "    def seating_capacity(self, capacity):\n",
    "        self.capacity = capacity\n",
    "        return  self.name_of_vehicle, self.capacity\n",
    "    \n",
    "    \n",
    "car1 = Car('etios')\n",
    "car1.seating_capacity(4)"
   ]
  },
  {
   "cell_type": "markdown",
   "id": "f22ed0bd",
   "metadata": {},
   "source": [
    "<b>QUESTION 3: </b> <br>What is multiple inheritance? Write a python code to demonstrate multiple inheritance.\n",
    "\n",
    "<b> SOLUTION: </b>\n",
    "When a child class inherits from multiple parent classes, it is called Multiple Inheritance."
   ]
  },
  {
   "cell_type": "code",
   "execution_count": null,
   "id": "2926f95e",
   "metadata": {},
   "outputs": [],
   "source": [
    "class Person:\n",
    "    '''has the details of people.\n",
    "    this is the superclass or the parent class.'''\n",
    "    \n",
    "    def __init__(self, first, last, pay):\n",
    "        self.first = first\n",
    "        self.last = last\n",
    "        self.pay = pay\n",
    "    \n",
    "    def isEmployed(self):\n",
    "        return False\n",
    "    \n",
    "    def isIndependent(self):\n",
    "        return False\n",
    "\n",
    "    \n",
    "class Employee(Person):\n",
    "    '''has information about whether a person is employed or not.\n",
    "    It is a subclass of the Person class.'''\n",
    "    \n",
    "    def isEmployed(self):\n",
    "        return True\n",
    "    \n",
    "\n",
    "class areIndependent(Employee, Person):\n",
    "    '''determines whether a person is independent or not.\n",
    "    this class inherits from the classes Person and Employee.'''\n",
    "    \n",
    "    def isIndependent(self):\n",
    "        return True\n",
    "    \n",
    "\n",
    "    \n",
    "person1 = Person('jake','peralta',4000)\n",
    "print(person1.first, person1.isEmployed())\n",
    "\n",
    "person2 = Employee('amy','jackson',5000)\n",
    "print(person2.first, person2.isEmployed())\n",
    "\n",
    "\n",
    "person3 = areIndependent('rosa','diaz',7000)\n",
    "print(person3.first, person3.isIndependent())"
   ]
  },
  {
   "cell_type": "code",
   "execution_count": null,
   "id": "125a7931",
   "metadata": {},
   "outputs": [],
   "source": []
  },
  {
   "cell_type": "markdown",
   "id": "bfe4c56f",
   "metadata": {},
   "source": [
    "<b> QUESTION 4: </b>What are getter and setter in python? Create a class and create a getter and a setter method in this\n",
    "class.<br>\n",
    "    \n",
    "<b>SOLUTION: </b>\n",
    "* Getters and setters in Python are used to ensure data encapsulation.\n",
    "* We use getters and setters to add validation logic around getting and setting values.\n",
    "* It is also used to avoid direct access of  a class field, i.e., a user cannot directly access and modify a class field.<br>"
   ]
  },
  {
   "cell_type": "code",
   "execution_count": null,
   "id": "baf62007",
   "metadata": {},
   "outputs": [],
   "source": [
    "class Divergent:\n",
    "    def __init__(self,faction='Abnegation'):\n",
    "        self._faction = faction\n",
    "        \n",
    "    #using getter method\n",
    "    def get_faction(self):\n",
    "        return self._faction\n",
    "    \n",
    "    #using setter method\n",
    "    def set_faction(self,x):\n",
    "        self._faction = x\n",
    "        \n",
    "        \n",
    "#creating an object of Divergent class\n",
    "Tris = Divergent()\n",
    "\n",
    "#printing the default faction\n",
    "print(f'Faction before setting a value: {Tris.get_faction()}')\n",
    "\n",
    "#setting a faction\n",
    "Tris.set_faction('Dauntless')\n",
    "\n",
    "#printing Tris's faction\n",
    "print(f'Faction after setting a value: {Tris.get_faction()}')"
   ]
  },
  {
   "cell_type": "code",
   "execution_count": null,
   "id": "3ece0a22",
   "metadata": {},
   "outputs": [],
   "source": []
  },
  {
   "cell_type": "markdown",
   "id": "ab8b4d43",
   "metadata": {},
   "source": [
    "Q5.What is method overriding in python? Write a python code to demonstrate method overriding.\n",
    "<b>SOLUTION: </b>Method overriding in Python(or any OOP language) is the ability of the programming language to allow a subclass (child class) to provide a specific implementation of a method that is already providedby one of its super class(parent class)."
   ]
  },
  {
   "cell_type": "code",
   "execution_count": null,
   "id": "63890196",
   "metadata": {},
   "outputs": [],
   "source": [
    "class Parent:\n",
    "    def __init__(self):\n",
    "        self.value = \"Inside Parent class\"\n",
    "        \n",
    "    #Parent's show method\n",
    "    def show(self):\n",
    "        return self.value\n",
    "        \n",
    "class Child(Parent):\n",
    "    #Constructor\n",
    "    def __init__(self):\n",
    "        self.value = 'Inside Child Class'\n",
    "    \n",
    "    #child's show method\n",
    "    def show(self):\n",
    "        return self.value\n",
    "        \n",
    "pare = Parent()\n",
    "chil = Child()\n",
    "\n",
    "print(pare.show())\n",
    "print(chil.show())\n",
    "\n",
    "#we see that though a show method already exists in Parent class, since it is overriden by Child's\n",
    "#show method, we get the 'Inside Child Class' when we call this method on Child class's object"
   ]
  },
  {
   "cell_type": "code",
   "execution_count": null,
   "id": "da637560",
   "metadata": {},
   "outputs": [],
   "source": []
  }
 ],
 "metadata": {
  "kernelspec": {
   "display_name": "Python 3 (ipykernel)",
   "language": "python",
   "name": "python3"
  },
  "language_info": {
   "codemirror_mode": {
    "name": "ipython",
    "version": 3
   },
   "file_extension": ".py",
   "mimetype": "text/x-python",
   "name": "python",
   "nbconvert_exporter": "python",
   "pygments_lexer": "ipython3",
   "version": "3.9.13"
  }
 },
 "nbformat": 4,
 "nbformat_minor": 5
}
