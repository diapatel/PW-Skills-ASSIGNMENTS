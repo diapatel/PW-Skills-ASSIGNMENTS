{
 "cells": [
  {
   "cell_type": "markdown",
   "id": "bcca02c7",
   "metadata": {},
   "source": [
    "### QUESTION 1\n",
    "Which keyword is used to create a function? Create a function to return a list of odd numbers in the\n",
    "range of 1 to 25.\n",
    "\n",
    "<b> SOLUTION </b>\n",
    "def keyword is used to create a function. "
   ]
  },
  {
   "cell_type": "code",
   "execution_count": 6,
   "id": "6fe8843e",
   "metadata": {},
   "outputs": [
    {
     "data": {
      "text/plain": [
       "[1, 3, 5, 7, 9, 11, 13, 15, 17, 19, 21, 23]"
      ]
     },
     "execution_count": 6,
     "metadata": {},
     "output_type": "execute_result"
    }
   ],
   "source": [
    "def odd(limit):\n",
    "    '''takes a number as a limit and returns all the odd numbers between 1 and that number.'''\n",
    "    \n",
    "    l = []\n",
    "    for i in range(1,limit,2):\n",
    "        l.append(i)\n",
    "    return l\n",
    "\n",
    "odd(25)"
   ]
  },
  {
   "cell_type": "code",
   "execution_count": null,
   "id": "fae4306e",
   "metadata": {},
   "outputs": [],
   "source": []
  },
  {
   "cell_type": "markdown",
   "id": "efbb2a56",
   "metadata": {},
   "source": [
    "### QUESTION 2\n",
    "Why \\*args and \\*\\*kwargs is used in some functions? Create a function each for \\*args and \\**kwargs to\n",
    "demonstrate their use.\n",
    "\n",
    "<b> SOLUTION: </b>\n",
    "\\*args and \\*\\*kwargs are used when the number of arguments to be given are not fixed. \\*args takes in any number of arguments as positional arguments and \\*\\*kwargs takes in any number of arguments in the form of key-value pairs."
   ]
  },
  {
   "cell_type": "code",
   "execution_count": 7,
   "id": "cf57c4a3",
   "metadata": {},
   "outputs": [
    {
     "name": "stdout",
     "output_type": "stream",
     "text": [
      "55\n",
      "268\n"
     ]
    }
   ],
   "source": [
    "#using args to sum the numbers provided by the user\n",
    "def sum_of_numbers(*numbers):\n",
    "    sum_ = 0\n",
    "    for num in numbers:\n",
    "        sum_ += num\n",
    "        \n",
    "    return sum_\n",
    "\n",
    "print(sum_of_numbers(1,2,3,4,45))\n",
    "print(sum_of_numbers(34,234))"
   ]
  },
  {
   "cell_type": "code",
   "execution_count": 12,
   "id": "c49de3a7",
   "metadata": {},
   "outputs": [
    {
     "data": {
      "text/plain": [
       "[['tfios', 'succession', 'billions'], ['yellow ribbon', 'varsity blues']]"
      ]
     },
     "execution_count": 12,
     "metadata": {},
     "output_type": "execute_result"
    }
   ],
   "source": [
    "#accepting any number of data and returning a list of items that are lists\n",
    "\n",
    "def lists_only(**kwargs):\n",
    "    l=[]\n",
    "    for i in kwargs:\n",
    "        if type(kwargs[i]) == list:\n",
    "            l.append(kwargs[i])\n",
    "    return l\n",
    "            \n",
    "lists_only(a=1,b=1322, c=(134,21,'apple','google'), d =['tfios','succession','billions'], e =['yellow ribbon','varsity blues'])\n",
    "            "
   ]
  },
  {
   "cell_type": "markdown",
   "id": "ce459a49",
   "metadata": {},
   "source": [
    "### QUESTION 3\n",
    "What is an iterator in python? Name the method used to initialise the iterator object and the method\n",
    "used for iteration. Use these methods to print the first five elements of the given list [2, 4, 6, 8, 10, 12, 14, 16,\n",
    "18, 20].\n",
    "\n",
    "<b> SOLUTION: </b>\n",
    "Iterator in python is an object that is used to iterate over iterable objects like lists, tuples, dictionaries and sets. \n",
    "* It is initialized using iter() method and uses the next() method for iteration."
   ]
  },
  {
   "cell_type": "code",
   "execution_count": 8,
   "id": "3654355d",
   "metadata": {},
   "outputs": [
    {
     "name": "stdout",
     "output_type": "stream",
     "text": [
      "2\n",
      "4\n",
      "6\n",
      "8\n",
      "10\n"
     ]
    }
   ],
   "source": [
    "l = [2, 4, 6, 8, 10, 12, 14, 16, 18, 20]\n",
    "iter_object = iter(l)\n",
    "\n",
    "#printing first 5 elements of the l iterator object\n",
    "\n",
    "print(next(iter_object))\n",
    "print(next(iter_object))\n",
    "print(next(iter_object))\n",
    "print(next(iter_object))\n",
    "print(next(iter_object))"
   ]
  },
  {
   "cell_type": "code",
   "execution_count": null,
   "id": "fb89019e",
   "metadata": {},
   "outputs": [],
   "source": []
  },
  {
   "cell_type": "markdown",
   "id": "0b68981c",
   "metadata": {},
   "source": [
    "### QUESTION 4\n",
    "What is a generator function in python? Why yield keyword is used? Give an example of a generator\n",
    "function.\n",
    "\n",
    "<b> SOLUTION: </b>\n",
    "A generator function is defined just like a normal function, but generates a sequence of values one value at a time using the yield keyword. It is used when we don't want to store an entire sequence of values in memory.\n",
    "The yield keyword is used to iterate over a sequence of values but returning only one value at a time, thus preventing storing an entire list of values in memory."
   ]
  },
  {
   "cell_type": "code",
   "execution_count": 16,
   "id": "2cfffa8d",
   "metadata": {},
   "outputs": [
    {
     "name": "stdout",
     "output_type": "stream",
     "text": [
      "1\n",
      "4\n",
      "9\n",
      "16\n"
     ]
    }
   ],
   "source": [
    "#generator function to return the square of numbers upto a certain limit\n",
    "\n",
    "def nextSquare(limit):\n",
    "    a = 1\n",
    "    \n",
    "    while a < limit:\n",
    "        yield a*a\n",
    "        a+=1\n",
    "        \n",
    "#storing the generator object in a variable called iteration\n",
    "iteration = iter(nextSquare(5))\n",
    "\n",
    "#printing the squares of 4 numbers\n",
    "print(next(iteration))\n",
    "print(next(iteration))\n",
    "print(next(iteration))\n",
    "print(next(iteration))\n",
    "\n"
   ]
  },
  {
   "cell_type": "markdown",
   "id": "c61e6ea7",
   "metadata": {},
   "source": [
    "### QUESTION 5\n",
    "Create a generator function for prime numbers less than 1000. Use the next() method to print the\n",
    "first 20 prime numbers."
   ]
  },
  {
   "cell_type": "code",
   "execution_count": 41,
   "id": "b84b6ebc",
   "metadata": {},
   "outputs": [
    {
     "name": "stdout",
     "output_type": "stream",
     "text": [
      "3\n",
      "5\n",
      "7\n",
      "11\n",
      "13\n",
      "17\n",
      "19\n",
      "23\n",
      "29\n",
      "31\n",
      "37\n",
      "41\n",
      "43\n",
      "47\n",
      "53\n",
      "59\n",
      "61\n",
      "67\n",
      "71\n",
      "73\n"
     ]
    }
   ],
   "source": [
    "def getPrimes(limit):\n",
    "    num = 3\n",
    "    \n",
    "    while num < limit:\n",
    "        prime = True\n",
    "        for a in range(2,num):\n",
    "            if num%a == 0:\n",
    "                prime = False\n",
    "                break\n",
    "                \n",
    "        if prime:\n",
    "            yield num\n",
    "        \n",
    "        num += 1\n",
    "\n",
    "        \n",
    "#creating a generator function object\n",
    "gen_obj = iter(getPrimes(1000))\n",
    "\n",
    "#printing the first 20 prime numbers    \n",
    "for i in range(20):\n",
    "    print(next(gen_obj))"
   ]
  },
  {
   "cell_type": "code",
   "execution_count": null,
   "id": "4e201d25",
   "metadata": {},
   "outputs": [],
   "source": []
  }
 ],
 "metadata": {
  "kernelspec": {
   "display_name": "Python 3 (ipykernel)",
   "language": "python",
   "name": "python3"
  },
  "language_info": {
   "codemirror_mode": {
    "name": "ipython",
    "version": 3
   },
   "file_extension": ".py",
   "mimetype": "text/x-python",
   "name": "python",
   "nbconvert_exporter": "python",
   "pygments_lexer": "ipython3",
   "version": "3.9.13"
  }
 },
 "nbformat": 4,
 "nbformat_minor": 5
}
