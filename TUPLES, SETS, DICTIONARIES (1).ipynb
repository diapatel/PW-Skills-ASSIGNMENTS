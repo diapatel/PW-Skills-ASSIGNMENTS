{
 "cells": [
  {
   "cell_type": "markdown",
   "id": "8328ea1a",
   "metadata": {},
   "source": [
    "### QUESTION 1\n",
    "What are the characteristics of a tuple? Are tuples immutable?"
   ]
  },
  {
   "cell_type": "markdown",
   "id": "da67461d",
   "metadata": {},
   "source": [
    "* A tuple is declared using a set of parenthesis. <br>\n",
    "* It is indexed and ordered.\n",
    "* Tuples support indexing and slicing.\n",
    "\n",
    "Yes,tuples are immutable."
   ]
  },
  {
   "cell_type": "code",
   "execution_count": null,
   "id": "063511b2",
   "metadata": {},
   "outputs": [],
   "source": []
  },
  {
   "cell_type": "markdown",
   "id": "b2ded63c",
   "metadata": {},
   "source": [
    "### QUESTION 2\n",
    "What are the two tuple methods in python? Give an example of each method. Give a reason why\n",
    "tuples have only two in-built methods as compared to Lists."
   ]
  },
  {
   "cell_type": "markdown",
   "id": "ffadacbb",
   "metadata": {},
   "source": [
    "Two tuple methods in Python are :\n",
    "* count()\n",
    "* index()\n",
    "\n",
    "Example codes of these methods are in the cell below.\n",
    "\n",
    "Tuples are immutable so, they can't be modified. this is why they don't support other python methods like update, pop and insert."
   ]
  },
  {
   "cell_type": "code",
   "execution_count": null,
   "id": "38e977eb",
   "metadata": {},
   "outputs": [],
   "source": [
    "t1 = ('a','b','c','d','d','d')\n",
    "print(t1.index('b'))\n",
    "print(t1.count('d'))"
   ]
  },
  {
   "cell_type": "code",
   "execution_count": null,
   "id": "371609a3",
   "metadata": {},
   "outputs": [],
   "source": []
  },
  {
   "cell_type": "markdown",
   "id": "f9b27cb6",
   "metadata": {},
   "source": [
    "### QUESTION 3\n",
    "Which collection datatypes in python do not allow duplicate items? Write a code using a set to remove\n",
    "duplicates from the given list. <br>\n",
    "List = [1, 1, 1, 2, 1, 3, 1, 4, 2, 1, 2, 2, 2, 3, 2, 4, 3, 1, 3, 2, 3, 3, 3, 4, 4, 1, 4, 2, 4, 3, 4, 4]"
   ]
  },
  {
   "cell_type": "markdown",
   "id": "c2d18529",
   "metadata": {},
   "source": [
    "Sets do not allow duplicate items."
   ]
  },
  {
   "cell_type": "code",
   "execution_count": null,
   "id": "a5beaf65",
   "metadata": {},
   "outputs": [],
   "source": [
    "List = [1, 1, 1, 2, 1, 3, 1, 4, 2, 1, 2, 2, 2, 3, 2, 4, 3, 1, 3, 2, 3, 3, 3, 4, 4, 1, 4, 2, 4, 3, 4, 4]\n",
    "Set = set(List)\n",
    "print(Set)"
   ]
  },
  {
   "cell_type": "code",
   "execution_count": null,
   "id": "0035c40b",
   "metadata": {},
   "outputs": [],
   "source": []
  },
  {
   "cell_type": "markdown",
   "id": "37bb0526",
   "metadata": {},
   "source": [
    "### QUESTION 4\n",
    "Explain the difference between the union() and update() methods for a set. Give an example of\n",
    "each method."
   ]
  },
  {
   "cell_type": "markdown",
   "id": "3f0bc69d",
   "metadata": {},
   "source": [
    "Using the union method, two sets are joined and  a third set is returned with the elements present in both the sets. <br>\n",
    "\n",
    "The update method updates the current set by adding elements from another iterable.<br>\n",
    "It is an in-place function which modifies the original set and itself returns none when assigned to a variable or printed as such."
   ]
  },
  {
   "cell_type": "code",
   "execution_count": null,
   "id": "744e5c97",
   "metadata": {},
   "outputs": [],
   "source": [
    "set1 = {1,2,3,4}\n",
    "set2 = {'apple','banana'}\n",
    "\n",
    "print(f\"Union of sets: {set1.union(set2)}\")\n",
    "\n",
    "\n",
    "#update function --- updating set1 with the items of set2\n",
    "set1.update(set2)\n",
    "print(f\"Updated set: {set1}\")"
   ]
  },
  {
   "cell_type": "code",
   "execution_count": null,
   "id": "04aa6137",
   "metadata": {},
   "outputs": [],
   "source": []
  },
  {
   "cell_type": "markdown",
   "id": "65c9ba57",
   "metadata": {},
   "source": [
    "### QUESTION 5\n",
    "What is a dictionary? Give an example. Also, state whether a dictionary is ordered or unordered.\n",
    "\n",
    "Solution:\n",
    "A dictionary is an in-built data structure in Python which stores data in the form of key-value pairs.\n",
    "* Keys can be anything like string, numbers, tuples but they should be unique for a given dictionary.\n",
    "\n",
    "* A dictionary is ordered, that is , its items can be accessed using indexing."
   ]
  },
  {
   "cell_type": "code",
   "execution_count": null,
   "id": "8cefd1eb",
   "metadata": {},
   "outputs": [],
   "source": [
    "#example of a dictinary \n",
    "\n",
    "dictionary = {\n",
    "    'fruit1' : 'kiwi',\n",
    "    'fruit2' : 'date',\n",
    "    'fruit3' : 'persimmon',\n",
    "}\n",
    "print(dictionary)"
   ]
  },
  {
   "cell_type": "code",
   "execution_count": null,
   "id": "08b77035",
   "metadata": {},
   "outputs": [],
   "source": []
  },
  {
   "cell_type": "markdown",
   "id": "5810ce87",
   "metadata": {},
   "source": [
    "### QUESTION 6\n",
    "Can we create a nested dictionary? If so, please give an example by creating a simple one-level nested dictionary.\n",
    "\n",
    "SOLUTION:\n",
    "Yes, we can create a nested dictionary."
   ]
  },
  {
   "cell_type": "code",
   "execution_count": null,
   "id": "604a90a8",
   "metadata": {},
   "outputs": [],
   "source": [
    "#examples of a nested dictionary\n",
    "\n",
    "nested_dict = {\n",
    "    'countries' : {'India','USA','United Kingdom','France'},\n",
    "    'capitals' : {'New Delhi','Washington D.C.', 'London','Paris'},\n",
    "    'currencies' : {'Indian Rupees', 'US Dollars', 'Pounds', 'Euros'}\n",
    "}\n",
    "\n",
    "print(nested_dict)"
   ]
  },
  {
   "cell_type": "code",
   "execution_count": null,
   "id": "534e6b88",
   "metadata": {},
   "outputs": [],
   "source": []
  },
  {
   "cell_type": "markdown",
   "id": "62890807",
   "metadata": {},
   "source": [
    "### QUESTION 7\n",
    "Using setdefault() method, create key named topics in the given dictionary and also add the value of\n",
    "the key as this list ['Python', 'Machine Learning’, 'Deep Learning']. <br>\n",
    "dict1 = {'language' : 'Python', 'course': 'Data Science Masters'}"
   ]
  },
  {
   "cell_type": "code",
   "execution_count": null,
   "id": "2d792563",
   "metadata": {},
   "outputs": [],
   "source": [
    "dict1 = {\n",
    "    'language' : 'Python', \n",
    "    'course': 'Data Science Masters',\n",
    "    }\n",
    "\n",
    "\n",
    "#adding new key - topics to the dict1 dictionary\n",
    "dict1['topics'] = ['Python', 'Machine Learning', 'Deep Learning']\n",
    "print(dict1)\n",
    "\n",
    "dict1.setdefault('topics',['Python','Machine Learning','Deep Learning'])"
   ]
  },
  {
   "cell_type": "code",
   "execution_count": null,
   "id": "8b55ec5f",
   "metadata": {},
   "outputs": [],
   "source": []
  },
  {
   "cell_type": "markdown",
   "id": "ac7b37a4",
   "metadata": {},
   "source": [
    "### QUESTION 8\n",
    "What are the three view objects in dictionaries? Use the three in-built methods in python to display\n",
    "these three view objects for the given dictionary.<br>\n",
    "dict1 = {'Sport': 'Cricket' , 'Teams': ['India', 'Australia', 'England', 'South Africa', 'Sri Lanka', 'New Zealand']}\n",
    "\n",
    "SOLUTION:\n",
    "* The three view objects in dictionaries are keys, values and items.<br>\n",
    "* These are dynamic view objects, that is when some changes are made in the dictionary, these will reflect those changes.\n",
    "* The three in-built methods for accessing these view objects are keys(),values() and items()."
   ]
  },
  {
   "cell_type": "code",
   "execution_count": null,
   "id": "c999ceb3",
   "metadata": {},
   "outputs": [],
   "source": [
    "\n",
    "dict1 = {'Sport': 'Cricket' , 'Teams': ['India', 'Australia', 'England', 'South Africa', 'Sri Lanka', 'New Zealand']}\n",
    "\n",
    "#accessing the view objects of cars dictionary\n",
    "print(dict1.keys())\n",
    "print(dict1.values())\n",
    "print(dict1.items())"
   ]
  },
  {
   "cell_type": "code",
   "execution_count": null,
   "id": "38509c58",
   "metadata": {},
   "outputs": [],
   "source": []
  }
 ],
 "metadata": {
  "kernelspec": {
   "display_name": "Python 3 (ipykernel)",
   "language": "python",
   "name": "python3"
  },
  "language_info": {
   "codemirror_mode": {
    "name": "ipython",
    "version": 3
   },
   "file_extension": ".py",
   "mimetype": "text/x-python",
   "name": "python",
   "nbconvert_exporter": "python",
   "pygments_lexer": "ipython3",
   "version": "3.9.13"
  }
 },
 "nbformat": 4,
 "nbformat_minor": 5
}
